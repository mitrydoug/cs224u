{
 "cells": [
  {
   "cell_type": "code",
   "execution_count": 11,
   "metadata": {},
   "outputs": [
    {
     "name": "stdout",
     "output_type": "stream",
     "text": [
      "The autoreload extension is already loaded. To reload it, use:\n",
      "  %reload_ext autoreload\n"
     ]
    }
   ],
   "source": [
    "import numpy as np \n",
    "import pandas as pd\n",
    "\n",
    "from data import RandomData, AmazonBooks, ToyData, MovieLensData\n",
    "from clustering import ClusteringModel\n",
    "\n",
    "%matplotlib inline\n",
    "%load_ext autoreload\n",
    "%autoreload 2"
   ]
  },
  {
   "cell_type": "markdown",
   "metadata": {},
   "source": [
    "## Data stuff "
   ]
  },
  {
   "cell_type": "code",
   "execution_count": 2,
   "metadata": {},
   "outputs": [
    {
     "name": "stdout",
     "output_type": "stream",
     "text": [
      "loading preprocessed dataset from disk\n"
     ]
    }
   ],
   "source": [
    "ds = AmazonBooks(min_user_ratings=10).get_dataset(verbose=True)\n",
    "train = ds['train']\n",
    "val = ds['val']"
   ]
  },
  {
   "cell_type": "code",
   "execution_count": 3,
   "metadata": {},
   "outputs": [
    {
     "name": "stdout",
     "output_type": "stream",
     "text": [
      "dict_keys(['user_product_ratings', 'product_descriptions', 'product_reviews'])\n"
     ]
    },
    {
     "data": {
      "text/html": [
       "<div>\n",
       "<style scoped>\n",
       "    .dataframe tbody tr th:only-of-type {\n",
       "        vertical-align: middle;\n",
       "    }\n",
       "\n",
       "    .dataframe tbody tr th {\n",
       "        vertical-align: top;\n",
       "    }\n",
       "\n",
       "    .dataframe thead th {\n",
       "        text-align: right;\n",
       "    }\n",
       "</style>\n",
       "<table border=\"1\" class=\"dataframe\">\n",
       "  <thead>\n",
       "    <tr style=\"text-align: right;\">\n",
       "      <th></th>\n",
       "      <th>product_id</th>\n",
       "      <th>rating</th>\n",
       "      <th>user_id</th>\n",
       "    </tr>\n",
       "  </thead>\n",
       "  <tbody>\n",
       "    <tr>\n",
       "      <th>0</th>\n",
       "      <td>6155</td>\n",
       "      <td>5.0</td>\n",
       "      <td>508</td>\n",
       "    </tr>\n",
       "    <tr>\n",
       "      <th>1</th>\n",
       "      <td>6155</td>\n",
       "      <td>5.0</td>\n",
       "      <td>557</td>\n",
       "    </tr>\n",
       "    <tr>\n",
       "      <th>2</th>\n",
       "      <td>2060</td>\n",
       "      <td>5.0</td>\n",
       "      <td>992</td>\n",
       "    </tr>\n",
       "    <tr>\n",
       "      <th>3</th>\n",
       "      <td>2060</td>\n",
       "      <td>5.0</td>\n",
       "      <td>606</td>\n",
       "    </tr>\n",
       "    <tr>\n",
       "      <th>4</th>\n",
       "      <td>6009</td>\n",
       "      <td>4.0</td>\n",
       "      <td>250</td>\n",
       "    </tr>\n",
       "  </tbody>\n",
       "</table>\n",
       "</div>"
      ],
      "text/plain": [
       "   product_id  rating  user_id\n",
       "0        6155     5.0      508\n",
       "1        6155     5.0      557\n",
       "2        2060     5.0      992\n",
       "3        2060     5.0      606\n",
       "4        6009     4.0      250"
      ]
     },
     "execution_count": 3,
     "metadata": {},
     "output_type": "execute_result"
    }
   ],
   "source": [
    "print(train.keys())\n",
    "train['user_product_ratings'].head()"
   ]
  },
  {
   "cell_type": "code",
   "execution_count": 4,
   "metadata": {},
   "outputs": [],
   "source": [
    "# len(train['user_product_ratings'].groupby('user_id')['rating'].count())\n",
    "\n",
    "grouped_reviews = train['user_product_ratings'].groupby('user_id')['user_id', 'product_id', 'rating']\n",
    "#     .aggregate(\\\n",
    "#         {'user_id':['mean'], 'review':lambda x: list(x)})\n",
    "# grouped_reviews .columns = ['product_id', 'review']"
   ]
  },
  {
   "cell_type": "code",
   "execution_count": 91,
   "metadata": {},
   "outputs": [],
   "source": [
    "# grouped_reviews.groups.keys()"
   ]
  },
  {
   "cell_type": "code",
   "execution_count": 202,
   "metadata": {},
   "outputs": [],
   "source": [
    "# c_model = ClusteringModel()\n",
    "# c_model._initialize_users(train)\n",
    "# \n"
   ]
  },
  {
   "cell_type": "code",
   "execution_count": 98,
   "metadata": {},
   "outputs": [
    {
     "name": "stdout",
     "output_type": "stream",
     "text": [
      "[(2910, 4.0), (13886, 5.0), (8848, 5.0)]\n"
     ]
    },
    {
     "data": {
      "text/html": [
       "<div>\n",
       "<style scoped>\n",
       "    .dataframe tbody tr th:only-of-type {\n",
       "        vertical-align: middle;\n",
       "    }\n",
       "\n",
       "    .dataframe tbody tr th {\n",
       "        vertical-align: top;\n",
       "    }\n",
       "\n",
       "    .dataframe thead th {\n",
       "        text-align: right;\n",
       "    }\n",
       "</style>\n",
       "<table border=\"1\" class=\"dataframe\">\n",
       "  <thead>\n",
       "    <tr style=\"text-align: right;\">\n",
       "      <th></th>\n",
       "      <th>user_id</th>\n",
       "      <th>product_id</th>\n",
       "      <th>rating</th>\n",
       "    </tr>\n",
       "  </thead>\n",
       "  <tbody>\n",
       "    <tr>\n",
       "      <th>943</th>\n",
       "      <td>1</td>\n",
       "      <td>2910</td>\n",
       "      <td>4.0</td>\n",
       "    </tr>\n",
       "    <tr>\n",
       "      <th>10947</th>\n",
       "      <td>1</td>\n",
       "      <td>13886</td>\n",
       "      <td>5.0</td>\n",
       "    </tr>\n",
       "    <tr>\n",
       "      <th>10951</th>\n",
       "      <td>1</td>\n",
       "      <td>8848</td>\n",
       "      <td>5.0</td>\n",
       "    </tr>\n",
       "  </tbody>\n",
       "</table>\n",
       "</div>"
      ],
      "text/plain": [
       "       user_id  product_id  rating\n",
       "943          1        2910     4.0\n",
       "10947        1       13886     5.0\n",
       "10951        1        8848     5.0"
      ]
     },
     "execution_count": 98,
     "metadata": {},
     "output_type": "execute_result"
    }
   ],
   "source": [
    "print(u.ratings)\n",
    "g"
   ]
  },
  {
   "cell_type": "code",
   "execution_count": 203,
   "metadata": {},
   "outputs": [
    {
     "data": {
      "text/plain": [
       "{2910: (4.0, 1), 8848: (5.0, 1), 13886: (5.0, 1)}"
      ]
     },
     "execution_count": 203,
     "metadata": {},
     "output_type": "execute_result"
    }
   ],
   "source": [
    "c.add_user(u)\n",
    "c.new_center"
   ]
  },
  {
   "cell_type": "code",
   "execution_count": 204,
   "metadata": {},
   "outputs": [
    {
     "data": {
      "text/plain": [
       "{2910: 4.0, 8848: 5.0, 13886: 5.0}"
      ]
     },
     "execution_count": 204,
     "metadata": {},
     "output_type": "execute_result"
    }
   ],
   "source": [
    "c.recenter()\n",
    "c.center"
   ]
  },
  {
   "cell_type": "markdown",
   "metadata": {},
   "source": [
    "## centroid small tests  "
   ]
  },
  {
   "cell_type": "code",
   "execution_count": 35,
   "metadata": {},
   "outputs": [
    {
     "name": "stdout",
     "output_type": "stream",
     "text": [
      "ratings\n",
      "{2910: 4.0, 13886: 5.0, 8848: 5.0}\n",
      "ratings\n",
      "{9511: 4.0, 9704: 3.0, 14354: 4.0, 9999: 4.0, 13520: 4.0, 3718: 5.0, 7601: 4.0, 4321: 5.0, 11129: 5.0}\n",
      "{2910: 4.0, 13886: 5.0, 8848: 5.0}\n",
      "{2910: 4.0, 13886: 5.0, 8848: 5.0}\n",
      "just_centroid set()\n",
      "just_user set()\n",
      "0.0\n",
      "0.0\n",
      "0.0\n"
     ]
    },
    {
     "data": {
      "text/plain": [
       "0.0"
      ]
     },
     "execution_count": 35,
     "metadata": {},
     "output_type": "execute_result"
    }
   ],
   "source": [
    "from clustering import *\n",
    "\n",
    "g = grouped_reviews.get_group(1)\n",
    "\n",
    "c_model = ClusteringModel()\n",
    "u = c_model.user(user_id= 0, grouped_data=g)\n",
    "c = c_model.centroid(centroid_id = 0, initial_center={})\n",
    "\n",
    "c.add_user(u)\n",
    "c.recenter()\n",
    "\n",
    "u2 =  c_model.user(user_id= 1, grouped_data=grouped_reviews.get_group(2))\n",
    "\n",
    "print(c.center)\n",
    "print(u.ratings)\n",
    "\n",
    "c_model._distance(u, c)"
   ]
  },
  {
   "cell_type": "code",
   "execution_count": 39,
   "metadata": {},
   "outputs": [
    {
     "name": "stdout",
     "output_type": "stream",
     "text": [
      "just_centroid {8848, 2910, 13886}\n",
      "just_user set()\n",
      "0.0\n",
      "0.0\n",
      "8.12403840463596\n"
     ]
    },
    {
     "data": {
      "text/plain": [
       "0.08124038404635961"
      ]
     },
     "execution_count": 39,
     "metadata": {},
     "output_type": "execute_result"
    }
   ],
   "source": [
    "c_model._distance(u2, c)"
   ]
  },
  {
   "cell_type": "code",
   "execution_count": 37,
   "metadata": {},
   "outputs": [
    {
     "name": "stdout",
     "output_type": "stream",
     "text": [
      "{9511: 4.0, 9704: 3.0, 14354: 4.0, 9999: 4.0, 13520: 4.0, 3718: 5.0, 7601: 4.0, 4321: 5.0, 11129: 5.0, 2910: 4.0, 13886: 5.0, 8848: 5.0}\n"
     ]
    }
   ],
   "source": [
    "# will clear and add users u2, u\n",
    "c.add_user(u2)\n",
    "c.add_user(u)\n",
    "c.recenter()\n",
    "print(c.center)"
   ]
  },
  {
   "cell_type": "code",
   "execution_count": 38,
   "metadata": {},
   "outputs": [
    {
     "name": "stdout",
     "output_type": "stream",
     "text": [
      "{9511: 4.0, 9704: 3.0, 14354: 4.0, 9999: 4.0, 13520: 4.0, 3718: 5.0, 7601: 4.0, 4321: 5.0, 11129: 5.0, 2910: 4.0, 13886: 5.0, 8848: 5.0}\n",
      "{9511: 4.0, 9704: 3.0, 14354: 4.0, 9999: 4.0, 13520: 4.0, 3718: 5.0, 7601: 4.0, 4321: 5.0, 11129: 5.0}\n",
      "{4321, 3718, 9511, 9704, 9999, 13520, 7601, 14354, 11129}\n"
     ]
    }
   ],
   "source": [
    "print(c.center)\n",
    "print(u2.ratings)\n",
    "\n",
    "        \n",
    "set_centroid = set(c.center.keys())\n",
    "set_user =  set(u2.ratings.keys())\n",
    "\n",
    "# intersection only \n",
    "intersection = set_centroid & set_user\n",
    "                \n",
    "print(intersection)"
   ]
  },
  {
   "cell_type": "code",
   "execution_count": 16,
   "metadata": {},
   "outputs": [
    {
     "name": "stdout",
     "output_type": "stream",
     "text": [
      "2910\n",
      "13886\n",
      "8848\n"
     ]
    }
   ],
   "source": [
    "for k in u.ratings:\n",
    "    print(k)"
   ]
  },
  {
   "cell_type": "code",
   "execution_count": 175,
   "metadata": {},
   "outputs": [
    {
     "data": {
      "text/plain": [
       "{96: 4.0,\n",
       " 7116: 5.0,\n",
       " 7361: 5.0,\n",
       " 8285: 4.0,\n",
       " 9516: 4.0,\n",
       " 10141: 5.0,\n",
       " 11536: 5.0,\n",
       " 14914: 5.0}"
      ]
     },
     "execution_count": 175,
     "metadata": {},
     "output_type": "execute_result"
    }
   ],
   "source": [
    "c_model.clusters[1].center"
   ]
  },
  {
   "cell_type": "markdown",
   "metadata": {},
   "source": [
    "## doing k_means"
   ]
  },
  {
   "cell_type": "code",
   "execution_count": null,
   "metadata": {},
   "outputs": [],
   "source": [
    "from clustering import *\n",
    "\n",
    "c_model = ClusteringModel(num_iterations=2)\n",
    "c_model.fit(train)"
   ]
  },
  {
   "cell_type": "code",
   "execution_count": null,
   "metadata": {},
   "outputs": [],
   "source": []
  }
 ],
 "metadata": {
  "kernelspec": {
   "display_name": "Python 3",
   "language": "python",
   "name": "python3"
  },
  "language_info": {
   "codemirror_mode": {
    "name": "ipython",
    "version": 3
   },
   "file_extension": ".py",
   "mimetype": "text/x-python",
   "name": "python",
   "nbconvert_exporter": "python",
   "pygments_lexer": "ipython3",
   "version": "3.6.4"
  }
 },
 "nbformat": 4,
 "nbformat_minor": 2
}
