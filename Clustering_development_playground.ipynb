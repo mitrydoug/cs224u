{
 "cells": [
  {
   "cell_type": "code",
   "execution_count": 1,
   "metadata": {},
   "outputs": [],
   "source": [
    "import numpy as np \n",
    "import pandas as pd\n",
    "\n",
    "from data import RandomData, AmazonBooks, ToyData, MovieLensData\n",
    "from clustering import ClusteringModel\n",
    "\n",
    "%matplotlib inline\n",
    "%load_ext autoreload\n",
    "%autoreload 2"
   ]
  },
  {
   "cell_type": "markdown",
   "metadata": {},
   "source": [
    "## Data stuff "
   ]
  },
  {
   "cell_type": "code",
   "execution_count": 2,
   "metadata": {},
   "outputs": [
    {
     "name": "stdout",
     "output_type": "stream",
     "text": [
      "loading preprocessed dataset from disk\n"
     ]
    }
   ],
   "source": [
    "ds = AmazonBooks(min_user_ratings=10).get_dataset(verbose=True)\n",
    "train = ds['train']\n",
    "val = ds['val']"
   ]
  },
  {
   "cell_type": "code",
   "execution_count": 4,
   "metadata": {},
   "outputs": [
    {
     "name": "stdout",
     "output_type": "stream",
     "text": [
      "dict_keys(['user_product_ratings', 'product_descriptions', 'product_reviews'])\n"
     ]
    },
    {
     "data": {
      "text/html": [
       "<div>\n",
       "<style scoped>\n",
       "    .dataframe tbody tr th:only-of-type {\n",
       "        vertical-align: middle;\n",
       "    }\n",
       "\n",
       "    .dataframe tbody tr th {\n",
       "        vertical-align: top;\n",
       "    }\n",
       "\n",
       "    .dataframe thead th {\n",
       "        text-align: right;\n",
       "    }\n",
       "</style>\n",
       "<table border=\"1\" class=\"dataframe\">\n",
       "  <thead>\n",
       "    <tr style=\"text-align: right;\">\n",
       "      <th></th>\n",
       "      <th>user_id</th>\n",
       "      <th>product_id</th>\n",
       "      <th>rating</th>\n",
       "    </tr>\n",
       "  </thead>\n",
       "  <tbody>\n",
       "    <tr>\n",
       "      <th>0</th>\n",
       "      <td>8996</td>\n",
       "      <td>35623</td>\n",
       "      <td>5.0</td>\n",
       "    </tr>\n",
       "    <tr>\n",
       "      <th>1</th>\n",
       "      <td>8996</td>\n",
       "      <td>35623</td>\n",
       "      <td>5.0</td>\n",
       "    </tr>\n",
       "    <tr>\n",
       "      <th>2</th>\n",
       "      <td>9341</td>\n",
       "      <td>53491</td>\n",
       "      <td>3.0</td>\n",
       "    </tr>\n",
       "    <tr>\n",
       "      <th>3</th>\n",
       "      <td>5598</td>\n",
       "      <td>79465</td>\n",
       "      <td>5.0</td>\n",
       "    </tr>\n",
       "    <tr>\n",
       "      <th>4</th>\n",
       "      <td>7217</td>\n",
       "      <td>63097</td>\n",
       "      <td>5.0</td>\n",
       "    </tr>\n",
       "  </tbody>\n",
       "</table>\n",
       "</div>"
      ],
      "text/plain": [
       "   user_id  product_id  rating\n",
       "0     8996       35623     5.0\n",
       "1     8996       35623     5.0\n",
       "2     9341       53491     3.0\n",
       "3     5598       79465     5.0\n",
       "4     7217       63097     5.0"
      ]
     },
     "execution_count": 4,
     "metadata": {},
     "output_type": "execute_result"
    }
   ],
   "source": [
    "print(train.keys())\n",
    "train['user_product_ratings'].head()"
   ]
  },
  {
   "cell_type": "code",
   "execution_count": 3,
   "metadata": {},
   "outputs": [],
   "source": [
    "# len(train['user_product_ratings'].groupby('user_id')['rating'].count())\n",
    "\n",
    "grouped_reviews = train['user_product_ratings'].groupby('user_id')['user_id', 'product_id', 'rating']\n",
    "#     .aggregate(\\\n",
    "#         {'user_id':['mean'], 'review':lambda x: list(x)})\n",
    "# grouped_reviews .columns = ['product_id', 'review']"
   ]
  },
  {
   "cell_type": "code",
   "execution_count": 91,
   "metadata": {},
   "outputs": [],
   "source": [
    "# grouped_reviews.groups.keys()"
   ]
  },
  {
   "cell_type": "code",
   "execution_count": 202,
   "metadata": {},
   "outputs": [],
   "source": [
    "# c_model = ClusteringModel()\n",
    "# c_model._initialize_users(train)\n",
    "# \n"
   ]
  },
  {
   "cell_type": "code",
   "execution_count": 98,
   "metadata": {},
   "outputs": [
    {
     "name": "stdout",
     "output_type": "stream",
     "text": [
      "[(2910, 4.0), (13886, 5.0), (8848, 5.0)]\n"
     ]
    },
    {
     "data": {
      "text/html": [
       "<div>\n",
       "<style scoped>\n",
       "    .dataframe tbody tr th:only-of-type {\n",
       "        vertical-align: middle;\n",
       "    }\n",
       "\n",
       "    .dataframe tbody tr th {\n",
       "        vertical-align: top;\n",
       "    }\n",
       "\n",
       "    .dataframe thead th {\n",
       "        text-align: right;\n",
       "    }\n",
       "</style>\n",
       "<table border=\"1\" class=\"dataframe\">\n",
       "  <thead>\n",
       "    <tr style=\"text-align: right;\">\n",
       "      <th></th>\n",
       "      <th>user_id</th>\n",
       "      <th>product_id</th>\n",
       "      <th>rating</th>\n",
       "    </tr>\n",
       "  </thead>\n",
       "  <tbody>\n",
       "    <tr>\n",
       "      <th>943</th>\n",
       "      <td>1</td>\n",
       "      <td>2910</td>\n",
       "      <td>4.0</td>\n",
       "    </tr>\n",
       "    <tr>\n",
       "      <th>10947</th>\n",
       "      <td>1</td>\n",
       "      <td>13886</td>\n",
       "      <td>5.0</td>\n",
       "    </tr>\n",
       "    <tr>\n",
       "      <th>10951</th>\n",
       "      <td>1</td>\n",
       "      <td>8848</td>\n",
       "      <td>5.0</td>\n",
       "    </tr>\n",
       "  </tbody>\n",
       "</table>\n",
       "</div>"
      ],
      "text/plain": [
       "       user_id  product_id  rating\n",
       "943          1        2910     4.0\n",
       "10947        1       13886     5.0\n",
       "10951        1        8848     5.0"
      ]
     },
     "execution_count": 98,
     "metadata": {},
     "output_type": "execute_result"
    }
   ],
   "source": [
    "print(u.ratings)\n",
    "g"
   ]
  },
  {
   "cell_type": "code",
   "execution_count": 203,
   "metadata": {},
   "outputs": [
    {
     "data": {
      "text/plain": [
       "{2910: (4.0, 1), 8848: (5.0, 1), 13886: (5.0, 1)}"
      ]
     },
     "execution_count": 203,
     "metadata": {},
     "output_type": "execute_result"
    }
   ],
   "source": [
    "c.add_user(u)\n",
    "c.new_center"
   ]
  },
  {
   "cell_type": "code",
   "execution_count": 204,
   "metadata": {},
   "outputs": [
    {
     "data": {
      "text/plain": [
       "{2910: 4.0, 8848: 5.0, 13886: 5.0}"
      ]
     },
     "execution_count": 204,
     "metadata": {},
     "output_type": "execute_result"
    }
   ],
   "source": [
    "c.recenter()\n",
    "c.center"
   ]
  },
  {
   "cell_type": "markdown",
   "metadata": {},
   "source": [
    "## centroid small tests  "
   ]
  },
  {
   "cell_type": "code",
   "execution_count": 6,
   "metadata": {},
   "outputs": [
    {
     "name": "stdout",
     "output_type": "stream",
     "text": [
      "{19912: 5.0, 127469: 5.0, 133186: 5.0, 37665: 1.0, 94620: 1.0, 39007: 2.0, 38240: 5.0}\n",
      "{19912: 5.0, 127469: 5.0, 133186: 5.0, 37665: 1.0, 94620: 1.0, 39007: 2.0, 38240: 5.0}\n"
     ]
    },
    {
     "data": {
      "text/plain": [
       "0.0"
      ]
     },
     "execution_count": 6,
     "metadata": {},
     "output_type": "execute_result"
    }
   ],
   "source": [
    "from clustering import *\n",
    "\n",
    "g = grouped_reviews.get_group(1)\n",
    "\n",
    "c_model = ClusteringModel()\n",
    "u = c_model.user(user_id= 0, grouped_data=g)\n",
    "c = c_model.centroid(centroid_id = 0, initial_center={})\n",
    "\n",
    "c.add_user(u)\n",
    "c.recenter()\n",
    "\n",
    "u2 =  c_model.user(user_id= 1, grouped_data=grouped_reviews.get_group(2))\n",
    "\n",
    "print(c.center)\n",
    "print(u.ratings)\n",
    "\n",
    "c_model._distance(u, c)"
   ]
  },
  {
   "cell_type": "code",
   "execution_count": 39,
   "metadata": {},
   "outputs": [
    {
     "name": "stdout",
     "output_type": "stream",
     "text": [
      "just_centroid {8848, 2910, 13886}\n",
      "just_user set()\n",
      "0.0\n",
      "0.0\n",
      "8.12403840463596\n"
     ]
    },
    {
     "data": {
      "text/plain": [
       "0.08124038404635961"
      ]
     },
     "execution_count": 39,
     "metadata": {},
     "output_type": "execute_result"
    }
   ],
   "source": [
    "c_model._distance(u2, c)"
   ]
  },
  {
   "cell_type": "code",
   "execution_count": 37,
   "metadata": {},
   "outputs": [
    {
     "name": "stdout",
     "output_type": "stream",
     "text": [
      "{9511: 4.0, 9704: 3.0, 14354: 4.0, 9999: 4.0, 13520: 4.0, 3718: 5.0, 7601: 4.0, 4321: 5.0, 11129: 5.0, 2910: 4.0, 13886: 5.0, 8848: 5.0}\n"
     ]
    }
   ],
   "source": [
    "# will clear and add users u2, u\n",
    "c.add_user(u2)\n",
    "c.add_user(u)\n",
    "c.recenter()\n",
    "print(c.center)"
   ]
  },
  {
   "cell_type": "code",
   "execution_count": 16,
   "metadata": {},
   "outputs": [
    {
     "name": "stdout",
     "output_type": "stream",
     "text": [
      "2910\n",
      "13886\n",
      "8848\n"
     ]
    }
   ],
   "source": [
    "for k in u.ratings:\n",
    "    print(k)"
   ]
  },
  {
   "cell_type": "code",
   "execution_count": 175,
   "metadata": {},
   "outputs": [
    {
     "data": {
      "text/plain": [
       "{96: 4.0,\n",
       " 7116: 5.0,\n",
       " 7361: 5.0,\n",
       " 8285: 4.0,\n",
       " 9516: 4.0,\n",
       " 10141: 5.0,\n",
       " 11536: 5.0,\n",
       " 14914: 5.0}"
      ]
     },
     "execution_count": 175,
     "metadata": {},
     "output_type": "execute_result"
    }
   ],
   "source": [
    "c_model.clusters[1].center"
   ]
  },
  {
   "cell_type": "markdown",
   "metadata": {},
   "source": [
    "## k_means perfing"
   ]
  },
  {
   "cell_type": "code",
   "execution_count": 70,
   "metadata": {},
   "outputs": [],
   "source": [
    "from clustering import *\n",
    "\n",
    "c_model = ClusteringModel(num_iterations=2)"
   ]
  },
  {
   "cell_type": "code",
   "execution_count": 63,
   "metadata": {},
   "outputs": [
    {
     "data": {
      "text/plain": [
       "8.69278100000065"
      ]
     },
     "execution_count": 63,
     "metadata": {},
     "output_type": "execute_result"
    }
   ],
   "source": [
    "def time_target():\n",
    "    c_model = ClusteringModel(num_iterations=2)\n",
    "    c_model.fit(train)\n",
    "\n",
    "import timeit\n",
    "timeit.Timer(stmt=time_target).timeit(number=30)\n"
   ]
  },
  {
   "cell_type": "code",
   "execution_count": 67,
   "metadata": {},
   "outputs": [
    {
     "data": {
      "text/plain": [
       "9.443330999999489"
      ]
     },
     "execution_count": 67,
     "metadata": {},
     "output_type": "execute_result"
    }
   ],
   "source": [
    "# for 10 \n",
    "timeit.Timer(time_target, 'gc.enable()').timeit(number=30)\n"
   ]
  },
  {
   "cell_type": "code",
   "execution_count": 69,
   "metadata": {},
   "outputs": [
    {
     "data": {
      "text/plain": [
       "17.352155999999923"
      ]
     },
     "execution_count": 69,
     "metadata": {},
     "output_type": "execute_result"
    }
   ],
   "source": [
    "# for 50 \n",
    "timeit.Timer(time_target, 'gc.enable()').timeit(number=30)\n"
   ]
  },
  {
   "cell_type": "code",
   "execution_count": 71,
   "metadata": {},
   "outputs": [
    {
     "data": {
      "text/plain": [
       "20.161965999999666"
      ]
     },
     "execution_count": 71,
     "metadata": {},
     "output_type": "execute_result"
    }
   ],
   "source": [
    "# for 70\n",
    "timeit.Timer(time_target, 'gc.enable()').timeit(number=30)\n"
   ]
  },
  {
   "cell_type": "code",
   "execution_count": 72,
   "metadata": {},
   "outputs": [
    {
     "data": {
      "text/plain": [
       "649.8086430000003"
      ]
     },
     "execution_count": 72,
     "metadata": {},
     "output_type": "execute_result"
    }
   ],
   "source": [
    "# for 973\n",
    "timeit.Timer(time_target, 'gc.enable()').timeit(number=30)\n"
   ]
  },
  {
   "cell_type": "code",
   "execution_count": null,
   "metadata": {},
   "outputs": [],
   "source": []
  },
  {
   "cell_type": "markdown",
   "metadata": {},
   "source": [
    "## converting results from clustering to be part of the database object\n",
    "Goal take in map {user_id: cluster} and update the way we store data\n",
    "\n",
    "in "
   ]
  },
  {
   "cell_type": "code",
   "execution_count": 5,
   "metadata": {},
   "outputs": [],
   "source": [
    "from clustering import *\n",
    "\n",
    "c_model = ClusteringModel(num_iterations=70)\n",
    "c_model.fit(train)\n"
   ]
  },
  {
   "cell_type": "markdown",
   "metadata": {},
   "source": [
    "## clustering movie lens"
   ]
  },
  {
   "cell_type": "code",
   "execution_count": 4,
   "metadata": {},
   "outputs": [
    {
     "name": "stdout",
     "output_type": "stream",
     "text": [
      "The autoreload extension is already loaded. To reload it, use:\n",
      "  %reload_ext autoreload\n",
      "loading preprocessed dataset from disk\n"
     ]
    }
   ],
   "source": [
    "import numpy as np \n",
    "import pandas as pd\n",
    "\n",
    "from data import RandomData, AmazonBooks, ToyData, MovieLensData\n",
    "from clustering import ClusteringModel\n",
    "\n",
    "%matplotlib inline\n",
    "%load_ext autoreload\n",
    "%autoreload 2\n",
    "\n",
    "ds = AmazonBooks(min_user_ratings=10).get_dataset(verbose=True)\n",
    "# c_model = ClusteringModel(num_iterations=70)\n",
    "# c_model.fit(train)\n"
   ]
  },
  {
   "cell_type": "code",
   "execution_count": 5,
   "metadata": {},
   "outputs": [],
   "source": [
    "grouped_reviews = ds['train']['user_product_ratings'].groupby('user_id')['user_id', 'product_id', 'rating']\n"
   ]
  },
  {
   "cell_type": "code",
   "execution_count": 6,
   "metadata": {},
   "outputs": [
    {
     "data": {
      "text/plain": [
       "9643"
      ]
     },
     "execution_count": 6,
     "metadata": {},
     "output_type": "execute_result"
    }
   ],
   "source": [
    "len(grouped_reviews.groups.keys())"
   ]
  },
  {
   "cell_type": "code",
   "execution_count": null,
   "metadata": {},
   "outputs": [
    {
     "name": "stdout",
     "output_type": "stream",
     "text": [
      "interation: 0\n",
      "interation: 1\n",
      "interation: 2\n",
      "interation: 3\n",
      "interation: 4\n"
     ]
    }
   ],
   "source": [
    "c_model = ClusteringModel(num_clusters=100,num_iterations=200)\n",
    "c_model.fit(ds['train'])"
   ]
  },
  {
   "cell_type": "code",
   "execution_count": 18,
   "metadata": {},
   "outputs": [],
   "source": [
    "assignments_train = {u.user_id:u.assigned_cluster for u in c_model.users} \n",
    "centers = [c.center for c in c_model.clusters]"
   ]
  },
  {
   "cell_type": "code",
   "execution_count": 20,
   "metadata": {},
   "outputs": [],
   "source": [
    "import pickle\n",
    "pickle.dump(assignments_train, open( \"Amazon10_train_user_assignments.p\", \"wb\" ) )\n",
    "pickle.dump(centers, open( \"Amazon10_train_centers.p\", \"wb\" ) )\n",
    "\n",
    " "
   ]
  },
  {
   "cell_type": "code",
   "execution_count": null,
   "metadata": {},
   "outputs": [],
   "source": []
  }
 ],
 "metadata": {
  "kernelspec": {
   "display_name": "Python 3",
   "language": "python",
   "name": "python3"
  }
 },
 "nbformat": 4,
 "nbformat_minor": 2
}
