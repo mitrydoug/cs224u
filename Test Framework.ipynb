{
 "cells": [
  {
   "cell_type": "code",
   "execution_count": 19,
   "metadata": {
    "collapsed": true
   },
   "outputs": [],
   "source": [
    "import numpy as np \n",
    "import pandas as pd\n",
    "\n",
    "from data import RandomData, AmazonBooks, ToyData, MovieLensData\n",
    "from model import RandomModel, CombinedMeanModel, ItemItemCollaborationModel\n",
    "\n",
    "%matplotlib inline"
   ]
  },
  {
   "cell_type": "code",
   "execution_count": 20,
   "metadata": {},
   "outputs": [
    {
     "name": "stdout",
     "output_type": "stream",
     "text": [
      "The autoreload extension is already loaded. To reload it, use:\n",
      "  %reload_ext autoreload\n"
     ]
    }
   ],
   "source": [
    "%load_ext autoreload\n",
    "%autoreload 2"
   ]
  },
  {
   "cell_type": "markdown",
   "metadata": {},
   "source": [
    "### Load Data"
   ]
  },
  {
   "cell_type": "code",
   "execution_count": 21,
   "metadata": {},
   "outputs": [
    {
     "name": "stdout",
     "output_type": "stream",
     "text": [
      "loading preprocessed dataset from disk\n"
     ]
    }
   ],
   "source": [
    "ds = AmazonBooks().get_dataset(verbose=True)\n",
    "train = ds['train']\n",
    "val = ds['val']"
   ]
  },
  {
   "cell_type": "code",
   "execution_count": 22,
   "metadata": {},
   "outputs": [
    {
     "data": {
      "text/plain": [
       "(119992, 124008, 233681)"
      ]
     },
     "execution_count": 22,
     "metadata": {},
     "output_type": "execute_result"
    }
   ],
   "source": [
    "(len(ds['test']['user_product_ratings']),\n",
    " len(ds['val']['user_product_ratings']),\n",
    " len(ds['train']['user_product_ratings']))"
   ]
  },
  {
   "cell_type": "code",
   "execution_count": 6,
   "metadata": {},
   "outputs": [
    {
     "data": {
      "text/plain": [
       "Series([], Name: rating, dtype: int64)"
      ]
     },
     "execution_count": 6,
     "metadata": {},
     "output_type": "execute_result"
    }
   ],
   "source": [
    "train['user_product_ratings'].rating.value_counts()"
   ]
  },
  {
   "cell_type": "code",
   "execution_count": 6,
   "metadata": {},
   "outputs": [
    {
     "data": {
      "text/plain": [
       "31840"
      ]
     },
     "execution_count": 6,
     "metadata": {},
     "output_type": "execute_result"
    }
   ],
   "source": [
    "len(set(ds['train']['user_product_ratings'].user_id))"
   ]
  },
  {
   "cell_type": "code",
   "execution_count": 7,
   "metadata": {},
   "outputs": [
    {
     "data": {
      "text/plain": [
       "32613"
      ]
     },
     "execution_count": 7,
     "metadata": {},
     "output_type": "execute_result"
    }
   ],
   "source": [
    "len(set(ds['val']['user_product_ratings'].user_id))"
   ]
  },
  {
   "cell_type": "code",
   "execution_count": 8,
   "metadata": {},
   "outputs": [
    {
     "data": {
      "text/plain": [
       "(42287, 42767, 61076)"
      ]
     },
     "execution_count": 8,
     "metadata": {},
     "output_type": "execute_result"
    }
   ],
   "source": [
    "(len(ds['test']['product_descriptions']),\n",
    " len(ds['val']['product_descriptions']),\n",
    " len(ds['train']['product_descriptions']))"
   ]
  },
  {
   "cell_type": "code",
   "execution_count": 9,
   "metadata": {},
   "outputs": [
    {
     "data": {
      "text/plain": [
       "(860816, 864242, 874476)"
      ]
     },
     "execution_count": 9,
     "metadata": {},
     "output_type": "execute_result"
    }
   ],
   "source": [
    "(len(ds['test']['product_reviews']),\n",
    " len(ds['val']['product_reviews']),\n",
    " len(ds['train']['product_reviews']))"
   ]
  },
  {
   "cell_type": "code",
   "execution_count": null,
   "metadata": {
    "collapsed": true
   },
   "outputs": [],
   "source": [
    "ds['train']['user_product_ratings'].groupby('user_id')['rating'].count().hist(log=True)"
   ]
  },
  {
   "cell_type": "markdown",
   "metadata": {},
   "source": [
    "### Accuracy Metrics"
   ]
  },
  {
   "cell_type": "code",
   "execution_count": 15,
   "metadata": {
    "collapsed": true
   },
   "outputs": [],
   "source": [
    "def mean_squared_error(pred, ground_truth):\n",
    "    return np.mean((pred - ground_truth) ** 2.)"
   ]
  },
  {
   "cell_type": "code",
   "execution_count": 16,
   "metadata": {
    "collapsed": true
   },
   "outputs": [],
   "source": [
    "def accuracy(pred, ground_truth):\n",
    "    return (np.round(pred) == ground_truth).sum() / float(len(pred))"
   ]
  },
  {
   "cell_type": "code",
   "execution_count": 17,
   "metadata": {
    "collapsed": true
   },
   "outputs": [],
   "source": [
    "def evaluate_model(model, train, val, loss_fn):\n",
    "    model.fit(train)\n",
    "    train_up_rat = train['user_product_ratings']\n",
    "    val_up_rat = val['user_product_ratings'].copy()\n",
    "    val_up_rat['pred'] = model.predict(val_up_rat[['user_id', 'product_id']])\n",
    "    \n",
    "    train_users = set(train['user_product_ratings'].user_id)\n",
    "    train_products = set(train['user_product_ratings'].product_id)\n",
    "    \n",
    "    train_loss = loss_fn(model.predict(train_up_rat[['user_id', 'product_id']]),\n",
    "                         train_up_rat.rating)\n",
    "    \n",
    "    val_loss = loss_fn(model.predict(val_up_rat[['user_id', 'product_id']]),\n",
    "                       val_up_rat.rating)\n",
    "    \n",
    "    A_data = val_up_rat[val_up_rat.user_id.isin(train_users) & \n",
    "                        val_up_rat.product_id.isin(train_products)]\n",
    "    A_loss = loss_fn(A_data.pred, A_data.rating)\n",
    "    \n",
    "    B_data = val_up_rat[~val_up_rat.user_id.isin(train_users) &\n",
    "                        val_up_rat.product_id.isin(train_products)]\n",
    "    B_loss = loss_fn(B_data.pred, B_data.rating)\n",
    "    \n",
    "    C_data = val_up_rat[val_up_rat.user_id.isin(train_users) &\n",
    "                        ~val_up_rat.product_id.isin(train_products)]\n",
    "    C_loss = loss_fn(C_data.pred, C_data.rating)\n",
    "    \n",
    "    D_data = val_up_rat[~val_up_rat.user_id.isin(train_users) &\n",
    "                        ~val_up_rat.product_id.isin(train_products)]\n",
    "    D_loss = loss_fn(D_data.pred, D_data.rating)\n",
    "    \n",
    "    print('\\n'.join(\n",
    "        ['     Products',\n",
    "         '    -----------',\n",
    "         '   |       |   |  (A.x) TRAIN SET',\n",
    "         ' U | (A.x) |   |  (A.o) VAL CELL HOLDOUT',\n",
    "         ' s | (A.o) |(C)|    (B) VAL USER HOLDOUT',\n",
    "         ' e |       |   |    (C) VAL PRODUCT HOLDOUT',\n",
    "         ' r |       |   |    (D) VAL PRODUCT & USER HOLDOUT',\n",
    "         ' s |-------|---|    (V) VAL SET',\n",
    "         '   |  (B)  |(D)|',\n",
    "         '    -----------',\n",
    "         '================================',\n",
    "         '']))\n",
    "    \n",
    "    def stats(data, loss, lbl):\n",
    "        print(lbl)\n",
    "        print(f'      Number of users: {len(set(data.user_id))}')\n",
    "        print(f'      Number of proucts: {len(set(data.product_id))}')\n",
    "        print(f'      Number of ratings: {len(data)}')\n",
    "        print(f'      loss: {loss}\\n')\n",
    "    stats(train_up_rat, train_loss, '(A.x) TRAIN SET')\n",
    "    stats(val_up_rat, val_loss, '  (V) VAL SET')\n",
    "    stats(A_data, A_loss, '(A.o) VAL CELL HOLDOUT')\n",
    "    stats(B_data, B_loss, '  (B) VAL USER HOLDOUT')\n",
    "    stats(C_data, C_loss, '  (C) VAL PRODUCT HOLDOUT')\n",
    "    stats(D_data, D_loss, '  (D) VAL PRODUCT & USER HOLDOUT')\n",
    "    return val_loss, A_loss, B_loss, C_loss, D_loss"
   ]
  },
  {
   "cell_type": "code",
   "execution_count": null,
   "metadata": {},
   "outputs": [],
   "source": [
    "model = ItemItemCollaborationModel()\n",
    "_ = evaluate_model(model, train, val, mean_squared_error)"
   ]
  },
  {
   "cell_type": "code",
   "execution_count": null,
   "metadata": {
    "collapsed": true
   },
   "outputs": [],
   "source": [
    "model = SimpleMeanModel()\n",
    "_ = evaluate_model(model, train, val, mean_squared_error)"
   ]
  },
  {
   "cell_type": "code",
   "execution_count": null,
   "metadata": {
    "collapsed": true
   },
   "outputs": [],
   "source": [
    "model = UserMeanModel()\n",
    "_ = evaluate_model(model, train, val, mean_squared_error)"
   ]
  },
  {
   "cell_type": "code",
   "execution_count": null,
   "metadata": {
    "collapsed": true
   },
   "outputs": [],
   "source": [
    "model = ProductMeanModel()\n",
    "_ = evaluate_model(model, train, val, mean_squared_error)"
   ]
  },
  {
   "cell_type": "code",
   "execution_count": null,
   "metadata": {
    "collapsed": true
   },
   "outputs": [],
   "source": [
    "model = CombinedMeanModel()\n",
    "_ = evaluate_model(model, train, val, mean_squared_error)"
   ]
  },
  {
   "cell_type": "code",
   "execution_count": null,
   "metadata": {
    "collapsed": true
   },
   "outputs": [],
   "source": []
  }
 ],
 "metadata": {
  "kernelspec": {
   "display_name": "Python 3",
   "language": "python",
   "name": "python3"
  },
  "language_info": {
   "codemirror_mode": {
    "name": "ipython",
    "version": 3
   },
   "file_extension": ".py",
   "mimetype": "text/x-python",
   "name": "python",
   "nbconvert_exporter": "python",
   "pygments_lexer": "ipython3",
   "version": "3.6.3"
  }
 },
 "nbformat": 4,
 "nbformat_minor": 2
}
