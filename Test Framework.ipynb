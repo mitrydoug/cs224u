{
 "cells": [
  {
   "cell_type": "code",
   "execution_count": 75,
   "metadata": {},
   "outputs": [],
   "source": [
    "import numpy as np \n",
    "import pandas as pd\n",
    "\n",
    "from data import RandomData, MovieLensData\n",
    "from model import RandomModel"
   ]
  },
  {
   "cell_type": "code",
   "execution_count": 2,
   "metadata": {},
   "outputs": [],
   "source": [
    "%load_ext autoreload\n",
    "%autoreload 2"
   ]
  },
  {
   "cell_type": "markdown",
   "metadata": {},
   "source": [
    "### Load Data"
   ]
  },
  {
   "cell_type": "code",
   "execution_count": 44,
   "metadata": {},
   "outputs": [],
   "source": [
    "import os\n",
    "os.mkdir('trial')\n"
   ]
  },
  {
   "cell_type": "code",
   "execution_count": 84,
   "metadata": {},
   "outputs": [],
   "source": [
    "dataset = MovieLensData(frac=1).save_dataset(output_dir='trial')"
   ]
  },
  {
   "cell_type": "code",
   "execution_count": 85,
   "metadata": {},
   "outputs": [],
   "source": [
    "train = MovieLensData().get_train(path='trial')\n",
    "test =  MovieLensData().get_test(path='trial')"
   ]
  },
  {
   "cell_type": "code",
   "execution_count": 86,
   "metadata": {},
   "outputs": [
    {
     "name": "stdout",
     "output_type": "stream",
     "text": [
      "62452983\n",
      "15619884\n"
     ]
    }
   ],
   "source": [
    "print(train['user_product_ratings'].size)\n",
    "print(test['user_product_ratings'].size)"
   ]
  },
  {
   "cell_type": "code",
   "execution_count": 91,
   "metadata": {},
   "outputs": [
    {
     "name": "stdout",
     "output_type": "stream",
     "text": [
      "0\n",
      "0\n",
      "dict_keys(['user_product_ratings', 'user_product_reviews'])\n"
     ]
    }
   ],
   "source": [
    "print(train['user_product_reviews'].size)\n",
    "print(test['user_product_reviews'].size)\n",
    "print(train.keys())"
   ]
  },
  {
   "cell_type": "code",
   "execution_count": 87,
   "metadata": {},
   "outputs": [
    {
     "name": "stdout",
     "output_type": "stream",
     "text": [
      "          user_id  product_id  rating\n",
      "2087399    129768       31058     3.0\n",
      "22954791   153756       25956     4.0\n",
      "5734741    225417       26202     1.5\n",
      "5662784    224646       44840     2.0\n",
      "10290602     6901       30163     4.0\n"
     ]
    }
   ],
   "source": [
    "print(train['user_product_ratings'].head())"
   ]
  },
  {
   "cell_type": "code",
   "execution_count": 88,
   "metadata": {},
   "outputs": [
    {
     "name": "stdout",
     "output_type": "stream",
     "text": [
      "189.0\n"
     ]
    }
   ],
   "source": [
    "import matplotlib.pyplot as plt\n",
    "\n",
    "train['user_product_ratings']['count'] = 1\n",
    "group_user = (train['user_product_ratings']).groupby(by='user_id').sum()\n",
    "user_ratings_counts = group_user['count']\n",
    "\n",
    "outlier = np.percentile(user_ratings_counts, 90)\n",
    "# group_user.head()\n",
    "print(outlier)"
   ]
  },
  {
   "cell_type": "code",
   "execution_count": 89,
   "metadata": {},
   "outputs": [
    {
     "data": {
      "image/png": "[encoded data removed]",
      "text/plain": [
       "<matplotlib.figure.Figure at 0x7f86ee5abac8>"
      ]
     },
     "metadata": {},
     "output_type": "display_data"
    }
   ],
   "source": [
    "plt.hist([u for u in user_ratings_counts if u < outlier])\n",
    "# plt.hist(user_ratings_counts )\n",
    "plt.title(\"user_review_counts_hist\")\n",
    "plt.xlabel(\"user\")\n",
    "plt.ylabel(\"review freq\")\n",
    "\n",
    "fig = plt.gcf()"
   ]
  },
  {
   "cell_type": "markdown",
   "metadata": {},
   "source": [
    "### MSE Accuracy Metric"
   ]
  },
  {
   "cell_type": "code",
   "execution_count": 46,
   "metadata": {
    "collapsed": true
   },
   "outputs": [],
   "source": [
    "def evaluate_model(model, user_product_ratings_test):\n",
    "    pred = model.predict(user_product_ratings_test[['user_id', 'product_id']])\n",
    "    mse = np.mean((pred - user_product_ratings_test.rating) ** 2.)\n",
    "    print(f'MSE: {mse:.2f}')\n",
    "    return mse"
   ]
  },
  {
   "cell_type": "code",
   "execution_count": 50,
   "metadata": {},
   "outputs": [
    {
     "name": "stdout",
     "output_type": "stream",
     "text": [
      "MSE: 2.88\n"
     ]
    },
    {
     "data": {
      "text/plain": [
       "2.87868"
      ]
     },
     "execution_count": 50,
     "metadata": {},
     "output_type": "execute_result"
    }
   ],
   "source": [
    "model = RandomModel()\n",
    "model.fit(train)\n",
    "evaluate_model(model, train['user_product_ratings'])"
   ]
  },
  {
   "cell_type": "code",
   "execution_count": null,
   "metadata": {
    "collapsed": true
   },
   "outputs": [],
   "source": []
  }
 ],
 "metadata": {
  "kernelspec": {
   "display_name": "Python 3",
   "language": "python",
   "name": "python3"
  },
  "language_info": {
   "codemirror_mode": {
    "name": "ipython",
    "version": 3
   },
   "file_extension": ".py",
   "mimetype": "text/x-python",
   "name": "python",
   "nbconvert_exporter": "python",
   "pygments_lexer": "ipython3",
   "version": "3.6.4"
  }
 },
 "nbformat": 4,
 "nbformat_minor": 2
}
