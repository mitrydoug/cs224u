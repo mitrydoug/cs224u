{
 "cells": [
  {
   "cell_type": "code",
   "execution_count": 6,
   "metadata": {},
   "outputs": [],
   "source": [
    "import numpy as np \n",
    "import pandas as pd\n",
    "\n",
    "from data import RandomData\n",
    "from model import RandomModel"
   ]
  },
  {
   "cell_type": "code",
   "execution_count": 7,
   "metadata": {},
   "outputs": [],
   "source": [
    "%load_ext autoreload\n",
    "%autoreload 2"
   ]
  },
  {
   "cell_type": "markdown",
   "metadata": {},
   "source": [
    "### Load Data"
   ]
  },
  {
   "cell_type": "code",
   "execution_count": 15,
   "metadata": {},
   "outputs": [],
   "source": [
    "dataset = RandomData(num_users=1000, num_products=1000, rnd_state=42).get_dataset()\n",
    "train = dataset['train']"
   ]
  },
  {
   "cell_type": "code",
   "execution_count": 16,
   "metadata": {},
   "outputs": [
    {
     "name": "stdout",
     "output_type": "stream",
     "text": [
      "dict_keys(['user_product_ratings', 'product_descriptions', 'user_product_reviews'])\n"
     ]
    }
   ],
   "source": [
    "print(train.keys())"
   ]
  },
  {
   "cell_type": "code",
   "execution_count": 18,
   "metadata": {},
   "outputs": [
    {
     "name": "stdout",
     "output_type": "stream",
     "text": [
      "        user_id  product_id  rating\n",
      "711178      711         178     1.0\n",
      "836598      836         598     0.5\n",
      "132378      132         378     4.0\n",
      "965321      965         321     2.0\n",
      "514267      514         267     2.5\n"
     ]
    }
   ],
   "source": [
    "print(train['user_product_ratings'].head())"
   ]
  },
  {
   "cell_type": "code",
   "execution_count": 20,
   "metadata": {},
   "outputs": [
    {
     "name": "stdout",
     "output_type": "stream",
     "text": [
      "        user_id  product_id  rating  count\n",
      "711178      711         178     1.0      1\n",
      "836598      836         598     0.5      1\n",
      "132378      132         378     4.0      1\n",
      "965321      965         321     2.0      1\n",
      "514267      514         267     2.5      1\n"
     ]
    }
   ],
   "source": [
    "train['user_product_ratings']['count'] = 1\n",
    "print(train['user_product_ratings'].head())"
   ]
  },
  {
   "cell_type": "code",
   "execution_count": 26,
   "metadata": {},
   "outputs": [],
   "source": [
    "user_prod_ratings = train['user_product_ratings']\n",
    "group_user = user_prod_ratings.groupby(by='user_id').sum()"
   ]
  },
  {
   "cell_type": "code",
   "execution_count": 28,
   "metadata": {},
   "outputs": [
    {
     "data": {
      "image/png": "[encoded data removed]",
      "text/plain": [
       "<matplotlib.figure.Figure at 0x7f94978cce48>"
      ]
     },
     "metadata": {},
     "output_type": "display_data"
    }
   ],
   "source": [
    "import matplotlib.pyplot as plt\n",
    "import numpy as np\n",
    "\n",
    "train['user_product_ratings']['count'] = 1\n",
    "group_user = (train['user_product_ratings']).groupby(by='user_id').sum()\n",
    "user_ratings_counts = group_user['count']\n",
    "plt.hist(user_ratings_counts)\n",
    "plt.title(\"user_review_counts_hist\")\n",
    "plt.xlabel(\"user\")\n",
    "plt.ylabel(\"review freq\")\n",
    "\n",
    "fig = plt.gcf()\n",
    "\n"
   ]
  },
  {
   "cell_type": "markdown",
   "metadata": {},
   "source": [
    "### MSE Accuracy Metric"
   ]
  },
  {
   "cell_type": "code",
   "execution_count": 46,
   "metadata": {
    "collapsed": true
   },
   "outputs": [],
   "source": [
    "def evaluate_model(model, user_product_ratings_test):\n",
    "    pred = model.predict(user_product_ratings_test[['user_id', 'product_id']])\n",
    "    mse = np.mean((pred - user_product_ratings_test.rating) ** 2.)\n",
    "    print(f'MSE: {mse:.2f}')\n",
    "    return mse"
   ]
  },
  {
   "cell_type": "code",
   "execution_count": 50,
   "metadata": {},
   "outputs": [
    {
     "name": "stdout",
     "output_type": "stream",
     "text": [
      "MSE: 2.88\n"
     ]
    },
    {
     "data": {
      "text/plain": [
       "2.87868"
      ]
     },
     "execution_count": 50,
     "metadata": {},
     "output_type": "execute_result"
    }
   ],
   "source": [
    "model = RandomModel()\n",
    "model.fit(train)\n",
    "evaluate_model(model, train['user_product_ratings'])"
   ]
  },
  {
   "cell_type": "code",
   "execution_count": null,
   "metadata": {
    "collapsed": true
   },
   "outputs": [],
   "source": []
  }
 ],
 "metadata": {
  "kernelspec": {
   "display_name": "Python 3",
   "language": "python",
   "name": "python3"
  },
  "language_info": {
   "codemirror_mode": {
    "name": "ipython",
    "version": 3
   },
   "file_extension": ".py",
   "mimetype": "text/x-python",
   "name": "python",
   "nbconvert_exporter": "python",
   "pygments_lexer": "ipython3",
   "version": "3.6.4"
  }
 },
 "nbformat": 4,
 "nbformat_minor": 2
}
