{
 "cells": [
  {
   "cell_type": "code",
   "execution_count": 2,
   "metadata": {},
   "outputs": [],
   "source": [
    "from matplotlib import pyplot as plt"
   ]
  },
  {
   "cell_type": "code",
   "execution_count": 4,
   "metadata": {},
   "outputs": [],
   "source": [
    "%load_ext autoreload\n",
    "%autoreload 2"
   ]
  },
  {
   "cell_type": "markdown",
   "metadata": {},
   "source": [
    "## Visualizations"
   ]
  },
  {
   "cell_type": "code",
   "execution_count": null,
   "metadata": {},
   "outputs": [],
   "source": []
  },
  {
   "cell_type": "code",
   "execution_count": 1,
   "metadata": {},
   "outputs": [],
   "source": [
    "def curves(log_fn):\n",
    "    batch_num = [-1]\n",
    "    batch_mse = []\n",
    "    batch_mun = []\n",
    "    train_mse = []\n",
    "    train_acc = []\n",
    "    p_norm = []\n",
    "    val_num = []\n",
    "    val_mse = []\n",
    "    val_acc = []\n",
    "    with open(log_fn, 'r') as f:\n",
    "        for line in f:\n",
    "            m = re.match(('train.*'\n",
    "                          'batch_num = ([0-9]+).*'\n",
    "                          'batch_mse = ([.0-9]+).*'\n",
    "                          'batch_mun = ([.0-9]+).*'\n",
    "                          'train_mse = ([.0-9]+).*'\n",
    "                          'train_acc = ([.0-9]+).*'\n",
    "                          'p_norm = ([.0-9]+)'), line)\n",
    "            if m is not None:\n",
    "                batch_num.append(batch_num[-1] + 1)\n",
    "                batch_mse.append(float(m.group(2)))\n",
    "                batch_mun.append(float(m.group(3)))\n",
    "                train_mse.append(float(m.group(4)))\n",
    "                train_acc.append(float(m.group(5)))\n",
    "                p_norm.append(float(m.group(6)))\n",
    "\n",
    "            m = re.match(('test.*'\n",
    "                          'val_mse = ([.0-9]+).*'\n",
    "                          'val_acc = ([.0-9]+)'), line)\n",
    "\n",
    "            if m is not None:\n",
    "                val_num.append(batch_num[-1])\n",
    "                val_mse.append(float(m.group(1)))\n",
    "                val_acc.append(float(m.group(2)))\n",
    "\n",
    "    batch_num = batch_num[1:]\n",
    "    plt.clf()\n",
    "    fig, (ax1, ax2, ax3, ax4) = plt.subplots(4,1)\n",
    "    fig.set_size_inches((15,25))\n",
    "    \n",
    "    ax1.plot(batch_num, batch_mse, label='batch mse')\n",
    "    ax1.plot(batch_num, train_mse, label='train mse')\n",
    "    ax1.plot(val_num, val_mse, label='val_mse')\n",
    "    ax1.legend(loc=2)\n",
    "    \n",
    "    ax2.plot(batch_num, train_acc, label='train accuracy')\n",
    "    ax2.plot(val_num, val_acc, label='val accuracy')\n",
    "    ax2.legend(loc=4)\n",
    "    \n",
    "    ax3.plot(batch_num, batch_mun, label='batch mean user norm')\n",
    "    ax3.legend(loc=2)\n",
    "    \n",
    "    ax4.plot(batch_num, p_norm, label='model parameter norm') \n",
    "    ax4.legend(loc=2)\n",
    "    plt.show()"
   ]
  },
  {
   "cell_type": "code",
   "execution_count": null,
   "metadata": {},
   "outputs": [],
   "source": []
  }
 ],
 "metadata": {
  "kernelspec": {
   "display_name": "Python 3",
   "language": "python",
   "name": "python3"
  },
  "language_info": {
   "codemirror_mode": {
    "name": "ipython",
    "version": 3
   },
   "file_extension": ".py",
   "mimetype": "text/x-python",
   "name": "python",
   "nbconvert_exporter": "python",
   "pygments_lexer": "ipython3",
   "version": "3.6.4"
  }
 },
 "nbformat": 4,
 "nbformat_minor": 2
}
