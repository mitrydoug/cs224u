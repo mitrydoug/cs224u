{
 "cells": [
  {
   "cell_type": "code",
   "execution_count": 2,
   "metadata": {},
   "outputs": [],
   "source": [
    "import sys\n",
    "sys.path\n",
    "sys.path.append('../')\n",
    "\n",
    "import numpy as np \n",
    "import pandas as pd\n",
    "\n",
    "from data import RandomData, AmazonBooks, ToyData, MovieLensData\n",
    "from model import SimpleMeanModel, UserMeanModel, ProductMeanModel, CombinedMeanModel\n",
    "\n",
    "from nlu_feature_extractor import *\n",
    "\n",
    "%matplotlib inline"
   ]
  },
  {
   "cell_type": "markdown",
   "metadata": {},
   "source": [
    "### Load Data"
   ]
  },
  {
   "cell_type": "code",
   "execution_count": 4,
   "metadata": {},
   "outputs": [
    {
     "name": "stdout",
     "output_type": "stream",
     "text": [
      "loading preprocessed dataset from disk\n"
     ]
    }
   ],
   "source": [
    "# ds = MovieLensData(min_user_ratings=5).get_dataset(verbose=True)\n",
    "ds = AmazonBooks(min_user_ratings=10).get_dataset(verbose=True)\n",
    "train = ds['train']\n",
    "val = ds['val']"
   ]
  },
  {
   "cell_type": "code",
   "execution_count": 40,
   "metadata": {},
   "outputs": [
    {
     "name": "stdout",
     "output_type": "stream",
     "text": [
      "dict_keys(['user_product_ratings', 'product_descriptions', 'product_reviews'])\n"
     ]
    },
    {
     "data": {
      "text/html": [
       "<div>\n",
       "<style scoped>\n",
       "    .dataframe tbody tr th:only-of-type {\n",
       "        vertical-align: middle;\n",
       "    }\n",
       "\n",
       "    .dataframe tbody tr th {\n",
       "        vertical-align: top;\n",
       "    }\n",
       "\n",
       "    .dataframe thead th {\n",
       "        text-align: right;\n",
       "    }\n",
       "</style>\n",
       "<table border=\"1\" class=\"dataframe\">\n",
       "  <thead>\n",
       "    <tr style=\"text-align: right;\">\n",
       "      <th></th>\n",
       "      <th>product_id</th>\n",
       "      <th>review</th>\n",
       "    </tr>\n",
       "  </thead>\n",
       "  <tbody>\n",
       "    <tr>\n",
       "      <th>0</th>\n",
       "      <td>6155</td>\n",
       "      <td>for getting your kid introduced to his/her ABC...</td>\n",
       "    </tr>\n",
       "    <tr>\n",
       "      <th>1</th>\n",
       "      <td>6155</td>\n",
       "      <td>This Book is funny and is full of B words, lik...</td>\n",
       "    </tr>\n",
       "    <tr>\n",
       "      <th>2</th>\n",
       "      <td>6155</td>\n",
       "      <td>A favorite Berenstain book of my children I wa...</td>\n",
       "    </tr>\n",
       "    <tr>\n",
       "      <th>3</th>\n",
       "      <td>6155</td>\n",
       "      <td>This book is quite funny.  Especially when you...</td>\n",
       "    </tr>\n",
       "    <tr>\n",
       "      <th>4</th>\n",
       "      <td>6155</td>\n",
       "      <td>Teaching the next generation to love books!  M...</td>\n",
       "    </tr>\n",
       "  </tbody>\n",
       "</table>\n",
       "</div>"
      ],
      "text/plain": [
       "   product_id                                             review\n",
       "0        6155  for getting your kid introduced to his/her ABC...\n",
       "1        6155  This Book is funny and is full of B words, lik...\n",
       "2        6155  A favorite Berenstain book of my children I wa...\n",
       "3        6155  This book is quite funny.  Especially when you...\n",
       "4        6155  Teaching the next generation to love books!  M..."
      ]
     },
     "execution_count": 40,
     "metadata": {},
     "output_type": "execute_result"
    }
   ],
   "source": [
    "print(train.keys())\n",
    "train['product_reviews'].head()"
   ]
  },
  {
   "cell_type": "markdown",
   "metadata": {},
   "source": [
    "## create matrix: product_id -> all text about that product"
   ]
  },
  {
   "cell_type": "markdown",
   "metadata": {},
   "source": [
    "all text includes all reviews about it and the description of that product"
   ]
  },
  {
   "cell_type": "code",
   "execution_count": 115,
   "metadata": {},
   "outputs": [],
   "source": [
    "# grouped_reviews = train['product_reviews'].groupby(['product_id']).get_group(6155)\n",
    "# grouped_reviews['review'].agg([np.concatenate])\n",
    "grouped_reviews = train['product_reviews'].groupby('product_id')['product_id', 'review'].aggregate(\\\n",
    "        {'product_id':['mean'], 'review':lambda x: list(x)})\n",
    "grouped_reviews .columns = ['product_id', 'review']"
   ]
  },
  {
   "cell_type": "code",
   "execution_count": 116,
   "metadata": {},
   "outputs": [
    {
     "data": {
      "text/html": [
       "<div>\n",
       "<style scoped>\n",
       "    .dataframe tbody tr th:only-of-type {\n",
       "        vertical-align: middle;\n",
       "    }\n",
       "\n",
       "    .dataframe tbody tr th {\n",
       "        vertical-align: top;\n",
       "    }\n",
       "\n",
       "    .dataframe thead th {\n",
       "        text-align: right;\n",
       "    }\n",
       "</style>\n",
       "<table border=\"1\" class=\"dataframe\">\n",
       "  <thead>\n",
       "    <tr style=\"text-align: right;\">\n",
       "      <th></th>\n",
       "      <th>product_id</th>\n",
       "      <th>review</th>\n",
       "    </tr>\n",
       "    <tr>\n",
       "      <th>product_id</th>\n",
       "      <th></th>\n",
       "      <th></th>\n",
       "    </tr>\n",
       "  </thead>\n",
       "  <tbody>\n",
       "    <tr>\n",
       "      <th>2</th>\n",
       "      <td>2</td>\n",
       "      <td>[When I lost my best furry friend of 16 years,...</td>\n",
       "    </tr>\n",
       "    <tr>\n",
       "      <th>3</th>\n",
       "      <td>3</td>\n",
       "      <td>[I'm reading this for the second time.  The bo...</td>\n",
       "    </tr>\n",
       "    <tr>\n",
       "      <th>4</th>\n",
       "      <td>4</td>\n",
       "      <td>[This book had an excellent theme: ugly duckli...</td>\n",
       "    </tr>\n",
       "    <tr>\n",
       "      <th>5</th>\n",
       "      <td>5</td>\n",
       "      <td>[I have always enjoyed romance novels and Donn...</td>\n",
       "    </tr>\n",
       "    <tr>\n",
       "      <th>6</th>\n",
       "      <td>6</td>\n",
       "      <td>[This is the second level of \"Speed Secrets\". ...</td>\n",
       "    </tr>\n",
       "  </tbody>\n",
       "</table>\n",
       "</div>"
      ],
      "text/plain": [
       "            product_id                                             review\n",
       "product_id                                                               \n",
       "2                    2  [When I lost my best furry friend of 16 years,...\n",
       "3                    3  [I'm reading this for the second time.  The bo...\n",
       "4                    4  [This book had an excellent theme: ugly duckli...\n",
       "5                    5  [I have always enjoyed romance novels and Donn...\n",
       "6                    6  [This is the second level of \"Speed Secrets\". ..."
      ]
     },
     "execution_count": 116,
     "metadata": {},
     "output_type": "execute_result"
    }
   ],
   "source": [
    "grouped_reviews.head()"
   ]
  },
  {
   "cell_type": "code",
   "execution_count": 250,
   "metadata": {},
   "outputs": [],
   "source": [
    "# print(list(grouped_reviews.loc[grouped_reviews['product_id'] == 6155]['review'])[0])"
   ]
  },
  {
   "cell_type": "code",
   "execution_count": 500,
   "metadata": {},
   "outputs": [
    {
     "data": {
      "text/html": [
       "<div>\n",
       "<style scoped>\n",
       "    .dataframe tbody tr th:only-of-type {\n",
       "        vertical-align: middle;\n",
       "    }\n",
       "\n",
       "    .dataframe tbody tr th {\n",
       "        vertical-align: top;\n",
       "    }\n",
       "\n",
       "    .dataframe thead th {\n",
       "        text-align: right;\n",
       "    }\n",
       "</style>\n",
       "<table border=\"1\" class=\"dataframe\">\n",
       "  <thead>\n",
       "    <tr style=\"text-align: right;\">\n",
       "      <th></th>\n",
       "      <th>description</th>\n",
       "      <th>product_id</th>\n",
       "      <th>review</th>\n",
       "      <th>all_text</th>\n",
       "    </tr>\n",
       "  </thead>\n",
       "  <tbody>\n",
       "    <tr>\n",
       "      <th>0</th>\n",
       "      <td>\"Fairy phobic or trapped in a true-life fairy ...</td>\n",
       "      <td>12572</td>\n",
       "      <td>[Dream come true or worst nightmare? Grace Mac...</td>\n",
       "      <td>[\"Fairy phobic or trapped in a true-life fairy...</td>\n",
       "    </tr>\n",
       "    <tr>\n",
       "      <th>1</th>\n",
       "      <td>Welcome back, Mr Bond.  We've been waiting for...</td>\n",
       "      <td>4397</td>\n",
       "      <td>[Okay 007 fans, this book was a waste of time....</td>\n",
       "      <td>[Welcome back, Mr Bond.  We've been waiting fo...</td>\n",
       "    </tr>\n",
       "    <tr>\n",
       "      <th>2</th>\n",
       "      <td>\"A heart-wrenching and uplifting story of surv...</td>\n",
       "      <td>4175</td>\n",
       "      <td>[Amazing book!It is very detailed, telling the...</td>\n",
       "      <td>[\"A heart-wrenching and uplifting story of sur...</td>\n",
       "    </tr>\n",
       "    <tr>\n",
       "      <th>3</th>\n",
       "      <td>A fast-paced and engrossing story. A definite ...</td>\n",
       "      <td>9448</td>\n",
       "      <td>[Lori-Bryant Woolridge is one of my favorite a...</td>\n",
       "      <td>[A fast-paced and engrossing story. A definite...</td>\n",
       "    </tr>\n",
       "    <tr>\n",
       "      <th>4</th>\n",
       "      <td>Gayle Jackson Sloan is a native of Philadelphi...</td>\n",
       "      <td>14535</td>\n",
       "      <td>[Wednesday's Woes was an excellent piece of ar...</td>\n",
       "      <td>[Gayle Jackson Sloan is a native of Philadelph...</td>\n",
       "    </tr>\n",
       "  </tbody>\n",
       "</table>\n",
       "</div>"
      ],
      "text/plain": [
       "                                         description  product_id  \\\n",
       "0  \"Fairy phobic or trapped in a true-life fairy ...       12572   \n",
       "1  Welcome back, Mr Bond.  We've been waiting for...        4397   \n",
       "2  \"A heart-wrenching and uplifting story of surv...        4175   \n",
       "3  A fast-paced and engrossing story. A definite ...        9448   \n",
       "4  Gayle Jackson Sloan is a native of Philadelphi...       14535   \n",
       "\n",
       "                                              review  \\\n",
       "0  [Dream come true or worst nightmare? Grace Mac...   \n",
       "1  [Okay 007 fans, this book was a waste of time....   \n",
       "2  [Amazing book!It is very detailed, telling the...   \n",
       "3  [Lori-Bryant Woolridge is one of my favorite a...   \n",
       "4  [Wednesday's Woes was an excellent piece of ar...   \n",
       "\n",
       "                                            all_text  \n",
       "0  [\"Fairy phobic or trapped in a true-life fairy...  \n",
       "1  [Welcome back, Mr Bond.  We've been waiting fo...  \n",
       "2  [\"A heart-wrenching and uplifting story of sur...  \n",
       "3  [A fast-paced and engrossing story. A definite...  \n",
       "4  [Gayle Jackson Sloan is a native of Philadelph...  "
      ]
     },
     "execution_count": 500,
     "metadata": {},
     "output_type": "execute_result"
    }
   ],
   "source": [
    "combined = train['product_descriptions'].merge(grouped_reviews, on='product_id')\n",
    "combined['all_text'] = combined['review']\n",
    "combined['all_text'] = combined['description'].apply(lambda x: [x]) +  combined['all_text']\n",
    "combined.head()"
   ]
  },
  {
   "cell_type": "code",
   "execution_count": 504,
   "metadata": {
    "scrolled": true
   },
   "outputs": [
    {
     "name": "stdout",
     "output_type": "stream",
     "text": [
      "                                         description  product_id  \\\n",
      "0  \"Fairy phobic or trapped in a true-life fairy ...       12572   \n",
      "1  Welcome back, Mr Bond.  We've been waiting for...        4397   \n",
      "2  \"A heart-wrenching and uplifting story of surv...        4175   \n",
      "3  A fast-paced and engrossing story. A definite ...        9448   \n",
      "4  Gayle Jackson Sloan is a native of Philadelphi...       14535   \n",
      "\n",
      "                                              review  \\\n",
      "0  [Dream come true or worst nightmare? Grace Mac...   \n",
      "1  [Okay 007 fans, this book was a waste of time....   \n",
      "2  [Amazing book!It is very detailed, telling the...   \n",
      "3  [Lori-Bryant Woolridge is one of my favorite a...   \n",
      "4  [Wednesday's Woes was an excellent piece of ar...   \n",
      "\n",
      "                                            all_text  \\\n",
      "0  [\"Fairy phobic or trapped in a true-life fairy...   \n",
      "1  [Welcome back, Mr Bond.  We've been waiting fo...   \n",
      "2  [\"A heart-wrenching and uplifting story of sur...   \n",
      "3  [A fast-paced and engrossing story. A definite...   \n",
      "4  [Gayle Jackson Sloan is a native of Philadelph...   \n",
      "\n",
      "                                     all_text_parsed  \\\n",
      "0  fairy phobic or trapped in a true-life fairy a...   \n",
      "1  welcome back mr bond  we've been waiting for y...   \n",
      "2  a heart-wrenching and uplifting story of survi...   \n",
      "3  a fast-paced and engrossing story a definite h...   \n",
      "4  gayle jackson sloan is a native of philadelphi...   \n",
      "\n",
      "                      all_text_parsed_words_separate  \n",
      "0  [fairy, phobic, or, trapped, in, a, true-life,...  \n",
      "1  [welcome, back, mr, bond, , we've, been, waiti...  \n",
      "2  [a, heart-wrenching, and, uplifting, story, of...  \n",
      "3  [a, fast-paced, and, engrossing, story, a, def...  \n",
      "4  [gayle, jackson, sloan, is, a, native, of, phi...  \n"
     ]
    }
   ],
   "source": [
    "combined['all_text_parsed'] = combined['all_text'].apply(lambda x: re.sub(\"[,.;?!():\\[\\]\\\"\\\"]\",\"\",\" \".join(x)).lower())\n",
    "combined['all_text_parsed_words_separate'] = combined['all_text_parsed'].apply(lambda x: x.split(\" \"))\n",
    "print(combined.head())\n",
    "# first join all comments reviews, etcetera into 1 big string\n",
    "# then remove all punctuation\n",
    "# then split on spaces to create words"
   ]
  },
  {
   "cell_type": "markdown",
   "metadata": {},
   "source": [
    "## extract  vocab"
   ]
  },
  {
   "cell_type": "code",
   "execution_count": 507,
   "metadata": {},
   "outputs": [
    {
     "name": "stdout",
     "output_type": "stream",
     "text": [
      "5001\n",
      "['', '\\t', '\\t\\t\\t\\t\\t\\t\\tpaperback\\t', '#1', '#2', '$UNK', '&', '&#34the', '&amp', '&quotthe', \"'a\", \"'the\", '-', '--', '---', '--this', '/', '1', '1/2', '10', '100', '100%', '101', '11', '12', '13', '14', '15', '16', '17', '18', '1987', '1990', '1992', '1993', '1994', '1995', '1996', '1997', '1998', '1999', '19th', '1st', '2', '20', '200', '2000', '2001', '2002', '2003', '2004', '2005', '2006', '20th', '21st', '24', '25', '2nd', '3', '30', '300', '35', '3rd', '4', '40', '400', '45', '4th', '5', '50', '500', '5th', '6', '60', '7', '8', '9', '9/11', 'a', 'abby', 'abilities', 'ability', 'able', 'about', 'above', 'absolute', 'absolutely', 'absorb', 'abundance', 'abuse', 'abused', 'abusive', 'academic', 'academy', 'accept', 'acceptance', 'accepted', 'access', 'accessible', 'accident', 'acclaimed', 'accompanied', 'accomplish', 'accomplished', 'according', 'account', 'accounting', 'accounts', 'accuracy', 'accurate', 'accurately', 'achieve', 'achieved', 'achievement', 'across', 'act', 'acting', 'action', 'actions', 'active', 'activities', 'activity', 'actor', 'actors', 'acts', 'actual', 'actually', 'ad', 'adam', 'adams', 'add', 'added', 'addicted', 'addiction', 'addictive', 'adding', 'addition', 'additional', 'address', 'addressed', 'addresses', 'adds', 'adequate', 'admire', 'admit', 'adopted', 'adorable', 'adore', 'adult', 'adults', 'advance', 'advanced', 'advantage', 'adventure', 'adventures', 'advertising', 'advice', 'advise', 'affair', 'affairs', 'affect', 'affirmations', 'afford', 'afraid', 'africa', 'african', 'after', 'afternoon', 'again', 'against', 'age', 'agency', 'agenda', 'agent', 'agents', 'ages', 'ago', 'agree', 'ahead', 'aid', 'aimed', 'air', 'aka', 'al', 'alan', 'alaska', 'albert', 'alex', 'alexander', 'alien', 'aliens', 'alike', 'alive', 'all', 'allen', 'allow', 'allowed', 'allowing', 'allows', 'almost', 'alone', 'along', 'alot', 'aloud', 'alpha', 'alphabet', 'already', 'also', 'alternate', 'alternative', 'although', 'always', 'am', 'amanda', 'amateur', 'amazed', 'amazing', 'amazingly', 'amazon', 'amazoncom', 'america', \"america's\", 'american', 'americans', 'amish', 'among', 'amount', 'amounts', 'amusing', 'amy', 'an', 'analysis', 'anatomy', 'ancient', 'and', 'and/or', 'anderson', 'andrew', 'andy', 'anecdotes', 'angel', 'angeles', 'angels', 'anger', 'angle', 'angry', 'angst', 'animal', 'animals', 'anime', 'anita', 'ann', 'anna', 'anne', 'annoyed', 'annoying', 'annual', 'another', 'answer', 'answered', 'answers', 'anthologies', 'anthology', 'anthony', 'antics', 'anxious', 'any', 'anybody', 'anymore', 'anyone', 'anything', 'anytime', 'anyway', 'anywhere', 'apart', 'apollo', 'apologetics', 'apparent', 'apparently', 'appeal', 'appealing', 'appear', 'appearance', 'appeared', 'appears', 'applicable', 'application', 'applications', 'applied', 'applies', 'apply', 'applying', 'appreciate', 'appreciated', 'appreciation', 'approach', 'approaches', 'appropriate', 'april', 'arabic', 'architecture', 'are', 'area', 'areas', \"aren't\", 'argument', 'arguments', 'arizona', 'armed', 'armor', 'arms', 'army', 'around', 'arranged', 'array', 'arrived', 'art', 'arthur', 'article', 'articles', 'artist', 'artistic', 'artists', 'arts', 'artwork', 'as', 'ashley', 'asian', 'aside', 'ask', 'asked', 'asking', 'asks', 'asleep', 'aspect', 'aspects', 'aspiring', 'assigned', 'assist', 'assistant', 'associate', 'associated', 'association', 'assume', 'assumed', 'assumes', 'assumptions', 'at', 'atlanta', 'atlantis', 'atlas', 'atmosphere', 'attached', 'attack', 'attacks', 'attempt', 'attempting', 'attempts', 'attend', 'attended', 'attention', 'attitude', 'attitudes', 'attracted', 'attraction', 'attractive', 'audience', 'audio', 'august', 'aunt', 'austin', 'australia', 'authentic', 'author', \"author's\", 'authored', 'authoritative', 'authority', 'authors', 'autobiography', 'available', 'average', 'avid', 'avoid', 'awakening', 'award', 'award-winning', 'awarded', 'awards', 'aware', 'awareness', 'away', 'awesome', 'awful', 'awhile', 'awkward', 'b', 'ba', 'babies', 'baby', 'back', 'background', 'backgrounds', 'bad', 'badly', 'bag', 'baker', 'balance', 'balanced', 'ball', 'band', 'bank', 'baptist', 'bar', 'barbara', 'barely', 'bargain', 'barry', 'base', 'baseball', 'based', 'basic', 'basically', 'basics', 'basis', 'bathroom', 'batman', 'battle', 'battles', 'bay', 'be', 'beach', 'bear', 'beast', 'beat', 'beautiful', 'beautifully', 'beauty', 'became', 'because', 'become', 'becomes', 'becoming', 'bed', 'bedtime', 'been', 'beer', 'before', 'began', 'begin', 'begining', 'beginner', \"beginner's\", 'beginners', 'beginning', 'beginnings', 'begins', 'begun', 'behavior', 'behind', 'being', 'beings', 'belief', 'beliefs', 'believable', 'believe', 'believed', 'believer', 'believers', 'believes', 'believing', 'bell', 'belong', 'belongs', 'beloved', 'below', 'belt', 'ben', 'benefit', 'benefits', 'besides', 'best', 'best-selling', 'bestseller', 'bestsellers', 'bestselling', 'bet', 'beth', 'betrayal', 'betsy', 'better', 'between', 'beverly', 'beware', 'beyond', 'bias', 'biased', 'bible', 'bibles', 'biblical', 'bibliography', 'big', 'bigger', 'biggest', 'bill', 'binding', 'bio', 'biographies', 'biography', 'biology', 'bird', 'birds', 'birth', 'birthday', 'bishop', 'bit', 'bits', 'bizarre', 'black', 'blah', 'blake', 'blame', 'bland', 'blend', 'bless', 'blessed', 'blessing', 'blind', 'block', 'blog', 'blood', 'blow', 'blown', 'blue', 'board', 'boat', 'bob', 'bodies', 'body', 'bogged', 'bold', 'bond', 'bone', 'bones', 'bonus', 'book', \"book's\", 'booki', 'bookit', 'booklet', 'books', 'bookshelf', 'bookstore', 'bookthe', 'bookthis', 'boot', 'bored', 'boring', 'born', 'borrow', 'borrowed', 'boss', 'boston', 'both', 'bother', 'bothered', 'bottom', 'bought', 'bound', 'box', 'boxes', 'boxing', 'boy', 'boyfriend', 'boys', 'brad', 'brain', 'brand', 'brave', 'bravo', 'bread', 'break', 'breaking', 'breaks', 'breastfeeding', 'breath', 'brenda', 'brian', 'bride', 'bridge', 'brief', 'briefly', 'briggs', 'bright', 'brilliant', 'brilliantly', 'bring', 'bringing', 'brings', 'britain', 'british', 'broad', 'broke', 'broken', 'brother', 'brothers', 'brought', 'brown', 'bruce', 'brutal', 'bucks', 'buddhism', 'buddhist', 'buff', 'buffy', 'build', 'building', 'builds', 'built', 'bunch', 'buried', 'bush', 'business', 'busy', 'but', 'butler', 'buy', 'buying', 'by', 'c', 'c#', 'cake', 'calendar', 'california', 'call', 'called', 'calling', 'calls', 'calvin', 'cambridge', 'came', 'camera', 'camp', 'campaign', 'camping', 'can', \"can't\", 'canada', 'cancer', 'candy', 'cannot', 'cant', 'capable', 'captain', 'captivated', 'captivating', 'capture', 'captured', 'captures', 'car', 'carb', 'card', 'cards', 'care', 'cared', 'career', 'careers', 'careful', 'carefully', 'cares', 'caring', 'carla', 'carol', 'carolina', 'carried', 'carries', 'carry', 'carrying', 'cars', 'cartoon', 'cartoons', 'case', 'cases', 'cash', 'cassie', 'cast', 'castle', 'casual', 'cat', 'catch', 'categories', 'category', 'catherine', 'catholic', 'catholicism', 'catholics', 'cats', 'caught', 'cause', 'caused', 'causes', 'cd', 'cds', 'cell', 'celtic', 'center', 'centered', 'centers', 'central', 'centuries', 'century', 'certain', 'certainly', 'certified', 'chain', 'chair', 'challenge', 'challenged', 'challenges', 'challenging', 'champion', 'chance', 'chances', 'change', 'changed', 'changes', 'changing', 'channel', 'chaos', 'chapter', 'chapters', 'character', \"character's\", 'characteristics', 'characterization', 'characters', \"characters'\", 'charge', 'charged', 'charles', 'charlie', 'charm', 'charmed', 'charming', 'chart', 'charts', 'chase', 'cheap', 'cheaper', 'check', 'checked', 'checking', 'cheer', 'cheesy', 'chemistry', 'chess', 'chesterton', 'chicago', 'chick', 'chicken', 'chief', 'child', \"child's\", 'childhood', 'children', \"children's\", 'china', 'chinese', 'chock', 'chocolate', 'choice', 'choices', 'chomsky', 'choose', 'choosing', 'chose', 'chosen', 'chris', 'christ', 'christian', 'christianity', 'christians', 'christmas', 'christopher', 'chronicle', 'chronicles', 'chuck', 'church', 'churches', 'circle', 'circles', 'circumstances', 'cities', 'citizens', 'city', 'civil', 'civilization', 'claim', 'claims', 'claire', 'clan', 'clancy', 'clarity', 'clark', 'class', 'classes', 'classic', 'classical', 'classics', 'classroom', 'clay', 'clean', 'cleaning', 'clear', 'clearly', 'clever', 'client', 'clients', 'climax', 'clinical', 'close', 'closed', 'closely', 'closer', 'clothes', 'clothing', 'club', 'clue', 'clues', 'co-author', 'coach', 'coast', 'code', 'coffee', 'cold', 'cole', 'collect', 'collected', 'collecting', 'collection', 'collections', 'collector', 'college', 'collins', 'color', 'colorado', 'colored', 'colorful', 'colors', 'colour', 'columbia', 'column', 'columnist', 'combat', 'combination', 'combinations', 'combine', 'combined', 'combines', 'come', 'comedy', 'comes', 'comfort', 'comfortable', 'comforting', 'comic', 'comics', 'coming', 'command', 'commander', 'comment', 'commentaries', 'commentary', 'comments', 'commercial', 'commitment', 'committed', 'common', 'commonly', 'communicate', 'communication', 'communications', 'community', 'compact', 'companies', 'companion', 'company', 'compare', 'compared', 'comparing', 'comparison', 'compassion', 'compassionate', 'compelling', 'compendium', 'competition', 'compilation', 'compiled', 'complaint', 'complaints', 'complete', 'completed', 'completely', 'complex', 'complexity', 'complicated', 'composition', 'comprehensive', 'computer', 'computers', 'concept', 'concepts', 'concern', 'concerned', 'concerning', 'concerns', 'concise', 'conclusion', 'conclusions', 'concrete', 'condition', 'conditions', 'conference', 'conferences', 'confidence', 'confident', 'conflict', 'conflicts', 'confused', 'confusing', 'confusion', 'connect', 'connected', 'connection', 'connections', 'connie', 'connor', 'consciousness', 'consequences', 'conservative', 'consider', 'considered', 'considering', 'consistent', 'consistently', 'conspiracy', 'constant', 'constantly', 'constitution', 'construction', 'consultant', 'consulting', 'contact', 'contain', 'contained', 'containing', 'contains', 'contemporary', 'content', 'contents', 'context', 'continually', 'continuation', 'continue', 'continued', 'continues', 'continuing', 'contrary', 'contrast', 'contributed', 'contribution', 'contributor', 'contrived', 'control', 'controversial', 'convenient', 'conventional', 'conversation', 'conversations', 'convey', 'convince', 'convinced', 'convincing', 'cook', 'cookbook', 'cookbooks', 'cooking', 'cool', 'cooper', 'cop', 'copies', 'copy', 'copyright', 'core', 'corner', 'corporate', 'correct', 'correctly', 'cost', 'costs', 'could', \"couldn't\", 'couldnt', 'council', 'counseling', 'count', 'counting', 'countless', 'countries', 'country', 'county', 'couple', 'couples', 'courage', 'course', 'courses', 'court', 'cousin', 'cover', 'coverage', 'covered', 'covering', 'covers', 'coyote', 'cozy', 'craft', 'crafted', 'crafts', 'crap', 'crazy', 'cream', 'create', 'created', 'creates', 'creating', 'creation', 'creative', 'creativity', 'creator', 'creatures', 'credible', 'credit', 'credits', 'creepy', 'crew', 'cried', 'crime', 'crimes', 'criminal', 'crisis', 'crisp', 'critic', 'critical', 'criticism', 'critics', 'critique', 'crochet', 'crosby', 'cross', 'crowd', 'crucial', 'cry', 'crying', 'crystal', 'crystals', 'cs', 'css', 'cult', 'cultural', 'culture', 'cultures', 'cup', 'cure', 'curiosity', 'curious', 'current', 'currently', 'curse', 'customer', 'customers', 'customs', 'cut', 'cute', 'cuts', 'cutting', 'cycle', 'd', 'da', 'dad', 'daddy', 'daily', 'dain', 'daisy', 'dallas', 'damage', 'damn', 'dan', 'dana', 'dance', 'danger', 'dangerous', 'daniel', 'dare', 'dark', 'darker', 'darkness', 'darn', 'data', 'database', 'date', 'dated', 'dates', 'dating', 'daughter', 'daughters', 'dave', 'david', 'davis', 'dawn', 'day', 'days', 'dc', 'de', 'dead', 'deadly', 'deal', 'dealing', 'deals', 'dealt', 'dean', 'dear', 'death', 'deaths', 'debate', 'debbie', 'debut', 'decade', 'decades', 'december', 'decent', 'decide', 'decided', 'decides', 'decision', 'decisions', 'deck', 'decks', 'decorating', 'dedicated', 'deep', 'deeper', 'deeply', 'defeat', 'defend', 'defense', 'definately', 'defined', 'definite', 'definitely', 'definition', 'definitions', 'definitive', 'degree', 'degrees', 'delicious', 'delight', 'delighted', 'delightful', 'deliver', 'delivered', 'delivers', 'delivery', 'delve', 'delves', 'demand', 'demands', 'demon', 'demons', 'demonstrate', 'demonstrates', 'dense', 'department', 'depending', 'depicted', 'depressing', 'depression', 'depth', 'describe', 'described', 'describes', 'describing', 'description', 'descriptions', 'descriptive', 'desert', 'deserve', 'deserved', 'deserves', 'design', 'designed', 'designer', 'designers', 'designing', 'designs', 'desire', 'desired', 'desires', 'desk', 'desperate', 'despite', 'destiny', 'destroy', 'destroyed', 'destruction', 'detail', 'detailed', 'detailing', 'details', 'detective', 'determination', 'determine', 'determined', 'develop', 'developed', 'developer', 'developers', 'developing', 'development', 'develops', 'device', 'devil', 'devoted', 'devotion', 'devotional', 'diabetes', 'diagrams', 'dialog', 'dialogue', 'diana', 'diane', 'diaries', 'diary', 'dictionaries', 'dictionary', 'did', \"didn't\", 'didnt', 'die', 'died', 'dies', 'diet', 'difference', 'differences', 'different', 'differently', 'difficult', 'difficulties', 'difficulty', 'dig', 'digest', 'digital', 'dilbert', 'dinner', 'direct', 'directed', 'direction', 'directions', 'directly', 'director', 'dirty', 'disagree', 'disappoint', 'disappointed', 'disappointing', 'disappointment', 'disaster', 'discipline', 'discover', 'discovered', 'discovering', 'discovers', 'discovery', 'discuss', 'discussed', 'discusses', 'discussing', 'discussion', 'discussions', 'disease', 'dishes', 'dislike', 'display', 'dissapointed', 'distinguished', 'distracting', 'disturbing', 'dive', 'diverse', 'divided', 'divine', 'division', 'divorce', 'do', 'doctor', 'doctors', 'doctrine', 'doctrines', 'document', 'documentary', 'documentation', 'documented', 'documents', 'does', \"doesn't\", 'doesnt', 'dog', 'dogs', 'doing', 'dollar', 'dollars', 'dolls', 'don', \"don't\", 'donald', 'done', 'dont', 'door', 'doors', 'doreen', 'dose', 'double', 'doubt', 'down', 'download', 'downloaded', 'downright', 'dozen', 'dozens', 'dr', 'drag', 'dragged', 'dragon', 'dragonlance', 'dragons', 'drake', 'drama', 'dramatic', 'draw', 'drawback', 'drawing', 'drawings', 'drawn', 'draws', 'dream', 'dreams', 'dress', 'drew', 'drink', 'drinking', 'drive', 'driven', 'drives', 'driving', 'drop', 'drug', 'drugs', 'drunk', 'dry', 'due', 'duke', 'dull', 'dumb', 'dummies', 'during', 'dust', 'dutch', 'duty', 'dvd', 'dying', 'dynamic', 'e', 'each', 'eager', 'eagerly', 'earl', 'earlier', 'early', 'earned', 'earth', 'ease', 'easier', 'easily', 'east', 'eastern', 'easy', 'eat', 'eating', 'ebook', 'economic', 'economics', 'ed', 'edgar', 'edge', 'edie', 'edited', 'editing', 'edition', 'editions', 'editor', 'editorial', 'editors', 'educated', 'education', 'educational', 'edward', 'edwards', 'effect', 'effective', 'effectively', 'effects', 'effort', 'efforts', 'eg', 'eggs', 'ego', 'egypt', 'egyptian', 'eight', 'either', 'electronic', 'elegant', 'element', 'elementary', 'elements', 'elite', 'elizabeth', 'ellis', 'else', 'elsewhere', 'email', 'emergency', 'emeritus', 'emily', 'emma', 'emotion', 'emotional', 'emotionally', 'emotions', 'emphasis', 'empire', 'enchanting', 'encounter', 'encountered', 'encounters', 'encourage', 'encouraged', 'encouragement', 'encourages', 'encouraging', 'encyclopedia', 'end', 'endearing', 'ended', 'ending', 'endings', 'endless', 'ends', 'enemies', 'enemy', 'energy', 'enforcement', 'engage', 'engaged', 'engaging', 'engineer', 'engineering', 'england', 'english', 'engrossed', 'engrossing', 'enhance', 'enjoy', 'enjoyable', 'enjoyed', 'enjoying', 'enjoyment', 'enjoys', 'enlightened', 'enlightening', 'enlightenment', 'enormous', 'enough', 'enter', 'enterprise', 'entertain', 'entertained', 'entertaining', 'entertainment', 'entire', 'entirely', 'entitled', 'entries', 'entry', 'environment', 'epic', 'epilogue', 'episode', 'episodes', 'equal', 'equally', 'equipment', 'era', 'eric', 'erotic', 'erotica', 'error', 'errors', 'escape', 'esoteric', 'especially', 'essay', 'essays', 'essence', 'essential', 'essentially', 'essentials', 'established', 'estate', 'etc', 'eternal', 'ethics', 'europe', 'european', 'evangelical', 'even', 'evening', 'event', 'events', 'eventually', 'ever', 'every', 'everybody', 'everyday', 'everyone', 'everything', 'everywhere', 'evidence', 'evident', 'evil', 'evolution', 'ex', 'exact', 'exactly', 'exam', 'examination', 'examines', 'example', 'examples', 'excel', 'excellent', 'except', 'exception', 'exceptional', 'exceptionally', 'exchange', 'excited', 'excitement', 'exciting', 'excuse', 'executed', 'executive', 'exercise', 'exercises', 'exhaustive', 'exist', 'existed', 'existence', 'exists', 'exotic', 'expand', 'expanded', 'expect', 'expectations', 'expected', 'expecting', 'expensive', 'experience', 'experienced', 'experiences', 'experiencing', 'experiments', 'expert', 'expertise', 'experts', 'explain', 'explained', 'explaining', 'explains', 'explanation', 'explanations', 'explicit', 'exploration', 'explore', 'explored', 'explores', 'exploring', 'exposed', 'exposes', 'exposition', 'exposure', 'express', 'expressed', 'expression', 'expressions', 'extended', 'extensive', 'extensively', 'extent', 'extra', 'extraordinary', 'extreme', 'extremely', 'eye', 'eyes', 'f', 'fabric', 'fabulous', 'face', 'faced', 'faces', 'facing', 'fact', 'factor', 'facts', 'factual', 'fail', 'failed', 'fails', 'failure', 'fair', 'fairies', 'fairly', 'fairy', 'faith', 'faithful', 'fake', 'fall', 'fallen', 'falling', 'falls', 'false', 'fame', 'familiar', 'families', 'family', \"family's\", 'famous', 'fan', 'fancy', 'fans', 'fantasies', 'fantastic', 'fantasy', 'far', 'farm', 'farmer', 'fascinated', 'fascinating', 'fashion', 'fast', 'fast-paced', 'faster', 'fat', 'fate', 'father', \"father's\", 'fathers', 'fault', 'favor', 'favorite', 'favorites', 'favourite', 'fbi', 'fear', 'fears', 'feats', 'feature', 'featured', 'features', 'featuring', 'fed', 'federal', 'federation', 'feel', 'feeling', 'feelings', 'feels', 'feet', 'fell', 'fellow', 'felt', 'female', 'few', 'fewer', 'fiction', 'fictional', 'field', 'fields', 'fifteen', 'fifth', 'fifty', 'fight', 'fighting', 'fights', 'figure', 'figured', 'figures', 'files', 'fill', 'filled', 'filler', 'fills', 'film', 'films', 'final', 'finalist', 'finally', 'financial', 'find', 'finding', 'finds', 'fine', 'finest', 'finger', 'finish', 'finished', 'finishing', 'fire', 'firearms', 'firm', 'first', 'fish', 'fit', 'fitness', 'fits', 'five', 'fix', 'flaps', 'flash', 'flat', 'flavor', 'flaw', 'flawed', 'flaws', 'flesh', 'fleshed', 'flight', 'flip', 'flipping', 'floor', 'florida', 'flow', 'flowed', 'flower', 'flowers', 'flowing', 'flows', 'fluff', 'fly', 'flying', 'focus', 'focused', 'focuses', 'focusing', 'folk', 'folks', 'follow', 'follow-up', 'followed', 'following', 'follows', 'fond', 'font', 'food', 'foods', 'fool', 'foot', 'football', 'footnotes', 'for', 'force', 'forced', 'forces', 'foreign', 'foremost', 'forest', 'forever', 'forget', 'forgive', 'forgiveness', 'forgot', 'forgotten', 'form', 'formal', 'format', 'formed', 'former', 'forms', 'formula', 'fort', 'forth', 'fortunately', 'fortune', 'forty', 'forward', 'foster', 'fought', 'found', 'foundation', 'founded', 'founder', 'founding', 'four', 'fourth', 'fox', 'fr', 'frame', 'framework', 'france', 'francine', 'francis', 'francisco', 'frank', 'franklin', 'frankly', 'free', 'freedom', 'freelance', 'french', 'frequent', 'frequently', 'fresh', 'frevisse', 'friend', \"friend's\", 'friendly', 'friends', 'friendship', 'frightening', 'from', 'front', 'fruit', 'frustrated', 'frustrating', 'frustration', 'full', 'full-time', 'fully', 'fun', 'function', 'functions', 'fundamental', 'fundamentals', 'funniest', 'funny', 'further', 'future', 'fuzzy', 'g', 'gabriel', 'gain', 'gained', 'game', 'games', 'gang', 'gap', 'gaps', 'garbage', 'garden', 'gardening', 'gary', 'gathering', 'gave', 'gay', 'geared', 'gem', 'gems', 'gender', 'general', 'generally', 'generation', 'generations', 'generous', 'genesis', 'genius', 'genre', 'genres', 'gentle', 'genuine', 'genuinely', 'george', 'georgia', 'german', 'germany', 'get', 'gets', 'getting', 'ghost', 'ghosts', 'giant', 'gift', 'gifted', 'gifts', 'girl', 'girlfriend', 'girls', 'give', 'given', 'gives', 'giving', 'glad', 'glance', 'glass', 'glimpse', 'global', 'glory', 'glossary', 'glued', 'go', 'goal', 'goals', 'god', \"god's\", 'goddess', 'gods', 'goes', 'going', 'gold', 'golden', 'golf', 'gone', 'gonna', 'good', 'goodness', 'google', 'gorgeous', 'gospel', 'gossip', 'got', 'gotta', 'gotten', 'government', 'grab', 'grabbed', 'grabs', 'grace', 'gracie', 'grade', 'graduate', 'graduated', 'graham', 'grammar', 'grammatical', 'grand', 'grandchildren', 'granddaughter', 'grandmother', 'grandson', 'grant', 'granted', 'graphic', 'graphics', 'grasp', 'grateful', 'gray', 'great', 'greater', 'greatest', 'greatly', 'greek', 'green', 'greg', 'grew', 'grey', 'grief', 'grip', 'gripping', 'gritty', 'ground', 'group', 'groups', 'grow', 'growing', 'grown', 'grows', 'growth', 'guard', 'guardian', 'guess', 'guessing', 'guest', 'guidance', 'guide', 'guidebook', 'guided', 'guidelines', 'guides', 'guilt', 'guilty', 'guitar', 'gun', 'guns', 'guy', 'guys', 'h', 'habit', 'habits', 'hacks', 'had', \"hadn't\", 'hair', 'half', 'halfway', 'hall', 'halloween', 'hamilton', 'hand', 'handbook', 'handful', 'handle', 'handled', 'handling', 'hands', 'handsome', 'handy', 'hang', 'hanging', 'happen', 'happened', 'happening', 'happens', 'happier', 'happily', 'happiness', 'happy', 'hard', 'hardback', 'hardcover', 'harder', 'hardly', 'hardships', 'harmony', 'harry', 'harsh', 'harvard', 'has', \"hasn't\", 'hat', 'hate', 'hated', 'hates', 'hatred', 'haunted', 'haunting', 'have', \"haven't\", 'having', 'hay', 'he', \"he's\", 'head', 'headed', 'heads', 'heal', 'healing', 'health', 'healthy', 'hear', 'heard', 'hearing', 'heart', 'hearted', 'hearts', 'heartwarming', 'heat', 'heaven', 'heavily', 'heavy', 'hebrew', 'heck', 'heitzmann', 'held', 'hell', 'help', 'helped', 'helpful', 'helping', 'helps', 'hence', 'henry', 'her', 'herbs', 'here', \"here's\", 'heritage', 'hero', \"hero's\", 'heroes', 'heroine', \"heroine's\", 'heroines', 'hers', 'herself', 'hesitant', 'hey', 'hidden', 'hide', 'hiding', 'high', 'higher', 'highest', 'highlights', 'highly', 'hilarious', 'hill', 'him', 'himself', 'hint', 'hints', 'his', 'his/her', 'historian', 'historians', 'historic', 'historical', 'historically', 'histories', 'history', 'hit', 'hitler', 'hits', 'hobbes', 'hold', 'holding', 'holds', 'hole', 'holes', 'holiday', 'holidays', 'holly', 'hollywood', 'holmes', 'holocaust', 'holy', 'home', 'homes', 'homework', 'honest', 'honestly', 'honesty', 'honor', 'hook', 'hooked', 'hope', 'hoped', 'hopefully', 'hopes', 'hoping', 'horrible', 'horror', 'horse', 'horses', 'hospital', 'host', 'hot', 'hour', 'hours', 'house', 'household', 'houses', 'how', 'how-to', 'howard', 'however', 'huge', 'human', 'humanity', 'humans', 'humble', 'humor', 'humorous', 'humour', 'hundred', 'hundreds', 'hunger', 'hungry', 'hunt', 'hunter', 'hunting', 'hurt', 'husband', 'i', \"i'd\", \"i'll\", \"i'm\", \"i've\", 'ian', 'ice', 'id', 'idea', 'ideal', 'ideas', 'identification', 'identify', 'identifying', 'identity', 'idiot', 'ie', 'if', 'ignore', 'ignored', 'ii', 'ill', 'illinois', 'illness', 'illustrate', 'illustrated', 'illustrates', 'illustration', 'illustrations', 'illustrator', 'im', 'image', 'imagery', 'images', 'imagination', 'imaginative', 'imagine', 'imagined', 'immediate', 'immediately', 'immensely', 'impact', 'importance', 'important', 'importantly', 'impossible', 'impressed', 'impression', 'impressive', 'improve', 'improved', 'improvement', 'improving', 'in', 'in-depth', 'inc', 'include', 'included', 'includes', 'including', 'inclusion', 'incorporate', 'increase', 'incredible', 'incredibly', 'indeed', 'independence', 'independent', 'index', 'india', 'indian', 'indiana', 'indians', 'indispensable', 'individual', 'individuals', 'industry', 'inexpensive', 'infinite', 'influence', 'influenced', 'influential', 'info', 'information', 'informative', 'informed', 'ingredients', 'initial', 'initially', 'ink', 'inner', 'innocence', 'innocent', 'innovative', 'inside', 'insight', 'insightful', 'insights', 'inspiration', 'inspirational', 'inspire', 'inspired', 'inspiring', 'installment', 'instance', 'instant', 'instantly', 'instead', 'institute', 'instruction', 'instructional', 'instructions', 'instructor', 'integrity', 'intellectual', 'intelligence', 'intelligent', 'intend', 'intended', 'intense', 'intensity', 'intent', 'intention', 'interact', 'interaction', 'interactions', 'interest', 'interested', 'interesting', 'interests', 'intermediate', 'internal', 'international', 'internationally', 'internet', 'interpret', 'interpretation', 'interpretations', 'interview', 'interviews', 'intimate', 'into', 'intricate', 'intrigue', 'intrigued', 'intriguing', 'intro', 'introduce', 'introduced', 'introduces', 'introducing', 'introduction', 'introductions', 'introductory', 'intuitive', 'invaluable', 'invasion', 'investigate', 'investigation', 'investigator', 'investment', 'involve', 'involved', 'involvement', 'involves', 'involving', 'ireland', 'irish', 'iron', 'irritating', 'is', 'islam', 'islamic', 'island', 'islands', \"isn't\", 'israel', 'issue', 'issues', 'it', \"it'll\", \"it's\", 'italian', 'italy', 'item', 'items', 'iti', 'its', 'itself', 'itthe', 'j', 'jack', 'jackson', 'jail', 'james', 'jamie', 'jane', 'january', 'japan', 'japanese', 'jargon', 'jason', 'java', 'jay', 'jean', 'jeff', 'jenkins', 'jennifer', 'jenny', 'jerry', 'jersey', 'jerusalem', 'jesse', 'jessica', 'jesus', \"jesus'\", 'jewelry', 'jewish', 'jews', 'jim', 'jo', 'joan', 'job', 'jobs', 'joe', 'joel', 'johanna', 'john', 'johnson', 'join', 'joined', 'joke', 'jokes', 'jonathan', 'jones', 'joseph', 'josh', 'journal', 'journalism', 'journalist', 'journals', 'journey', 'joy', 'jr', 'judge', 'judith', 'julia', 'julie', 'july', 'jump', 'jumped', 'jumps', 'june', 'junior', 'just', 'justice', 'justify', 'k', 'kanji', 'karate', 'karen', 'kate', 'kathy', 'keen', 'keep', 'keeper', 'keeping', 'keeps', 'kelly', 'ken', 'kennedy', 'kentucky', 'kept', 'kevin', 'key', 'keys', 'kick', 'kid', 'kidnapped', 'kids', 'kill', 'killed', 'killer', 'killing', 'kim', 'kind', 'kinda', 'kindle', 'kinds', 'king', 'kingdom', 'kings', 'kirk', 'kiss', 'kit', 'kitchen', 'kleypas', 'knew', 'knife', 'knight', 'knights', 'knit', 'knitted', 'knitter', 'knitters', 'knitting', 'know', 'knowing', 'knowledge', 'knowledgeable', 'known', 'knows', 'kresley', 'kristen', 'kudos', 'kurland', 'kyle', 'l', 'la', 'lack', 'lacked', 'lackey', 'lacking', 'lacks', 'ladies', 'lady', 'laid', 'lake', 'lame', 'lance', 'land', 'lands', 'landscape', 'lane', 'language', 'languages', 'large', 'largely', 'larger', 'largest', 'larry', 'las', 'last', 'late', 'lately', 'later', 'latest', 'latin', 'latter', 'laugh', 'laughed', 'laughing', 'laughs', 'laughter', 'laura', 'lauren', 'law', 'laws', 'lawyer', 'lay', 'laying', 'layout', 'lays', 'lazy', 'lead', 'leader', 'leaders', 'leadership', 'leading', 'leads', 'league', 'lean', 'learn', 'learned', 'learning', 'learns', 'least', 'leave', 'leaves', 'leaving', 'lecturer', 'lectures', 'led', 'lee', \"lee's\", 'left', 'legacy', 'legal', 'legend', 'legendary', 'legends', 'leigh', 'length', 'lengthy', 'lesbian', 'less', 'lesser', 'lesson', 'lessons', 'let', \"let's\", 'lets', 'letter', 'letters', 'letting', 'level', 'levels', 'lewis', 'liberal', 'liberty', 'librarian', 'libraries', 'library', 'license', 'lie', 'lies', 'life', \"life's\", 'lifelong', 'lifestyle', 'lifetime', 'lift', 'light', 'lighting', 'lights', 'likable', 'like', 'likeable', 'liked', 'likely', 'likes', 'liking', 'lily', 'limit', 'limited', 'linda', 'lindsey', 'line', 'lines', 'linguistics', 'link', 'links', 'linux', 'lisa', 'list', 'listed', 'listen', 'listened', 'listening', 'listing', 'lists', 'lit', 'literal', 'literally', 'literary', 'literature', 'little', 'live', 'lived', 'lively', 'lives', 'living', 'lo', 'loaded', 'loaned', 'local', 'location', 'locations', 'logic', 'logical', 'lol', 'london', 'lonely', 'long', 'longer', 'look', 'looked', 'looking', 'looks', 'loose', 'lord', 'lore', 'loretta', 'lori', 'los', 'lose', 'loses', 'losing', 'loss', 'lost', 'lot', 'lots', 'loud', 'louis', 'louise', 'lovable', 'love', 'loved', 'lovely', 'lover', 'lovers', 'loves', 'loving', 'low', 'lower', 'loyal', 'loyalty', 'lucid', 'luck', 'lucky', 'lucy', 'luke', 'lust', 'lying', 'lynn', 'm', 'ma', 'mac', 'macarthur', 'machine', 'mackade', 'mad', 'made', 'magazine', 'magazines', 'maggie', 'magic', 'magical', 'magick', 'magnificent', 'mail', 'main', 'maine', 'mainly', 'mainstream', 'maintain', 'major', 'majority', 'make', 'makes', 'making', 'male', 'man', \"man's\", 'manage', 'managed', 'management', 'manager', 'managers', 'manages', 'managing', 'manga', 'manner', 'manual', 'manuscript', 'many', 'map', 'maps', 'march', 'marcus', 'margaret', 'marine', 'mark', 'marked', 'market', 'marketing', 'marks', 'marriage', 'married', 'marry', 'martial', 'martin', 'marvel', 'marvelous', 'mary', 'maryland', 'mason', 'mass', 'massachusetts', 'massive', 'master', 'masterful', 'masterpiece', 'masters', 'match', 'mate', 'material', 'materials', 'math', 'mathematical', 'mathematics', 'matter', 'matters', 'matthew', 'mature', 'max', 'may', 'maybe', 'mckenna', 'md', 'me', 'meal', 'meals', 'mean', 'meaning', 'meaningful', 'meanings', 'means', 'meant', 'measure', 'meat', 'mechanics', 'media', 'medical', 'medicine', 'medieval', 'mediocre', 'meditation', 'meditations', 'medium', 'meet', 'meeting', 'meets', 'member', 'members', 'memoir', 'memorable', 'memories', 'memory', 'men', 'mental', 'mention', 'mentioned', 'mentions', 'mercedes', 'mercy', 'mere', 'merely', 'mess', 'message', 'messages', 'met', 'metal', 'method', 'methods', 'mexico', 'michael', 'michigan', 'microsoft', 'middle', 'midnight', 'midst', 'midwest', 'might', 'mike', 'miles', 'military', 'miller', 'million', 'millions', 'mind', 'minds', 'mindset', 'mine', 'minister', 'ministries', 'ministry', 'minnesota', 'minor', 'minute', 'minutes', 'miracle', 'miracles', 'misleading', 'miss', 'missed', 'missing', 'mission', 'mistake', 'mistakes', 'mix', 'mixed', 'mixing', 'mixture', 'model', 'models', 'modern', 'mom', 'moment', 'moments', 'money', 'monster', 'monsters', 'montana', 'month', 'monthly', 'months', 'mood', 'moon', 'moore', 'moral', 'more', 'morgan', 'mormon', 'morning', 'morris', 'most', 'mostly', 'mother', \"mother's\", 'mothers', 'motion', 'motivated', 'motivation', 'motivational', 'mountain', 'mountains', 'mouth', 'move', 'moved', 'movement', 'movements', 'moves', 'movie', 'movies', 'moving', 'mr', 'mrs', 'ms', 'much', 'multiple', 'murder', 'murdered', 'murderer', 'murders', 'murray', 'muscle', 'museum', 'music', 'musical', 'muslims', 'must', 'must-have', 'must-read', 'my', 'myself', 'mysteries', 'mysterious', 'mystery', 'mystical', 'myth', 'mythology', 'myths', 'n', 'naive', 'name', 'named', 'names', 'nancy', 'narration', 'narrative', 'nasty', 'nation', 'national', 'nations', 'native', 'natural', 'naturally', 'nature', 'naval', 'navigate', 'navy', 'nazi', 'near', 'nearly', 'neat', 'necessarily', 'necessary', 'neck', 'need', 'needed', 'needing', 'needless', 'needs', 'negative', 'neighbor', 'neither', 'nell', 'nelson', 'nephew', 'net', 'network', 'never', 'nevertheless', 'new', 'newer', 'newest', 'newly', 'news', 'newspaper', 'newspapers', 'next', 'nice', 'nicely', 'nick', 'niece', 'night', 'nightmare', 'nights', 'nightside', 'nine', 'no', 'noble', 'nobody', 'non', 'non-fiction', 'none', 'nonetheless', 'nonfiction', 'nonsense', 'nor', 'nora', 'normal', 'normally', 'north', 'northern', 'not', 'notch', 'note', 'noted', 'notes', 'nothing', 'notice', 'noticed', 'novel', 'novelist', 'novella', 'novels', 'november', 'novice', 'now', 'nowhere', 'nt', 'number', 'numbers', 'numerous', 'nutrition', 'nuts', 'ny', 'o', \"o'reilly\", 'object', 'objective', 'objects', 'obscure', 'observations', 'obstacles', 'obvious', 'obviously', 'occasional', 'occasionally', 'occult', 'occur', 'october', 'odd', 'odds', 'of', 'off', 'offended', 'offensive', 'offer', 'offered', 'offering', 'offers', 'office', 'officer', 'officers', 'official', 'often', 'oh', 'ohio', 'oil', 'oils', 'ok', 'okay', 'oklahoma', 'old', 'older', 'oldest', 'on', 'once', 'one', \"one's\", 'ones', 'online', 'only', 'onto', 'open', 'opened', 'opening', 'opens', 'opera', 'operation', 'operations', 'opinion', 'opinions', 'opportunities', 'opportunity', 'opposed', 'opposite', 'option', 'options', 'or', 'oracle', 'order', 'ordered', 'ordering', 'ordinary', 'oregon', 'organization', 'organizations', 'organized', 'oriented', 'origin', 'original', 'originally', 'origins', 'orleans', 'orthodox', 'osprey', 'other', 'others', 'otherwise', 'ought', 'our', 'ourselves', 'out', 'outcome', 'outdated', 'outdoor', 'outline', 'outlines', 'outlook', 'outside', 'outstanding', 'over', 'overall', 'overcome', 'overlooked', 'overly', 'overview', 'overwhelming', 'own', 'owned', 'owner', 'owners', 'owns', 'oxford', 'p', 'pace', 'paced', 'pacific', 'pacing', 'pack', 'package', 'packed', 'packs', 'pagan', 'page', 'page-turner', 'pages', 'paid', 'pain', 'painful', 'paint', 'painted', 'painting', 'paintings', 'paints', 'pair', 'paper', 'paperback', 'papers', 'paragraph', 'paragraphs', 'parallel', 'paranormal', 'parent', 'parenting', 'parents', 'paris', 'park', 'parker', 'part', 'particular', 'particularly', 'partner', 'parts', 'party', 'pass', 'passage', 'passages', 'passed', 'passing', 'passion', 'passionate', 'past', 'pastor', 'pat', 'path', 'paths', 'patience', 'patient', 'patricia', 'patrick', 'pattern', 'patterns', 'paul', 'pay', 'paying', 'pc', 'peace', 'peaceful', 'pen', 'pencil', 'penguin', 'pennsylvania', 'penny', 'people', \"people's\", 'peoples', 'per', 'perfect', 'perfectly', 'perform', 'performance', 'perhaps', 'period', 'periods', 'perl', 'permanent', 'person', 'personal', 'personalities', 'personality', 'personally', 'persons', 'perspective', 'perspectives', 'pet', 'peter', 'peterson', 'pets', 'phantom', 'phd', 'phenomenal', 'phil', 'philadelphia', 'philip', 'phillips', 'philosopher', 'philosophical', 'philosophy', 'phone', 'photo', 'photographer', 'photographers', 'photographs', 'photography', 'photos', 'photoshop', 'php', 'phrase', 'phrases', 'physical', 'physically', 'physics', 'pick', 'picked', 'picking', 'picks', 'picture', 'pictures', 'piece', 'pieces', 'pilot', 'pimsleur', 'piper', 'pirate', 'pirates', 'place', 'placed', 'places', 'plain', 'plan', 'plane', 'planet', 'planned', 'planning', 'plans', 'plant', 'plants', 'plastic', 'plates', 'plausible', 'play', 'played', 'player', 'players', 'playing', 'plays', 'pleasant', 'pleasantly', 'please', 'pleased', 'pleasure', 'plenty', 'plot', 'plots', 'plotting', 'plus', 'pocket', 'poem', 'poems', 'poet', 'poetic', 'poetry', 'poignant', 'point', 'pointed', 'pointing', 'points', 'police', 'policy', 'political', 'politically', 'politics', 'ponder', 'poor', 'poorly', 'pop', 'pope', 'popular', 'population', 'porn', 'portion', 'portions', 'portland', 'portrait', 'portrayal', 'portrayed', 'portrays', 'poses', 'posing', 'position', 'positions', 'positive', 'possibilities', 'possibility', 'possible', 'possibly', 'post', 'potential', 'potter', 'power', 'powerful', 'powers', 'practical', 'practically', 'practice', 'practiced', 'practices', 'practicing', 'practitioner', 'praise', 'pray', 'prayer', 'prayers', 'preacher', 'preaching', 'preachy', 'precious', 'precise', 'predictable', 'prefer', 'preferred', 'pregnant', 'premise', 'preparation', 'prepare', 'prepared', 'preparing', 'presence', 'present', 'presentation', 'presented', 'presenting', 'presents', 'president', 'press', 'pressure', 'prestige', 'pretty', 'prevent', 'previous', 'previously', 'price', 'priced', 'priceless', 'prices', 'pride', 'priest', 'primarily', 'primary', 'prime', 'primer', 'prince', 'princess', 'principal', 'principle', 'principles', 'print', 'printed', 'printing', 'prior', 'prison', 'private', 'prize', 'pro', 'probably', 'problem', 'problems', 'procedures', 'process', 'processes', 'produce', 'produced', 'product', 'production', 'products', 'profession', 'professional', 'professionals', 'professor', 'profit', 'profound', 'program', 'programmer', 'programmers', 'programming', 'programs', 'progress', 'project', 'projects', 'prolific', 'prominent', 'promise', 'promised', 'promises', 'promising', 'promote', 'pronunciation', 'proof', 'proper', 'properly', 'property', 'prophecy', 'prophet', 'proposal', 'pros', 'prose', 'protagonist', 'protect', 'protection', 'protestant', 'proud', 'prove', 'proved', 'proven', 'proves', 'provide', 'provided', 'provides', 'providing', 'provocative', 'provoking', 'psychic', 'psychological', 'psychologist', 'psychology', 'public', 'publication', 'publications', 'publish', 'published', 'publisher', 'publishers', 'publishing', 'pull', 'pulled', 'pulling', 'pulls', 'punch', 'puppy', 'purchase', 'purchased', 'purchasing', 'pure', 'purpose', 'purposes', 'pursue', 'push', 'pushed', 'put', 'puts', 'putting', 'puzzle', 'puzzles', 'python', 'qualities', 'quality', 'quantum', 'quarter', 'queen', 'quest', 'question', 'questions', 'quick', 'quickly', 'quiet', 'quilt', 'quilting', 'quilts', 'quinn', 'quirky', 'quit', 'quite', 'quote', 'quotes', 'r', 'race', 'races', 'rachel', 'radical', 'radio', 'rae', 'rails', 'rainy', 'raise', 'raised', 'raising', 'ralph', 'ran', 'ranch', 'random', 'range', 'ranging', 'rank', 'ranks', 'rape', 'rare', 'rarely', 'rate', 'rated', 'rather', 'rating', 'raw', 'ray', 're', 're-read', 're-reading', 'reach', 'reached', 'reaction', 'read', 'readable', 'reader', \"reader's\", 'readers', 'readi', 'readily', 'reading', 'readings', 'reads', 'ready', 'real', 'real-life', 'realistic', 'realities', 'reality', 'realize', 'realized', 'realizes', 'realizing', 'really', 'realm', 'realms', 'reason', 'reasonable', 'reasonably', 'reasoning', 'reasons', 'rebecca', 'recall', 'reccomend', 'receive', 'received', 'receiving', 'recent', 'recently', 'recipe', 'recipes', 'recipient', 'recognize', 'recognized', 'recomend', 'recommend', 'recommendation', 'recommendations', 'recommended', 'recommending', 'recommends', 'record', 'records', 'recovery', 'red', 'redemption', 'redundant', 'reed', 'refer', 'reference', 'references', 'referred', 'referring', 'refers', 'reflect', 'reflection', 'reformed', 'refresher', 'refreshing', 'regard', 'regarding', 'regardless', 'regards', 'regency', 'region', 'regret', 'regular', 'regularly', 'reiki', 'relate', 'related', 'relates', 'relating', 'relations', 'relationship', 'relationships', 'relative', 'relatively', 'relatives', 'relax', 'relaxing', 'release', 'released', 'relevant', 'relief', 'religion', 'religions', 'religious', 'reluctant', 'rely', 'remain', 'remained', 'remaining', 'remains', 'remarkable', 'remember', 'remembered', 'remind', 'reminded', 'reminder', 'reminds', 'remove', 'removed', 'renowned', 'repeat', 'repeated', 'repeatedly', 'repeating', 'repetition', 'repetitive', 'replace', 'report', 'reporter', 'reports', 'represent', 'represented', 'represents', 'reprint', 'republic', 'reputation', 'require', 'required', 'requires', 'reread', 'rereading', 'rescue', 'research', 'researched', 'researcher', 'researching', 'reserved', 'resident', 'resides', 'resist', 'resolution', 'resolve', 'resolved', 'resource', 'resources', 'respect', 'respected', 'response', 'responsibility', 'responsible', 'rest', 'result', 'results', 'retired', 'return', 'returned', 'returning', 'returns', 'reveal', 'revealed', 'revealing', 'reveals', 'revelation', 'revelations', 'revenge', 'review', 'reviewed', 'reviewer', 'reviewers', 'reviewing', 'reviews', 'revised', 'revolution', 'revolutionary', 'rice', 'rich', 'richard', 'rick', 'rid', 'ride', 'ridiculous', 'riding', 'right', 'rights', 'riley', 'ring', 'rings', 'rise', 'rising', 'risk', 'rita', 'rituals', 'river', 'rivers', 'riveting', 'road', 'rob', 'robert', 'roberts', 'robin', 'rock', 'rocks', 'rogers', 'role', 'roles', 'roll', 'rolling', 'roman', 'romance', 'romances', 'romantic', 'rome', 'romp', 'room', 'rooms', 'root', 'rooting', 'roots', 'rose', 'ross', 'rough', 'round', 'rounded', 'routine', 'row', 'royal', 'ruby', 'ruin', 'ruined', 'rule', 'rules', 'run', 'running', 'runs', 'rural', 'rush', 'rushed', 'russia', 'russian', 'ruth', 'ryan', 's', 'sacred', 'sacrifice', 'sad', 'sadly', 'sadness', 'safe', 'safety', 'saga', 'said', 'saint', 'saints', 'sake', 'sale', 'sales', 'sally', 'salt', 'salvation', 'sam', 'same', 'sample', 'samples', 'san', 'santa', 'sarah', 'sat', 'satisfied', 'satisfy', 'satisfying', 'save', 'saved', 'saves', 'saving', 'saw', 'say', 'saying', 'sayings', 'says', 'scale', 'scared', 'scary', 'scattered', 'scenario', 'scenarios', 'scene', 'scenes', 'scholar', 'scholarly', 'scholars', 'scholarship', 'school', 'schools', 'sci-fi', 'science', 'scientific', 'scientist', 'scientists', 'scope', 'scotland', 'scott', 'scottish', 'screen', 'script', 'scripts', 'scripture', 'scriptures', 'sea', 'search', 'searching', 'season', 'seasoned', 'seat', 'seattle', 'second', 'secondary', 'secret', 'secrets', 'section', 'sections', 'security', 'see', 'seeing', 'seek', 'seeking', 'seem', 'seemed', 'seemingly', 'seems', 'seen', 'sees', 'selected', 'selection', 'selections', 'self', 'self-defense', 'self-help', 'selfish', 'sell', 'seller', 'selling', 'seminars', 'seminary', 'send', 'sending', 'senior', 'sense', 'sensible', 'sensitive', 'sensual', 'sent', 'sentence', 'sentences', 'separate', 'september', 'sequel', 'sequels', 'sequence', 'serger', 'serial', 'series', 'serious', 'seriously', 'sermon', 'serve', 'served', 'server', 'serves', 'service', 'services', 'serving', 'set', 'sets', 'setting', 'settings', 'seven', 'several', 'sewing', 'sex', 'sexual', 'sexuality', 'sexy', 'sf', 'shadow', 'shadows', 'shake', 'shakespeare', 'shall', 'shallow', 'shame', 'shane', 'shannon', 'shape', 'shapes', 'share', 'shared', 'shares', 'sharing', 'sharon', 'sharp', 'sharpe', 'she', \"she's\", 'shed', 'sheer', 'shelf', 'shelves', 'shines', 'ship', 'shipping', 'ships', 'shirley', 'shock', 'shocked', 'shocking', 'shoot', 'shooting', 'shop', 'shopping', 'short', 'shorter', 'shortly', 'shot', 'shots', 'should', \"shouldn't\", 'show', 'showed', 'showing', 'shown', 'shows', 'shy', 'siblings', 'sick', 'side', 'sides', 'sight', 'sign', 'significance', 'significant', 'signs', 'silent', 'silly', 'silver', 'similar', 'simon', 'simple', 'simplicity', 'simplistic', 'simply', 'sin', 'since', 'sing', 'singer', 'single', 'sir', 'sister', 'sisters', 'sit', 'site', 'sites', 'sitting', 'situation', 'situations', 'six', 'sixth', 'size', 'sized', 'sizes', 'skeptical', 'sketches', 'skill', 'skilled', 'skills', 'skimmed', 'skimming', 'skin', 'skip', 'skipped', 'skipping', 'sky', 'slave', 'slavery', 'slaves', 'sleep', 'sleeping', 'slight', 'slightly', 'slim', 'slow', 'slowly', 'small', 'smaller', 'smart', 'smile', 'smith', \"smith's\", 'smooth', 'snow', 'so', 'so-called', 'soap', 'social', 'society', 'sock', 'socks', 'soft', 'software', 'sold', 'soldier', 'soldiers', 'solid', 'solution', 'solutions', 'solve', 'solved', 'solving', 'some', 'somebody', 'someday', 'somehow', 'someone', 'something', 'sometime', 'sometimes', 'somewhat', 'somewhere', 'son', 'song', 'songs', 'sons', 'soon', 'sooner', 'sophisticated', 'sorry', 'sort', 'sorts', 'soul', 'souls', 'sound', 'sounded', 'sounds', 'soup', 'source', 'sources', 'south', 'southern', 'soviet', 'space', 'spain', 'spanish', 'spare', 'sparks', 'speak', 'speaker', 'speaking', 'speaks', 'special', 'specialist', 'specializing', 'species', 'specific', 'specifically', 'spectacular', 'spectrum', 'speech', 'speed', 'spell', 'spelling', 'spells', 'spencer', 'spend', 'spending', 'spends', 'spent', 'spin', 'spiral', 'spirit', 'spirits', 'spiritual', 'spirituality', 'spiritually', 'spite', 'splendid', 'spoil', 'spoiled', 'spoiler', 'spoke', 'spoken', 'sport', 'sports', 'spot', 'spots', 'spread', 'spring', 'spy', 'sql', 'st', 'staff', 'stage', 'stages', 'stand', 'standard', 'standards', 'standing', 'stands', 'stanley', 'star', 'stars', 'start', 'started', 'starter', 'starting', 'starts', 'state', 'stated', 'statement', 'statements', 'states', 'station', 'statistics', 'status', 'stay', 'stayed', 'staying', 'stays', 'steal', 'steamy', 'step', 'step-by-step', 'stephanie', 'stephen', 'steps', 'steve', 'steven', 'stick', 'sticks', 'still', 'stitch', 'stitches', 'stock', 'stomach', 'stone', 'stones', 'stood', 'stop', 'stopped', 'storage', 'store', 'stores', 'stories', 'storm', 'story', 'storyi', 'storyline', 'storylines', 'storyteller', 'storytelling', 'straight', 'straightforward', 'strange', 'stranger', 'strategies', 'strategy', 'street', 'streets', 'strength', 'strengths', 'stress', 'stretch', 'strikes', 'strip', 'strips', 'strong', 'stronger', 'strongly', 'struck', 'structure', 'struggle', 'struggled', 'struggles', 'struggling', 'stubborn', 'stuck', 'student', 'students', 'studied', 'studies', 'studio', 'study', 'studying', 'stuff', 'stumbled', 'stunning', 'stupid', 'sturdy', 'style', 'styles', 'subject', 'subjects', 'subsequent', 'substance', 'substantial', 'subtle', 'succeed', 'success', 'successful', 'successfully', 'such', 'sudden', 'suddenly', 'sudoku', 'sue', 'suffer', 'suffered', 'suffering', 'sufficient', 'sugar', 'suggest', 'suggested', 'suggestion', 'suggestions', 'suggests', 'suicide', 'suit', 'suitable', 'suited', 'summary', 'summer', 'sun', 'sunday', 'super', 'superb', 'superbly', 'superficial', 'superior', 'superman', 'supernatural', 'supplement', 'supplements', 'supplies', 'support', 'supporting', 'suppose', 'supposed', 'supposedly', 'supreme', 'sure', 'surely', 'surface', 'surprise', 'surprised', 'surprises', 'surprising', 'surprisingly', 'surrounding', 'survey', 'survival', 'survive', 'survived', 'survivors', 'susan', 'suspect', 'suspects', 'suspense', 'suspenseful', 'suzanne', 'sweaters', 'sweet', 'sword', 'sylvia', 'symbolism', 'symbols', 'sympathetic', 'synopsis', 'system', 'systematic', 'systems', 't', 'table', 'tables', 'tackle', 'tactical', 'tactics', 'tad', 'take', 'taken', 'takes', 'taking', 'tal', 'tale', 'talent', 'talented', 'talents', 'tales', 'talk', 'talked', 'talking', 'talks', 'tall', 'tank', 'tanya', 'tao', 'tape', 'target', 'tarot', 'task', 'tasks', 'taste', 'tastes', 'taught', 'tax', 'taylor', 'tea', 'teach', 'teacher', 'teachers', 'teaches', 'teaching', 'teachings', 'team', 'tear', 'tears', 'tech', 'technical', 'technique', 'techniques', 'technologies', 'technology', 'tedious', 'teen', 'teenage', 'teenager', 'teenagers', 'teens', 'teeth', 'television', 'tell', 'teller', 'telling', 'tells', 'temple', 'ten', 'tend', 'tender', 'tends', 'tennessee', 'tension', 'term', 'terms', 'terrible', 'terribly', 'terrific', 'terror', 'terrorism', 'test', 'testament', 'testing', 'tests', 'texas', 'text', 'textbook', 'texts', 'thai', 'than', 'thank', 'thankful', 'thankfully', 'thanks', 'that', \"that's\", 'thats', 'the', 'theater', 'their', 'them', 'theme', 'themes', 'themselves', 'then', 'theological', 'theology', 'theories', 'theory', 'therapist', 'therapy', 'there', \"there's\", 'therefore', 'these', 'thesis', 'they', \"they're\", \"they've\", 'thick', 'thin', 'thing', 'things', 'think', 'thinking', 'thinks', 'third', 'thirty', 'this', 'thomas', 'thompson', 'thor', 'thorough', 'thoroughly', 'those', 'though', 'thought', 'thought-provoking', 'thoughtful', 'thoughts', 'thousand', 'thousands', 'thread', 'threads', 'threat', 'three', 'threw', 'thrilled', 'thriller', 'thrillers', 'thrilling', 'through', 'throughout', 'throw', 'thrown', 'throws', 'thru', 'thumbs', 'thus', 'tidbits', 'tie', 'tied', 'ties', 'tight', 'till', 'tim', 'time', 'timeless', 'timeline', 'timely', 'times', 'tintin', 'tiny', 'tip', 'tips', 'tired', 'title', 'titled', 'titles', 'to', 'today', \"today's\", 'toddler', 'toddlers', 'toes', 'together', 'told', 'tolkien', 'tom', 'tome', 'ton', 'tone', 'tongue', 'tons', 'tony', 'too', 'took', 'tool', 'tools', 'top', 'topic', 'topics', 'torn', 'total', 'totally', 'touch', 'touched', 'touches', 'touching', 'tough', 'tour', 'toward', 'towards', 'town', 'toys', 'tracie', 'track', 'tracking', 'tracks', 'trade', 'tradition', 'traditional', 'traditions', 'tragedy', 'tragic', 'trail', 'train', 'trained', 'trainer', 'training', 'traits', 'transformation', 'transition', 'translated', 'translation', 'translations', 'translator', 'trash', 'trauma', 'travel', 'traveled', 'traveling', 'travels', 'treasure', 'treat', 'treated', 'treatise', 'treatment', 'treats', 'tree', 'trees', 'trek', 'tremendous', 'tremendously', 'trial', 'trials', 'trick', 'tricks', 'tried', 'tries', 'trilogy', 'trinity', 'trip', 'trips', 'trivia', 'troops', 'trouble', 'true', 'truely', 'truly', 'trust', 'truth', 'truths', 'try', 'trying', 'tucker', 'turn', 'turned', 'turner', 'turning', 'turns', 'tv', 'twelve', 'twenty', 'twice', 'twin', 'twist', 'twisted', 'twists', 'two', 'type', 'types', 'typical', 'typically', 'typos', 'u', 'ugly', 'uk', 'ultimate', 'ultimately', 'unable', 'unavailable', 'unbelievable', 'uncle', 'under', 'underlying', 'understand', 'understandable', 'understanding', 'understands', 'understood', 'unexpected', 'unfamiliar', 'unfolds', 'unforgettable', 'unfortunate', 'unfortunately', 'union', 'unique', 'unit', 'united', 'universal', 'universe', 'university', 'unknown', 'unless', 'unlike', 'unlikely', 'unnecessary', 'unrealistic', 'until', 'unusual', 'up', 'upcoming', 'update', 'updated', 'uplifting', 'upon', 'ups', 'upset', 'urban', 'us', 'usa', 'usability', 'usage', 'use', 'used', 'useful', 'useless', 'user', 'users', 'uses', 'using', 'usual', 'usually', 'utterly', 'v', 'vacation', 'vague', 'valid', 'valley', 'valuable', 'value', 'values', 'vampire', 'vampires', 'van', 'variations', 'varied', 'variety', 'various', 'vast', 'vegan', 'vegetarian', 'verbal', 'verbs', 'verse', 'verses', 'version', 'versions', 'very', 'veteran', 'via', 'victim', 'victims', 'victoria', 'victorian', 'victory', 'video', 'videos', 'vietnam', 'view', 'viewpoint', 'views', 'viking', 'village', 'villain', 'villains', 'vintage', 'violence', 'violent', 'virgin', 'virginia', 'virtually', 'virtue', 'vision', 'visions', 'visit', 'visited', 'visiting', 'visual', 'visually', 'vital', 'vivid', 'vividly', 'vlad', 'vocabulary', 'voice', 'voices', 'vol', 'volume', 'volumes', 'von', 'voyager', 'vs', 'w', 'wait', 'waited', 'waiting', 'wake', 'walk', 'walked', 'walker', 'walking', 'walks', 'wall', 'want', 'wanted', 'wanting', 'wants', 'war', 'ward', 'warfare', 'warhammer', 'warm', 'warming', 'warned', 'warning', 'warren', 'warrior', 'warriors', 'wars', 'was', 'washington', \"wasn't\", 'waste', 'wasted', 'watch', 'watched', 'watching', 'water', 'watercolor', 'way', 'wayne', 'ways', 'we', \"we're\", \"we've\", 'weak', 'weakness', 'weaknesses', 'wealth', 'wealthy', 'weapon', 'weapons', 'wear', 'wearing', 'weather', 'weaves', 'weaving', 'web', 'website', 'websites', 'wedding', 'week', 'weekend', 'weekly', 'weeks', 'weight', 'weird', 'welcome', 'well', 'well-developed', 'well-known', 'well-researched', 'well-written', 'went', 'were', \"weren't\", 'werewolf', 'werewolves', 'west', 'western', 'what', \"what's\", 'whatever', 'when', 'whenever', 'where', 'whether', 'which', 'while', 'white', 'who', \"who's\", 'whole', 'whom', 'whose', 'why', 'wicca', 'wiccan', 'wicked', 'wide', 'widely', 'wife', 'wild', 'wilde', 'wilderness', 'will', 'william', 'williams', 'willing', 'wilson', 'win', 'wind', 'window', 'windows', 'wine', 'wing', 'winner', 'winning', 'winston', 'winter', 'wisdom', 'wise', 'wish', 'wished', 'wishes', 'wishing', 'wit', 'witch', 'witchcraft', 'witches', 'with', 'within', 'without', 'witness', 'witty', 'wizards', 'wolf', 'woman', \"woman's\", 'women', \"women's\", 'won', \"won't\", 'wonder', 'wondered', 'wonderful', 'wonderfully', 'wondering', 'wonders', 'wont', 'wood', 'woods', 'word', 'words', 'wordy', 'work', 'workbook', 'worked', 'working', 'workout', 'works', 'workshop', 'workshops', 'world', \"world's\", 'worlds', 'worldwide', 'worn', 'worried', 'worry', 'worse', 'worship', 'worst', 'worth', 'worthwhile', 'worthy', 'would', \"would've\", \"wouldn't\", 'wounded', 'woven', 'wow', 'wrap', 'wrapped', 'wrestling', 'wright', 'write', 'writer', \"writer's\", 'writers', 'writes', 'writing', 'writings', 'written', 'wrong', 'wrote', 'wwii', 'x', 'y', 'ya', 'yarn', 'yarns', 'yeah', 'year', 'years', 'yellow', 'yes', 'yesterday', 'yet', 'yoga', 'york', 'yorker', 'you', \"you'd\", \"you'll\", \"you're\", \"you've\", 'young', 'younger', 'youngest', 'your', 'yours', 'yourself', 'youth', 'yr', 'zen', 'zero']\n"
     ]
    }
   ],
   "source": [
    "vocab = get_vocab(combined['all_text_parsed_words_separate'].tolist(), 5000)\n",
    "print(len(vocab))\n",
    "print(vocab)"
   ]
  },
  {
   "cell_type": "markdown",
   "metadata": {},
   "source": [
    "## create document, vocab matrix"
   ]
  },
  {
   "cell_type": "code",
   "execution_count": 509,
   "metadata": {},
   "outputs": [
    {
     "name": "stderr",
     "output_type": "stream",
     "text": [
      "/home/unixinternet/anaconda3/lib/python3.6/site-packages/ipykernel_launcher.py:3: SettingWithCopyWarning: \n",
      "A value is trying to be set on a copy of a slice from a DataFrame.\n",
      "Try using .loc[row_indexer,col_indexer] = value instead\n",
      "\n",
      "See the caveats in the documentation: http://pandas.pydata.org/pandas-docs/stable/indexing.html#indexing-view-versus-copy\n",
      "  This is separate from the ipykernel package so we can avoid doing imports until\n"
     ]
    }
   ],
   "source": [
    "combined_words = combined[['product_id','all_text_parsed']]\n",
    "for v in vocab:\n",
    "    combined_words[v] = combined_words['all_text_parsed'].apply(lambda x: x.count(\" \" + v + \" \"))\n",
    "combined_words"
   ]
  },
  {
   "cell_type": "code",
   "execution_count": 510,
   "metadata": {},
   "outputs": [
    {
     "data": {
      "text/plain": [
       "2166"
      ]
     },
     "execution_count": 510,
     "metadata": {},
     "output_type": "execute_result"
    }
   ],
   "source": [
    "np.max(np.max(combined_words[vocab]))"
   ]
  },
  {
   "cell_type": "markdown",
   "metadata": {},
   "source": [
    "### save vocab matrix"
   ]
  },
  {
   "cell_type": "code",
   "execution_count": 511,
   "metadata": {},
   "outputs": [],
   "source": [
    "combined_words.to_pickle(\"vocab_matrix_2\")  # where to save it, usually as a .pkl\n",
    "# Then you can load it back using: df = pd.read_pickle(file_name)"
   ]
  },
  {
   "cell_type": "markdown",
   "metadata": {},
   "source": [
    "## convert to tfidf"
   ]
  },
  {
   "cell_type": "code",
   "execution_count": 513,
   "metadata": {},
   "outputs": [
    {
     "data": {
      "text/plain": [
       "<6568x5001 sparse matrix of type '<class 'numpy.float64'>'\n",
       "\twith 1745315 stored elements in Compressed Sparse Row format>"
      ]
     },
     "execution_count": 513,
     "metadata": {},
     "output_type": "execute_result"
    }
   ],
   "source": [
    "from sklearn.feature_extraction.text import TfidfTransformer\n",
    "tf = TfidfTransformer()\n",
    "tfidf_words = tf.fit_transform(combined_words[vocab])\n",
    "tfidf_words"
   ]
  },
  {
   "cell_type": "code",
   "execution_count": 514,
   "metadata": {},
   "outputs": [
    {
     "data": {
      "text/html": [
       "<div>\n",
       "<style scoped>\n",
       "    .dataframe tbody tr th:only-of-type {\n",
       "        vertical-align: middle;\n",
       "    }\n",
       "\n",
       "    .dataframe tbody tr th {\n",
       "        vertical-align: top;\n",
       "    }\n",
       "\n",
       "    .dataframe thead th {\n",
       "        text-align: right;\n",
       "    }\n",
       "</style>\n",
       "<table border=\"1\" class=\"dataframe\">\n",
       "  <thead>\n",
       "    <tr style=\"text-align: right;\">\n",
       "      <th></th>\n",
       "      <th>product_id</th>\n",
       "      <th></th>\n",
       "      <th></th>\n",
       "      <th>paperback</th>\n",
       "      <th>#1</th>\n",
       "      <th>#2</th>\n",
       "      <th>$UNK</th>\n",
       "      <th>&amp;</th>\n",
       "      <th>&amp;#34the</th>\n",
       "      <th>&amp;amp</th>\n",
       "      <th>...</th>\n",
       "      <th>young</th>\n",
       "      <th>younger</th>\n",
       "      <th>youngest</th>\n",
       "      <th>your</th>\n",
       "      <th>yours</th>\n",
       "      <th>yourself</th>\n",
       "      <th>youth</th>\n",
       "      <th>yr</th>\n",
       "      <th>zen</th>\n",
       "      <th>zero</th>\n",
       "    </tr>\n",
       "  </thead>\n",
       "  <tbody>\n",
       "    <tr>\n",
       "      <th>0</th>\n",
       "      <td>12572</td>\n",
       "      <td>0.249810</td>\n",
       "      <td>NaN</td>\n",
       "      <td>NaN</td>\n",
       "      <td>0.036692</td>\n",
       "      <td>NaN</td>\n",
       "      <td>NaN</td>\n",
       "      <td>NaN</td>\n",
       "      <td>NaN</td>\n",
       "      <td>NaN</td>\n",
       "      <td>...</td>\n",
       "      <td>0.020471</td>\n",
       "      <td>NaN</td>\n",
       "      <td>NaN</td>\n",
       "      <td>0.023859</td>\n",
       "      <td>NaN</td>\n",
       "      <td>NaN</td>\n",
       "      <td>NaN</td>\n",
       "      <td>NaN</td>\n",
       "      <td>NaN</td>\n",
       "      <td>NaN</td>\n",
       "    </tr>\n",
       "    <tr>\n",
       "      <th>1</th>\n",
       "      <td>4397</td>\n",
       "      <td>0.271908</td>\n",
       "      <td>NaN</td>\n",
       "      <td>0.028557</td>\n",
       "      <td>0.035620</td>\n",
       "      <td>NaN</td>\n",
       "      <td>NaN</td>\n",
       "      <td>NaN</td>\n",
       "      <td>NaN</td>\n",
       "      <td>NaN</td>\n",
       "      <td>...</td>\n",
       "      <td>NaN</td>\n",
       "      <td>NaN</td>\n",
       "      <td>NaN</td>\n",
       "      <td>NaN</td>\n",
       "      <td>NaN</td>\n",
       "      <td>NaN</td>\n",
       "      <td>NaN</td>\n",
       "      <td>NaN</td>\n",
       "      <td>NaN</td>\n",
       "      <td>0.038753</td>\n",
       "    </tr>\n",
       "    <tr>\n",
       "      <th>2</th>\n",
       "      <td>4175</td>\n",
       "      <td>0.083713</td>\n",
       "      <td>NaN</td>\n",
       "      <td>NaN</td>\n",
       "      <td>NaN</td>\n",
       "      <td>NaN</td>\n",
       "      <td>NaN</td>\n",
       "      <td>NaN</td>\n",
       "      <td>NaN</td>\n",
       "      <td>NaN</td>\n",
       "      <td>...</td>\n",
       "      <td>0.045276</td>\n",
       "      <td>NaN</td>\n",
       "      <td>NaN</td>\n",
       "      <td>0.052770</td>\n",
       "      <td>NaN</td>\n",
       "      <td>NaN</td>\n",
       "      <td>0.079512</td>\n",
       "      <td>NaN</td>\n",
       "      <td>NaN</td>\n",
       "      <td>NaN</td>\n",
       "    </tr>\n",
       "    <tr>\n",
       "      <th>3</th>\n",
       "      <td>9448</td>\n",
       "      <td>0.051491</td>\n",
       "      <td>NaN</td>\n",
       "      <td>NaN</td>\n",
       "      <td>NaN</td>\n",
       "      <td>NaN</td>\n",
       "      <td>NaN</td>\n",
       "      <td>0.026269</td>\n",
       "      <td>NaN</td>\n",
       "      <td>NaN</td>\n",
       "      <td>...</td>\n",
       "      <td>NaN</td>\n",
       "      <td>NaN</td>\n",
       "      <td>NaN</td>\n",
       "      <td>NaN</td>\n",
       "      <td>NaN</td>\n",
       "      <td>NaN</td>\n",
       "      <td>NaN</td>\n",
       "      <td>NaN</td>\n",
       "      <td>NaN</td>\n",
       "      <td>NaN</td>\n",
       "    </tr>\n",
       "    <tr>\n",
       "      <th>4</th>\n",
       "      <td>14535</td>\n",
       "      <td>0.177852</td>\n",
       "      <td>NaN</td>\n",
       "      <td>NaN</td>\n",
       "      <td>NaN</td>\n",
       "      <td>NaN</td>\n",
       "      <td>NaN</td>\n",
       "      <td>NaN</td>\n",
       "      <td>NaN</td>\n",
       "      <td>NaN</td>\n",
       "      <td>...</td>\n",
       "      <td>NaN</td>\n",
       "      <td>NaN</td>\n",
       "      <td>NaN</td>\n",
       "      <td>NaN</td>\n",
       "      <td>NaN</td>\n",
       "      <td>NaN</td>\n",
       "      <td>NaN</td>\n",
       "      <td>NaN</td>\n",
       "      <td>NaN</td>\n",
       "      <td>NaN</td>\n",
       "    </tr>\n",
       "  </tbody>\n",
       "</table>\n",
       "<p>5 rows × 5002 columns</p>\n",
       "</div>"
      ],
      "text/plain": [
       "   product_id            \\t  \\t\\t\\t\\t\\t\\t\\tpaperback\\t        #1  #2  $UNK  \\\n",
       "0       12572  0.249810 NaN                        NaN  0.036692 NaN   NaN   \n",
       "1        4397  0.271908 NaN                   0.028557  0.035620 NaN   NaN   \n",
       "2        4175  0.083713 NaN                        NaN       NaN NaN   NaN   \n",
       "3        9448  0.051491 NaN                        NaN       NaN NaN   NaN   \n",
       "4       14535  0.177852 NaN                        NaN       NaN NaN   NaN   \n",
       "\n",
       "          &  &#34the  &amp    ...        young  younger  youngest      your  \\\n",
       "0       NaN      NaN   NaN    ...     0.020471      NaN       NaN  0.023859   \n",
       "1       NaN      NaN   NaN    ...          NaN      NaN       NaN       NaN   \n",
       "2       NaN      NaN   NaN    ...     0.045276      NaN       NaN  0.052770   \n",
       "3  0.026269      NaN   NaN    ...          NaN      NaN       NaN       NaN   \n",
       "4       NaN      NaN   NaN    ...          NaN      NaN       NaN       NaN   \n",
       "\n",
       "   yours  yourself     youth  yr  zen      zero  \n",
       "0    NaN       NaN       NaN NaN  NaN       NaN  \n",
       "1    NaN       NaN       NaN NaN  NaN  0.038753  \n",
       "2    NaN       NaN  0.079512 NaN  NaN       NaN  \n",
       "3    NaN       NaN       NaN NaN  NaN       NaN  \n",
       "4    NaN       NaN       NaN NaN  NaN       NaN  \n",
       "\n",
       "[5 rows x 5002 columns]"
      ]
     },
     "execution_count": 514,
     "metadata": {},
     "output_type": "execute_result"
    }
   ],
   "source": [
    "tfidf_df = pd.SparseDataFrame(tfidf_words)\n",
    "tfidf_df.columns = vocab\n",
    "tfidf_df[\"product_id\"] = combined_words[\"product_id\"]\n",
    "tfidf_df = tfidf_df[[\"product_id\"] + vocab]\n",
    "tfidf_df.head()"
   ]
  },
  {
   "cell_type": "markdown",
   "metadata": {},
   "source": [
    "### save tfidf"
   ]
  },
  {
   "cell_type": "code",
   "execution_count": 679,
   "metadata": {},
   "outputs": [],
   "source": [
    "tfidf_df.to_pickle(\"tfidf_matrix\")  # where to save it, usually as a .pkl"
   ]
  },
  {
   "cell_type": "code",
   "execution_count": 683,
   "metadata": {},
   "outputs": [],
   "source": [
    "pickle.dump( tf.get_params(), open( \"tf_params.p\", \"wb\" ) )"
   ]
  }
 ],
 "metadata": {
  "kernelspec": {
   "display_name": "Python 3",
   "language": "python",
   "name": "python3"
  },
  "language_info": {
   "codemirror_mode": {
    "name": "ipython",
    "version": 3
   },
   "file_extension": ".py",
   "mimetype": "text/x-python",
   "name": "python",
   "nbconvert_exporter": "python",
   "pygments_lexer": "ipython3",
   "version": "3.6.4"
  }
 },
 "nbformat": 4,
 "nbformat_minor": 2
}
