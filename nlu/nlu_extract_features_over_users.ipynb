{
 "cells": [
  {
   "cell_type": "code",
   "execution_count": 8,
   "metadata": {},
   "outputs": [],
   "source": [
    "import sys\n",
    "sys.path\n",
    "sys.path.append('../')\n",
    "\n",
    "import numpy as np \n",
    "import pandas as pd\n",
    "\n",
    "from data import RandomData, AmazonBooks, ToyData, MovieLensData\n",
    "from model import SimpleMeanModel, UserMeanModel, ProductMeanModel, CombinedMeanModel\n",
    "\n",
    "from nlu_feature_extractor import *\n",
    "import re\n",
    "\n",
    "%matplotlib inline"
   ]
  },
  {
   "cell_type": "markdown",
   "metadata": {},
   "source": [
    "### Load Data"
   ]
  },
  {
   "cell_type": "code",
   "execution_count": 3,
   "metadata": {},
   "outputs": [
    {
     "name": "stdout",
     "output_type": "stream",
     "text": [
      "loading preprocessed dataset from disk\n"
     ]
    }
   ],
   "source": [
    "# ds = MovieLensData(min_user_ratings=5).get_dataset(verbose=True)\n",
    "ds = AmazonBooks(min_user_ratings=5).get_dataset(verbose=True)\n",
    "train = ds['train']\n",
    "val = ds['val']"
   ]
  },
  {
   "cell_type": "code",
   "execution_count": 40,
   "metadata": {},
   "outputs": [
    {
     "name": "stdout",
     "output_type": "stream",
     "text": [
      "dict_keys(['user_product_ratings', 'product_descriptions', 'product_reviews'])\n"
     ]
    },
    {
     "data": {
      "text/html": [
       "<div>\n",
       "<style scoped>\n",
       "    .dataframe tbody tr th:only-of-type {\n",
       "        vertical-align: middle;\n",
       "    }\n",
       "\n",
       "    .dataframe tbody tr th {\n",
       "        vertical-align: top;\n",
       "    }\n",
       "\n",
       "    .dataframe thead th {\n",
       "        text-align: right;\n",
       "    }\n",
       "</style>\n",
       "<table border=\"1\" class=\"dataframe\">\n",
       "  <thead>\n",
       "    <tr style=\"text-align: right;\">\n",
       "      <th></th>\n",
       "      <th>product_id</th>\n",
       "      <th>review</th>\n",
       "    </tr>\n",
       "  </thead>\n",
       "  <tbody>\n",
       "    <tr>\n",
       "      <th>0</th>\n",
       "      <td>6155</td>\n",
       "      <td>for getting your kid introduced to his/her ABC...</td>\n",
       "    </tr>\n",
       "    <tr>\n",
       "      <th>1</th>\n",
       "      <td>6155</td>\n",
       "      <td>This Book is funny and is full of B words, lik...</td>\n",
       "    </tr>\n",
       "    <tr>\n",
       "      <th>2</th>\n",
       "      <td>6155</td>\n",
       "      <td>A favorite Berenstain book of my children I wa...</td>\n",
       "    </tr>\n",
       "    <tr>\n",
       "      <th>3</th>\n",
       "      <td>6155</td>\n",
       "      <td>This book is quite funny.  Especially when you...</td>\n",
       "    </tr>\n",
       "    <tr>\n",
       "      <th>4</th>\n",
       "      <td>6155</td>\n",
       "      <td>Teaching the next generation to love books!  M...</td>\n",
       "    </tr>\n",
       "  </tbody>\n",
       "</table>\n",
       "</div>"
      ],
      "text/plain": [
       "   product_id                                             review\n",
       "0        6155  for getting your kid introduced to his/her ABC...\n",
       "1        6155  This Book is funny and is full of B words, lik...\n",
       "2        6155  A favorite Berenstain book of my children I wa...\n",
       "3        6155  This book is quite funny.  Especially when you...\n",
       "4        6155  Teaching the next generation to love books!  M..."
      ]
     },
     "execution_count": 40,
     "metadata": {},
     "output_type": "execute_result"
    }
   ],
   "source": [
    "print(train.keys())\n",
    "train['product_reviews'].head()"
   ]
  },
  {
   "cell_type": "markdown",
   "metadata": {},
   "source": [
    "## create matrix: product_id -> all text about that product"
   ]
  },
  {
   "cell_type": "markdown",
   "metadata": {},
   "source": [
    "all text includes all reviews about it and the description of that product"
   ]
  },
  {
   "cell_type": "code",
   "execution_count": 4,
   "metadata": {},
   "outputs": [],
   "source": [
    "# grouped_reviews = train['product_reviews'].groupby(['product_id']).get_group(6155)\n",
    "# grouped_reviews['review'].agg([np.concatenate])\n",
    "grouped_reviews = train['product_reviews'].groupby('product_id')['product_id', 'review'].aggregate(\\\n",
    "        {'product_id':['mean'], 'review':lambda x: list(x)})\n",
    "grouped_reviews .columns = ['product_id', 'review']"
   ]
  },
  {
   "cell_type": "code",
   "execution_count": 5,
   "metadata": {},
   "outputs": [
    {
     "data": {
      "text/html": [
       "<div>\n",
       "<style scoped>\n",
       "    .dataframe tbody tr th:only-of-type {\n",
       "        vertical-align: middle;\n",
       "    }\n",
       "\n",
       "    .dataframe tbody tr th {\n",
       "        vertical-align: top;\n",
       "    }\n",
       "\n",
       "    .dataframe thead th {\n",
       "        text-align: right;\n",
       "    }\n",
       "</style>\n",
       "<table border=\"1\" class=\"dataframe\">\n",
       "  <thead>\n",
       "    <tr style=\"text-align: right;\">\n",
       "      <th></th>\n",
       "      <th>product_id</th>\n",
       "      <th>review</th>\n",
       "    </tr>\n",
       "    <tr>\n",
       "      <th>product_id</th>\n",
       "      <th></th>\n",
       "      <th></th>\n",
       "    </tr>\n",
       "  </thead>\n",
       "  <tbody>\n",
       "    <tr>\n",
       "      <th>2</th>\n",
       "      <td>2</td>\n",
       "      <td>[My three year old loves Dora the Explorer and...</td>\n",
       "    </tr>\n",
       "    <tr>\n",
       "      <th>7</th>\n",
       "      <td>7</td>\n",
       "      <td>[This is an excellent introduction to one of t...</td>\n",
       "    </tr>\n",
       "    <tr>\n",
       "      <th>8</th>\n",
       "      <td>8</td>\n",
       "      <td>[The introduction by A. S. Byatt is fantastic,...</td>\n",
       "    </tr>\n",
       "    <tr>\n",
       "      <th>14</th>\n",
       "      <td>14</td>\n",
       "      <td>[This revised and enlarged edition is an unusu...</td>\n",
       "    </tr>\n",
       "    <tr>\n",
       "      <th>15</th>\n",
       "      <td>15</td>\n",
       "      <td>[I think it's important for readers to separat...</td>\n",
       "    </tr>\n",
       "  </tbody>\n",
       "</table>\n",
       "</div>"
      ],
      "text/plain": [
       "            product_id                                             review\n",
       "product_id                                                               \n",
       "2                    2  [My three year old loves Dora the Explorer and...\n",
       "7                    7  [This is an excellent introduction to one of t...\n",
       "8                    8  [The introduction by A. S. Byatt is fantastic,...\n",
       "14                  14  [This revised and enlarged edition is an unusu...\n",
       "15                  15  [I think it's important for readers to separat..."
      ]
     },
     "execution_count": 5,
     "metadata": {},
     "output_type": "execute_result"
    }
   ],
   "source": [
    "grouped_reviews.head()"
   ]
  },
  {
   "cell_type": "code",
   "execution_count": 250,
   "metadata": {},
   "outputs": [],
   "source": [
    "# print(list(grouped_reviews.loc[grouped_reviews['product_id'] == 6155]['review'])[0])"
   ]
  },
  {
   "cell_type": "code",
   "execution_count": 6,
   "metadata": {},
   "outputs": [
    {
     "data": {
      "text/html": [
       "<div>\n",
       "<style scoped>\n",
       "    .dataframe tbody tr th:only-of-type {\n",
       "        vertical-align: middle;\n",
       "    }\n",
       "\n",
       "    .dataframe tbody tr th {\n",
       "        vertical-align: top;\n",
       "    }\n",
       "\n",
       "    .dataframe thead th {\n",
       "        text-align: right;\n",
       "    }\n",
       "</style>\n",
       "<table border=\"1\" class=\"dataframe\">\n",
       "  <thead>\n",
       "    <tr style=\"text-align: right;\">\n",
       "      <th></th>\n",
       "      <th>description</th>\n",
       "      <th>product_id</th>\n",
       "      <th>review</th>\n",
       "      <th>all_text</th>\n",
       "    </tr>\n",
       "  </thead>\n",
       "  <tbody>\n",
       "    <tr>\n",
       "      <th>0</th>\n",
       "      <td>The only complete on-the-scene account of the ...</td>\n",
       "      <td>3821</td>\n",
       "      <td>[I was given this book to read as an assignmen...</td>\n",
       "      <td>[The only complete on-the-scene account of the...</td>\n",
       "    </tr>\n",
       "    <tr>\n",
       "      <th>1</th>\n",
       "      <td>\"Fairy phobic or trapped in a true-life fairy ...</td>\n",
       "      <td>60922</td>\n",
       "      <td>[Dream come true or worst nightmare? Grace Mac...</td>\n",
       "      <td>[\"Fairy phobic or trapped in a true-life fairy...</td>\n",
       "    </tr>\n",
       "    <tr>\n",
       "      <th>2</th>\n",
       "      <td>In this lush, lyrical, and marvelously evocati...</td>\n",
       "      <td>142370</td>\n",
       "      <td>[this novel is not your typical love story, wh...</td>\n",
       "      <td>[In this lush, lyrical, and marvelously evocat...</td>\n",
       "    </tr>\n",
       "    <tr>\n",
       "      <th>3</th>\n",
       "      <td>Robert Englander is Principal Engineer and Pre...</td>\n",
       "      <td>121224</td>\n",
       "      <td>[1. Good coverage of SOAP2. Uses GLUE (acquire...</td>\n",
       "      <td>[Robert Englander is Principal Engineer and Pr...</td>\n",
       "    </tr>\n",
       "    <tr>\n",
       "      <th>4</th>\n",
       "      <td>Text: English, Hebrew\\tKerry M. Olitzky, D.H.L...</td>\n",
       "      <td>62060</td>\n",
       "      <td>[First rate scholarship and clarify of transla...</td>\n",
       "      <td>[Text: English, Hebrew\\tKerry M. Olitzky, D.H....</td>\n",
       "    </tr>\n",
       "  </tbody>\n",
       "</table>\n",
       "</div>"
      ],
      "text/plain": [
       "                                         description  product_id  \\\n",
       "0  The only complete on-the-scene account of the ...        3821   \n",
       "1  \"Fairy phobic or trapped in a true-life fairy ...       60922   \n",
       "2  In this lush, lyrical, and marvelously evocati...      142370   \n",
       "3  Robert Englander is Principal Engineer and Pre...      121224   \n",
       "4  Text: English, Hebrew\\tKerry M. Olitzky, D.H.L...       62060   \n",
       "\n",
       "                                              review  \\\n",
       "0  [I was given this book to read as an assignmen...   \n",
       "1  [Dream come true or worst nightmare? Grace Mac...   \n",
       "2  [this novel is not your typical love story, wh...   \n",
       "3  [1. Good coverage of SOAP2. Uses GLUE (acquire...   \n",
       "4  [First rate scholarship and clarify of transla...   \n",
       "\n",
       "                                            all_text  \n",
       "0  [The only complete on-the-scene account of the...  \n",
       "1  [\"Fairy phobic or trapped in a true-life fairy...  \n",
       "2  [In this lush, lyrical, and marvelously evocat...  \n",
       "3  [Robert Englander is Principal Engineer and Pr...  \n",
       "4  [Text: English, Hebrew\\tKerry M. Olitzky, D.H....  "
      ]
     },
     "execution_count": 6,
     "metadata": {},
     "output_type": "execute_result"
    }
   ],
   "source": [
    "combined = train['product_descriptions'].merge(grouped_reviews, on='product_id')\n",
    "combined['all_text'] = combined['review']\n",
    "combined['all_text'] = combined['description'].apply(lambda x: [x]) +  combined['all_text']\n",
    "combined.head()"
   ]
  },
  {
   "cell_type": "code",
   "execution_count": 9,
   "metadata": {
    "scrolled": true
   },
   "outputs": [
    {
     "name": "stdout",
     "output_type": "stream",
     "text": [
      "                                         description  product_id  \\\n",
      "0  The only complete on-the-scene account of the ...        3821   \n",
      "1  \"Fairy phobic or trapped in a true-life fairy ...       60922   \n",
      "2  In this lush, lyrical, and marvelously evocati...      142370   \n",
      "3  Robert Englander is Principal Engineer and Pre...      121224   \n",
      "4  Text: English, Hebrew\\tKerry M. Olitzky, D.H.L...       62060   \n",
      "\n",
      "                                              review  \\\n",
      "0  [I was given this book to read as an assignmen...   \n",
      "1  [Dream come true or worst nightmare? Grace Mac...   \n",
      "2  [this novel is not your typical love story, wh...   \n",
      "3  [1. Good coverage of SOAP2. Uses GLUE (acquire...   \n",
      "4  [First rate scholarship and clarify of transla...   \n",
      "\n",
      "                                            all_text  \\\n",
      "0  [The only complete on-the-scene account of the...   \n",
      "1  [\"Fairy phobic or trapped in a true-life fairy...   \n",
      "2  [In this lush, lyrical, and marvelously evocat...   \n",
      "3  [Robert Englander is Principal Engineer and Pr...   \n",
      "4  [Text: English, Hebrew\\tKerry M. Olitzky, D.H....   \n",
      "\n",
      "                                     all_text_parsed  \\\n",
      "0  the only complete on-the-scene account of the ...   \n",
      "1  fairy phobic or trapped in a true-life fairy a...   \n",
      "2  in this lush lyrical and marvelously evocative...   \n",
      "3  robert englander is principal engineer and pre...   \n",
      "4  text english hebrew\\tkerry m olitzky dhl is th...   \n",
      "\n",
      "                      all_text_parsed_words_separate  \n",
      "0  [the, only, complete, on-the-scene, account, o...  \n",
      "1  [fairy, phobic, or, trapped, in, a, true-life,...  \n",
      "2  [in, this, lush, lyrical, and, marvelously, ev...  \n",
      "3  [robert, englander, is, principal, engineer, a...  \n",
      "4  [text, english, hebrew\\tkerry, m, olitzky, dhl...  \n"
     ]
    }
   ],
   "source": [
    "combined['all_text_parsed'] = combined['all_text'].apply(lambda x: re.sub(\"[,.;?!():\\[\\]\\\"\\\"]\",\"\",\" \".join(x)).lower())\n",
    "combined['all_text_parsed_words_separate'] = combined['all_text_parsed'].apply(lambda x: x.split(\" \"))\n",
    "print(combined.head())\n",
    "# first join all comments reviews, etcetera into 1 big string\n",
    "# then remove all punctuation\n",
    "# then split on spaces to create words"
   ]
  },
  {
   "cell_type": "markdown",
   "metadata": {},
   "source": [
    "## extract  vocab"
   ]
  },
  {
   "cell_type": "code",
   "execution_count": 10,
   "metadata": {},
   "outputs": [
    {
     "name": "stdout",
     "output_type": "stream",
     "text": [
      "5001\n",
      "['', '\\t', '\\t\\t\\t\\t\\t\\t\\thardcover\\t', '\\t\\t\\t\\t\\t\\t\\tpaperback\\t', '#1', '$UNK', '&', '&amp', '&quot', '&quota', '&quothow', '&quoti', '&quotthe', \"'a\", \"'the\", '+', '-', '--', '---', '--this', '/', '1', '1/2', '10', '100', '100%', '1000', '101', '11', '12', '13', '14', '15', '150', '16', '17', '18', \"1800's\", '18th', '19', '1995', '1996', '1997', '1998', '1999', '19th', '1st', '2', '20', '200', '2000', '2001', '2002', '2003', '2004', '2005', '20th', '21', '21st', '22', '23', '24', '25', '2nd', '3', '30', '300', '35', '3rd', '4', '40', '400', '45', '4th', '5', '50', '500', '5th', '6', '60', '6th', '7', '70', '7th', '8', '8th', '9', '9/11', '=', 'a', 'abilities', 'ability', 'able', 'about', 'above', 'abridged', 'absolute', 'absolutely', 'absorb', 'absorbed', 'absorbing', 'abstract', 'absurd', 'abuse', 'academic', 'academy', 'accept', 'acceptable', 'accepted', 'access', 'accessible', 'accident', 'acclaimed', 'accompanying', 'accomplish', 'accomplished', 'according', 'account', 'accounts', 'accuracy', 'accurate', 'accurately', 'accused', 'achieve', 'achieved', 'achievement', 'across', 'act', 'acting', 'action', 'actions', 'active', 'activities', 'activity', 'actor', 'actors', 'acts', 'actual', 'actually', 'ad', 'adam', 'adams', 'adaptation', 'adapted', 'add', 'added', 'addicted', 'addiction', 'adding', 'addition', 'additional', 'address', 'addressed', 'addresses', 'adds', 'adequate', 'administration', 'admire', 'admit', 'adopted', 'adorable', 'adore', 'adult', 'adults', 'advance', 'advanced', 'advantage', 'adventure', 'adventures', 'adventurous', 'advertised', 'advertising', 'advice', 'advise', 'affair', 'affairs', 'affect', 'affected', 'afford', 'afraid', 'africa', 'african', 'after', 'afternoon', 'again', 'against', 'agatha', 'age', 'aged', 'agency', 'agenda', 'agent', 'ages', 'ago', 'agree', 'ahead', 'aid', 'aimed', 'air', 'aircraft', 'airplane', 'airport', 'aka', 'al', 'alan', 'alanna', 'alas', 'alaska', 'albeit', 'albert', 'alex', 'alexander', 'algebra', 'alice', 'alien', 'aliens', 'alike', 'alive', 'all', 'all-time', 'allen', 'allie', 'allow', 'allowed', 'allowing', 'allows', 'almost', 'alone', 'along', 'alot', 'aloud', 'alphabet', 'already', 'also', 'alternate', 'alternative', 'although', 'altogether', 'always', 'am', 'amateur', 'amazed', 'amazing', 'amazingly', 'amazon', 'amazoncom', 'ambrose', 'amelia', 'america', \"america's\", 'american', 'americans', 'among', 'amongst', 'amount', 'amusing', 'amy', 'an', 'analysis', 'anatomy', 'ancient', 'and', 'and/or', 'anderson', 'andrew', 'anecdotes', 'angel', \"angela's\", 'angeles', 'angels', 'anger', 'angle', 'angry', 'animal', 'animals', 'ann', 'anna', 'anne', 'annie', 'annoyed', 'annoying', 'another', 'answer', 'answered', 'answers', 'anthology', 'anthony', 'anticipation', 'anxiety', 'anxious', 'any', 'anybody', 'anymore', 'anyone', 'anything', 'anytime', 'anyway', 'anywhere', 'ap', 'apart', 'apparent', 'apparently', 'appeal', 'appealing', 'appear', 'appearance', 'appeared', 'appears', 'appendix', 'applicable', 'application', 'applications', 'applied', 'applies', 'apply', 'applying', 'appreciate', 'appreciated', 'appreciation', 'approach', 'approaches', 'appropriate', 'april', 'arabic', 'architecture', 'are', 'area', 'areas', \"aren't\", 'argue', 'argument', 'arguments', 'arizona', 'arms', 'army', 'around', 'arrive', 'arrived', 'art', 'arthur', 'article', 'articles', 'artist', 'artistic', 'artists', 'arts', 'artwork', 'as', 'ashamed', 'ashes', 'asia', 'asian', 'aside', 'ask', 'asked', 'asking', 'asks', 'asleep', 'aspect', 'aspects', 'aspiring', 'assigned', 'assignment', 'assist', 'assistant', 'associate', 'associated', 'association', 'assume', 'assumed', 'assumes', 'assumptions', 'astonishing', 'astounding', 'at', 'atkins', 'atlantic', 'atlas', 'atmosphere', 'attached', 'attack', 'attacks', 'attempt', 'attempted', 'attempting', 'attempts', 'attended', 'attention', 'attitude', 'attitudes', 'attorney', 'attracted', 'attraction', 'attractive', 'audience', 'audio', 'audiobook', 'august', 'aunt', 'austen', \"austen's\", 'austin', 'australia', 'authentic', 'author', \"author's\", 'authored', 'authoritative', 'authority', 'authors', 'autistic', 'autobiography', 'available', 'average', 'aviation', 'avid', 'avoid', 'awaiting', 'awakening', 'award', 'award-winning', 'awarded', 'awards', 'aware', 'awareness', 'away', 'awe', 'awesome', 'awful', 'awhile', 'awkward', 'b', 'babies', 'baby', 'back', 'background', 'bad', 'badly', 'bag', 'balance', 'balanced', 'ball', 'band', 'bank', 'bar', 'barbara', 'barely', 'bargain', 'barry', 'base', 'baseball', 'based', 'basic', 'basically', 'basics', 'basis', 'battle', 'battles', 'bay', 'bbc', 'be', 'beach', 'bean', 'bear', 'bears', 'beat', 'beautiful', 'beautifully', 'beauty', 'became', 'because', 'become', 'becomes', 'becoming', 'bed', 'bedtime', 'been', 'before', 'began', 'begin', 'begining', 'beginner', 'beginners', 'beginning', 'begins', 'begun', 'behavior', 'behaviors', 'behind', 'being', 'beings', 'belief', 'beliefs', 'believable', 'believe', 'believed', 'believer', 'believers', 'believes', 'believing', 'bell', 'belong', 'belongs', 'beloved', 'below', 'ben', 'beneficial', 'benefit', 'benefits', 'besides', 'best', 'best-selling', 'bestseller', 'bestselling', 'bet', 'betrayal', 'better', 'between', 'beware', 'beyond', 'bias', 'biased', 'bible', 'bibles', 'biblical', 'bibliography', 'big', 'bigger', 'biggest', 'bike', 'bill', 'billy', 'binding', 'biographies', 'biography', 'biology', 'bird', 'birds', 'birth', 'birthday', 'bishop', 'bit', 'bits', 'bitter', 'bizarre', 'black', 'blah', 'blame', 'bland', 'blank', 'blend', 'bless', 'blessed', 'blessing', 'blind', 'block', 'blood', 'blow', 'blown', 'blue', 'board', 'boat', 'bob', 'bodies', 'body', 'bogged', 'bold', 'bond', 'bone', 'bones', 'bonus', 'book', \"book's\", 'booki', 'bookit', 'books', 'bookshelf', 'bookstore', 'bookthe', 'bookthis', 'bore', 'bored', 'boring', 'born', 'borrow', 'borrowed', 'boss', 'boston', 'both', 'bother', 'bothered', 'bottom', 'bought', 'bound', 'boundaries', 'box', 'boy', 'boyfriend', 'boys', 'brain', 'brand', 'brave', 'bravo', 'bread', 'break', 'breaking', 'breaks', 'breath', 'breathtaking', 'brian', 'bride', 'bridge', 'bridget', 'brief', 'briefly', 'bright', 'brilliance', 'brilliant', 'brilliantly', 'bring', 'bringing', 'brings', 'britain', 'british', 'broad', 'broke', 'broken', 'bronte', 'brooks', 'brother', 'brothers', 'brought', 'brown', \"brown's\", 'bruce', 'brush', 'brutal', 'buck', 'bucks', 'bud', 'buddhism', 'buddhist', 'budget', 'buff', 'build', 'building', 'builds', 'built', 'bunch', 'buried', 'burroughs', 'bus', 'bush', 'business', 'busy', 'but', 'buy', 'buying', 'by', 'c', 'c++', 'cake', 'calculus', 'calendar', 'california', 'call', 'called', 'calling', 'calls', 'calvin', 'cambridge', 'came', 'camera', 'camp', 'campaign', 'can', \"can't\", 'canada', 'canadian', 'cancer', 'candy', 'cannot', 'cant', 'capable', 'capitalism', 'captain', 'captivated', 'captivating', 'capture', 'captured', 'captures', 'capturing', 'car', 'card', 'cards', 'care', 'cared', 'career', 'careers', 'careful', 'carefully', 'cares', 'caring', 'carl', 'carol', 'carolina', 'carried', 'carries', 'carry', 'carrying', 'cars', 'carter', 'cartoon', 'cartoons', 'case', 'cases', 'cash', 'cast', 'castle', 'casual', 'cat', 'catch', 'category', 'catherine', 'catholic', 'catholics', 'cats', 'caught', 'cause', 'caused', 'causes', 'caution', 'cd', \"cd's\", 'cds', 'celtic', 'center', 'centered', 'centers', 'central', 'centuries', 'century', 'certain', 'certainly', 'chair', 'challenge', 'challenged', 'challenges', 'challenging', 'chance', 'change', 'changed', 'changes', 'changing', 'chaos', 'chapter', 'chapters', 'character', \"character's\", 'characteristics', 'characterization', 'characterizations', 'characters', \"characters'\", 'charge', 'charles', 'charlie', 'charlotte', 'charm', 'charming', 'chart', 'charts', 'chase', 'cheap', 'cheaper', 'check', 'checked', 'checking', 'chemistry', 'chess', 'chicago', 'chicken', 'chief', 'child', \"child's\", 'childhood', 'children', \"children's\", 'chilling', 'china', 'chinese', 'chocolate', 'choice', 'choices', 'choose', 'choosing', 'chose', 'chosen', 'chris', 'christ', 'christian', 'christianity', 'christians', 'christie', 'christmas', 'christopher', 'chronicle', 'chronicles', 'church', 'churches', 'cia', 'circle', 'circumstances', 'cities', 'citizens', 'city', 'civil', 'civilization', 'claim', 'claims', 'clancy', \"clancy's\", 'clarity', 'clark', 'class', 'classes', 'classic', 'classical', 'classics', 'classroom', 'clay', 'clean', 'clear', 'clearer', 'clearly', 'clever', 'cliche', 'client', 'clients', 'climax', 'clinical', 'close', 'closed', 'closely', 'closer', 'clothes', 'clothing', 'club', 'clue', 'clues', 'co-author', 'coach', 'coast', 'code', 'coffee', 'cold', 'cole', 'collect', 'collected', 'collecting', 'collection', 'collections', 'collector', 'college', 'collins', 'color', 'colorado', 'colored', 'colorful', 'colors', 'colour', 'columbia', 'column', 'combat', 'combination', 'combine', 'combined', 'combines', 'come', 'comedy', 'comes', 'comfort', 'comfortable', 'comic', 'comics', 'coming', 'command', 'commander', 'comment', 'commentaries', 'commentary', 'comments', 'commercial', 'commitment', 'committed', 'common', 'communicate', 'communication', 'communist', 'community', 'compact', 'companies', 'companion', 'company', 'compare', 'compared', 'comparing', 'comparison', 'compassion', 'compassionate', 'compelled', 'compelling', 'competition', 'compilation', 'compiled', 'complain', 'complaint', 'complaints', 'complete', 'completed', 'completely', 'complex', 'complexity', 'complicated', 'composition', 'comprehend', 'comprehensive', 'computer', 'computers', 'con', 'concentration', 'concept', 'concepts', 'concern', 'concerned', 'concerning', 'concerns', 'concise', 'conclusion', 'conclusions', 'concrete', 'condition', 'conditions', 'confidence', 'confident', 'conflict', 'conflicts', 'confused', 'confusing', 'confusion', 'connect', 'connected', 'connection', 'connections', 'consciousness', 'consequences', 'conservative', 'consider', 'considerable', 'considered', 'considering', 'consistent', 'consistently', 'consists', 'conspiracy', 'constant', 'constantly', 'constructed', 'construction', 'consultant', 'contact', 'contain', 'contained', 'containing', 'contains', 'contemporary', 'content', 'contents', 'context', 'continually', 'continuation', 'continue', 'continued', 'continues', 'continuing', 'contrary', 'contrast', 'contributed', 'contribution', 'contributions', 'contrived', 'control', 'controversial', 'convenient', 'conversation', 'conversational', 'conversations', 'convey', 'convince', 'convinced', 'convincing', 'cook', 'cookbook', 'cookbooks', 'cooking', 'cool', 'cooper', 'cop', 'cope', 'copies', 'copy', 'copyright', 'core', 'corner', 'cornwell', \"cornwell's\", 'corporate', 'corps', 'correct', 'correctly', 'cost', 'costs', 'could', \"couldn't\", 'couldnt', 'coulter', 'count', 'counting', 'countless', 'countries', 'country', 'county', 'couple', 'couples', 'courage', 'courageous', 'course', 'courses', 'court', 'cousin', 'cover', 'coverage', 'covered', 'covering', 'covers', 'craft', 'crafted', 'crap', 'crash', 'crazy', 'create', 'created', 'creates', 'creating', 'creation', 'creative', 'creativity', 'creator', 'creatures', 'credibility', 'credible', 'credit', 'creepy', 'crew', 'crichton', \"crichton's\", 'cried', 'crime', 'crimes', 'criminal', 'crisis', 'crisp', 'critic', 'critical', 'criticism', 'critics', 'critique', 'cross', 'crowd', 'crucial', 'cruel', 'cry', 'crying', 'crystal', 'cs', 'cult', 'cultural', 'culture', 'cultures', 'cup', 'cure', 'curiosity', 'curious', 'current', 'currently', 'curriculum', 'customer', 'customers', 'customs', 'cut', 'cute', 'cuts', 'cutting', 'cycle', 'cynical', 'd', 'da', 'dad', 'daily', 'dale', 'damage', 'damn', 'dan', 'dance', 'danger', 'dangerous', 'dangers', 'daniel', 'darcy', 'dare', 'dark', 'darker', 'darkness', 'data', 'date', 'dated', 'dates', 'dating', 'daughter', \"daughter's\", 'daughters', 'dave', 'david', 'davinci', 'davis', 'dawn', 'day', 'days', 'dc', 'de', 'dead', 'deadly', 'deal', 'dealing', 'deals', 'dealt', 'dean', 'dear', 'death', 'debate', 'debt', 'debut', 'decade', 'decades', 'december', 'decent', 'deception', 'decide', 'decided', 'decides', 'decision', 'decisions', 'deck', 'dedicated', 'dedication', 'deep', 'deeper', 'deeply', 'defeat', 'defend', 'defense', 'definately', 'define', 'defined', 'definetly', 'definite', 'definitely', 'definition', 'definitions', 'definitive', 'degree', 'degrees', 'del', 'delicious', 'delight', 'delighted', 'delightful', 'deliver', 'delivered', 'delivers', 'delivery', 'delve', 'delves', 'democracy', 'demons', 'demonstrates', 'dense', 'department', 'depending', 'depicted', 'depiction', 'depicts', 'depressed', 'depressing', 'depression', 'depth', 'describe', 'described', 'describes', 'describing', 'description', 'descriptions', 'descriptive', 'desert', 'deserve', 'deserved', 'deserves', 'design', 'designed', 'designer', 'designs', 'desire', 'desired', 'desires', 'desk', 'despair', 'desperate', 'despite', 'destiny', 'destroy', 'destroyed', 'destruction', 'detail', 'detailed', 'detailing', 'details', 'detective', 'determination', 'determine', 'determined', 'develop', 'developed', 'developing', 'development', 'develops', 'device', 'devil', 'devoted', 'devotion', 'devotional', 'diagrams', 'dialog', 'dialogue', 'diaries', 'diary', 'dick', 'dickens', \"dickens'\", 'dictionaries', 'dictionary', 'did', \"didn't\", 'didnt', 'die', 'died', 'dies', 'diet', 'difference', 'differences', 'different', 'differently', 'difficult', 'difficulties', 'difficulty', 'dig', 'digest', 'digital', 'dimension', 'dimensional', 'dinner', 'direct', 'directed', 'direction', 'directions', 'directly', 'director', 'dirty', 'disagree', 'disappoint', 'disappointed', 'disappointing', 'disappointment', 'disaster', 'discipline', 'discover', 'discovered', 'discovering', 'discovers', 'discovery', 'discuss', 'discussed', 'discusses', 'discussing', 'discussion', 'discussions', 'discworld', 'disease', 'dishes', 'dislike', 'disney', 'disorder', 'display', 'displays', 'dissapointed', 'distance', 'distant', 'distinguished', 'distracting', 'disturbing', 'diverse', 'divided', 'divine', 'division', 'divorce', 'do', 'doctor', 'doctors', 'doctrine', 'document', 'documentation', 'documented', 'documents', 'does', \"doesn't\", 'doesnt', 'dog', 'dogs', 'doing', 'dollar', 'dollars', 'don', \"don't\", 'done', 'dont', 'door', 'double', 'doubt', 'doubts', 'douglas', 'down', 'download', 'downloaded', 'downright', 'doyle', 'dozen', 'dozens', 'dr', 'drag', 'dragged', 'dragon', 'dragons', 'drama', 'dramatic', 'draw', 'drawback', 'drawing', 'drawings', 'drawn', 'draws', 'dream', 'dreams', 'dress', 'drew', 'drink', 'drinking', 'drive', 'driven', 'drives', 'driving', 'drop', 'dropped', 'drug', 'drugs', 'dry', 'due', 'dull', 'dumas', 'dumb', 'during', 'dust', 'dutch', 'duty', 'dvd', 'dying', 'dynamic', 'dynamics', 'e', 'each', 'eager', 'eagerly', 'earlier', 'early', 'earned', 'earth', 'ease', 'easier', 'easily', 'east', 'eastern', 'easy', 'eat', 'eating', 'ebook', 'economic', 'economics', 'economy', 'ed', 'edgar', 'edge', 'edited', 'editing', 'edition', 'editions', 'editor', 'editorial', 'editors', 'educated', 'education', 'educational', 'edward', 'effect', 'effective', 'effectively', 'effects', 'effort', 'efforts', 'eg', 'ego', 'egypt', 'egyptian', 'eight', 'either', 'el', 'electronic', 'elegant', 'element', 'elementary', 'elements', 'elizabeth', 'ellen', 'eloquent', 'else', 'elsewhere', 'elvis', 'email', 'emeritus', 'emily', 'emma', 'emotion', 'emotional', 'emotionally', 'emotions', 'emphasis', 'empire', 'empty', 'en', 'enchanting', 'encounter', 'encountered', 'encounters', 'encourage', 'encouraged', 'encouragement', 'encourages', 'encouraging', 'encyclopedia', 'end', 'endearing', 'ended', 'ender', \"ender's\", 'ending', 'endings', 'endless', 'ends', 'endure', 'endured', 'enduring', 'enemies', 'enemy', 'energy', 'engage', 'engaged', 'engaging', 'engine', 'engineer', 'engineering', 'england', 'english', 'engrossed', 'engrossing', 'enhance', 'enjoy', 'enjoyable', 'enjoyed', 'enjoying', 'enjoyment', 'enjoys', 'enlightened', 'enlightening', 'enlightenment', 'enormous', 'enough', 'enter', 'entertain', 'entertained', 'entertaining', 'entertainment', 'enthralled', 'enthralling', 'enthusiasm', 'enthusiast', 'entire', 'entirely', 'entitled', 'entries', 'entry', 'environment', 'environmental', 'epic', 'episode', 'episodes', 'equal', 'equally', 'equipment', 'era', 'eric', 'erotic', 'erotica', 'error', 'errors', 'es', 'escape', 'especially', 'essay', 'essays', 'essence', 'essential', 'essentially', 'established', 'estate', 'este', 'et', 'etc', 'eternal', 'ethan', 'ethical', 'ethics', 'europe', 'european', 'evangelical', 'evanovich', 'evans', 'eve', 'even', 'evening', 'event', 'events', 'eventually', 'ever', 'everlasting', 'every', 'everybody', 'everyday', 'everyone', \"everyone's\", 'everything', 'everytime', 'everywhere', 'evidence', 'evident', 'evil', 'evolution', 'exact', 'exactly', 'exam', 'examination', 'examine', 'examines', 'example', 'examples', 'exams', 'excellent', 'except', 'exception', 'exceptional', 'exceptionally', 'excited', 'excitement', 'exciting', 'excuse', 'executive', 'exercise', 'exercises', 'exhaustive', 'exist', 'existed', 'existence', 'exists', 'exotic', 'expand', 'expanded', 'expect', 'expectations', 'expected', 'expecting', 'expensive', 'experience', 'experienced', 'experiences', 'experiencing', 'expert', 'expertise', 'experts', 'explain', 'explained', 'explaining', 'explains', 'explanation', 'explanations', 'explicit', 'exploration', 'explore', 'explored', 'explores', 'exploring', 'expose', 'exposed', 'exposes', 'exposition', 'exposure', 'express', 'expressed', 'expression', 'expressions', 'exquisite', 'extended', 'extensive', 'extensively', 'extent', 'extra', 'extraordinary', 'extreme', 'extremely', 'eye', 'eyes', 'eyre', 'f', 'fabric', 'fabulous', 'face', 'faced', 'faces', 'facing', 'fact', 'factor', 'facts', 'factual', 'fail', 'failed', 'fails', 'failure', 'fair', 'fairies', 'fairly', 'fairy', 'faith', 'faithful', 'fake', 'fall', 'fallen', 'falling', 'falls', 'false', 'fame', 'familiar', 'families', 'family', \"family's\", 'famous', 'fan', 'fancy', 'fans', 'fantastic', 'fantasy', 'far', 'farm', 'fascinated', 'fascinating', 'fashion', 'fashioned', 'fast', 'fast-paced', 'faster', 'fat', 'fate', 'father', \"father's\", 'fathers', 'fault', 'favor', 'favorite', 'favorites', 'favourite', 'fear', 'fears', 'feature', 'featured', 'features', 'featuring', 'federal', 'feed', 'feel', 'feeling', 'feelings', 'feels', 'feet', 'fell', 'fellow', 'felt', 'female', 'feminist', 'few', 'fiction', 'fictional', 'field', 'fields', 'fifteen', 'fifth', 'fifty', 'fight', 'fighting', 'fights', 'figure', 'figured', 'figures', 'file', 'fill', 'filled', 'fills', 'film', 'films', 'final', 'finally', 'finance', 'financial', 'find', 'finding', 'finds', 'fine', 'finest', 'finish', 'finished', 'finishing', 'finn', 'fire', 'firm', 'first', 'fish', 'fishing', 'fit', 'fitness', 'fits', 'fitzgerald', 'five', 'fix', 'flash', 'flat', 'flavor', 'flaw', 'flawed', 'flaws', 'flight', 'flip', 'floor', 'florida', 'flow', 'flower', 'flowers', 'flowing', 'flows', 'fluff', 'fly', 'flying', 'focus', 'focused', 'focuses', 'focusing', 'folk', 'folks', 'follow', 'followed', 'followers', 'following', 'follows', 'fond', 'font', 'food', 'foods', 'fool', 'foot', 'football', 'footnotes', 'for', 'force', 'forced', 'forces', 'foreign', 'foremost', 'forest', 'forever', 'forget', 'forgive', 'forgiveness', 'forgot', 'forgotten', 'form', 'formal', 'format', 'formatting', 'formed', 'former', 'forms', 'formula', 'forth', 'fortunate', 'fortunately', 'fortune', 'forty', 'forward', 'foster', 'fought', 'found', 'foundation', 'founded', 'founder', 'founding', 'four', 'fourth', 'fox', 'frame', 'framework', 'france', 'francis', 'francisco', 'frank', 'franklin', 'frankly', 'free', 'freedom', 'freelance', 'french', 'frequent', 'frequently', 'fresh', 'friend', 'friendly', 'friends', 'friendship', 'frightening', 'from', 'front', 'frontier', 'frustrated', 'frustrating', 'frustration', 'full', 'fully', 'fun', 'function', 'functions', 'fundamental', 'fundamentals', 'funniest', 'funny', 'further', 'future', 'g', 'gain', 'gained', 'game', 'games', 'gang', 'garbage', 'garden', 'gary', 'gatsby', 'gave', 'gay', 'geared', 'geisha', 'gem', 'gems', 'gender', 'gene', 'general', 'generally', 'generation', 'generations', 'genius', 'genre', 'gentle', 'genuine', 'genuinely', 'geography', 'george', 'georgia', 'german', 'germany', 'get', 'gets', 'getting', 'ghost', 'ghosts', 'giant', 'gift', 'gifted', 'gifts', 'girl', 'girlfriend', 'girls', 'give', 'given', 'giver', 'gives', 'giving', 'glad', 'glance', 'glass', 'glimpse', 'global', 'glorious', 'glory', 'glossary', 'glued', 'go', 'goal', 'goals', 'god', \"god's\", 'goddess', 'gods', 'goes', 'going', 'gold', 'golden', 'golf', 'gone', 'gonna', 'good', 'goodness', 'gordon', 'gore', 'gorgeous', 'gospel', 'got', 'gothic', 'gotta', 'gotten', 'government', 'grab', 'grabbed', 'grabs', 'grace', 'grade', 'graduate', 'graduated', 'graham', 'grammar', 'grammatical', 'grand', 'grandchildren', 'granddaughter', 'grandfather', 'grandma', 'grandmother', 'grandparents', 'grandson', 'grant', 'granted', 'graphic', 'graphics', 'grasp', 'grateful', 'gray', 'great', 'greater', 'greatest', 'greatly', 'greece', 'greed', 'greek', 'green', 'grew', 'grey', 'grief', 'gripping', 'grisham', \"grisham's\", 'ground', 'group', 'groups', 'grow', 'growing', 'grown', 'grows', 'growth', 'guarantee', 'guess', 'guessing', 'guidance', 'guide', 'guided', 'guidelines', 'guides', 'guilt', 'guilty', 'guitar', 'gun', 'guns', 'guy', 'guys', 'h', 'ha', 'habits', 'had', \"hadn't\", 'hair', 'half', 'halfway', 'hall', 'hand', 'handbook', 'handle', 'handled', 'handling', 'hands', 'handsome', 'handy', 'hang', 'hanging', 'happen', 'happened', 'happening', 'happens', 'happier', 'happily', 'happiness', 'happy', 'hard', 'hardback', 'hardcover', 'harder', 'hardly', 'hardships', 'hardy', 'harriet', 'harris', 'harry', 'harsh', 'harvard', 'has', \"hasn't\", 'hat', 'hatchet', 'hate', 'hated', 'hates', 'hatred', 'haunted', 'haunting', 'have', \"haven't\", 'having', 'he', \"he's\", 'head', 'heads', 'heal', 'healing', 'health', 'healthy', 'hear', 'heard', 'hearing', 'heart', 'heartbreaking', 'hearts', 'heartwarming', 'heat', 'heaven', 'heavily', 'heavy', 'hebrew', 'heck', 'heights', 'held', 'helen', 'hell', 'help', 'helped', 'helpful', 'helping', 'helps', 'hence', 'henry', 'her', 'here', \"here's\", 'heritage', 'hero', 'heroes', 'heroic', 'heroine', 'hers', 'herself', 'hesitate', 'hey', 'hidden', 'hide', 'high', 'higher', 'highest', 'highlights', 'highly', 'hilarious', 'hill', 'him', 'himself', 'hint', 'hints', 'his', 'his/her', 'historian', 'historians', 'historic', 'historical', 'historically', 'histories', 'history', 'hit', 'hitler', 'hits', 'hold', 'holding', 'holds', 'hole', 'holes', 'holiday', 'holidays', 'hollywood', 'holmes', 'holocaust', 'holy', 'home', 'homeless', 'homes', 'homework', 'honest', 'honestly', 'honesty', 'honor', 'hook', 'hooked', 'hope', 'hoped', 'hopefully', 'hopes', 'hoping', 'hornblower', 'horrible', 'horrific', 'horror', 'horrors', 'horse', 'horses', 'hospital', 'host', 'hot', 'hotel', 'hour', 'hours', 'house', 'household', 'houses', 'how', 'how-to', 'howard', 'however', 'huck', 'huge', 'human', 'humanity', 'humans', 'humble', 'humor', 'humorous', 'humour', 'hundred', 'hundreds', 'hunger', 'hungry', 'hunt', 'hunter', 'hunting', 'hurry', 'hurt', 'husband', 'hype', 'i', \"i'd\", \"i'll\", \"i'm\", \"i've\", 'ian', 'ice', 'idea', 'ideal', 'ideas', 'identify', 'identity', 'idiot', 'ie', 'if', 'ignorance', 'ignorant', 'ignore', 'ignored', 'ii', 'iii', 'ill', 'illness', 'illustrate', 'illustrated', 'illustrates', 'illustration', 'illustrations', 'illustrator', 'im', 'image', 'imagery', 'images', 'imagination', 'imaginative', 'imagine', 'imagined', 'immediate', 'immediately', 'immensely', 'impact', 'implement', 'implications', 'importance', 'important', 'importantly', 'impossible', 'impressed', 'impression', 'impressive', 'improve', 'improved', 'improvement', 'improving', 'in', 'in-depth', 'inc', 'inc\\t', 'incident', 'include', 'included', 'includes', 'including', 'incomplete', 'incorrect', 'increase', 'incredible', 'incredibly', 'indeed', 'independence', 'independent', 'index', 'india', 'indian', 'indiana', 'indians', 'indispensable', 'individual', 'individuals', 'industry', 'inexpensive', 'influence', 'influenced', 'influential', 'info', 'information', 'informative', 'informed', 'ingredients', 'initial', 'initially', 'ink', 'inner', 'innocence', 'innocent', 'innovative', 'insane', 'inside', 'insight', 'insightful', 'insights', 'inspiration', 'inspirational', 'inspire', 'inspired', 'inspires', 'inspiring', 'installment', 'instance', 'instant', 'instantly', 'instead', 'institute', 'instruction', 'instructional', 'instructions', 'instructor', 'integrity', 'intellectual', 'intelligence', 'intelligent', 'intend', 'intended', 'intense', 'intensity', 'intent', 'intention', 'interaction', 'interactions', 'interest', 'interested', 'interesting', 'interests', 'interior', 'intermediate', 'internal', 'international', 'internationally', 'internet', 'interpretation', 'interpretations', 'interview', 'interviews', 'intimate', 'into', 'intricate', 'intrigue', 'intrigued', 'intriguing', 'intro', 'introduce', 'introduced', 'introduces', 'introducing', 'introduction', 'introductory', 'invaluable', 'invest', 'investigation', 'investing', 'investment', 'involved', 'involves', 'involving', 'iraq', 'ireland', 'irish', 'irony', 'irritating', 'is', 'isbn', 'islam', 'islamic', 'island', 'islands', \"isn't\", 'israel', 'issue', 'issues', 'it', \"it'll\", \"it's\", 'italian', 'italy', 'item', 'items', 'iti', 'its', 'itself', 'itthe', 'ive', 'j', 'jack', 'jacket', 'jackson', 'jail', 'james', 'jane', 'janet', 'janette', 'january', 'japan', 'japanese', 'jargon', 'java', 'jay', 'jazz', 'jean', 'jeff', 'jenkins', 'jerry', 'jersey', 'jesus', 'jewish', 'jews', 'jim', 'job', 'jobs', 'joe', 'john', 'johnny', 'johnson', 'join', 'joined', 'joke', 'jokes', 'jonas', 'jonathan', 'jones', 'jordan', 'joseph', 'journal', 'journalism', 'journalist', 'journals', 'journey', 'joy', 'joyce', 'jr', 'judge', 'july', 'jump', 'jumping', 'jumps', 'june', 'jungle', 'junior', 'junk', 'jurassic', 'jury', 'just', 'justice', 'k', 'karen', 'kate', 'kay', 'keen', 'keep', 'keeper', 'keeping', 'keeps', 'kelly', 'ken', 'kennedy', 'kept', 'kerry', 'kevin', 'key', 'kick', 'kid', 'kidnapped', 'kids', 'kill', 'killed', 'killer', 'killing', 'kills', 'kind', 'kinda', 'kindle', 'kinds', 'king', \"king's\", 'kingdom', 'kings', 'kiss', 'kit', 'kitchen', 'knew', 'knife', 'knight', 'knit', 'knitting', 'knots', 'know', 'knowing', 'knowledge', 'knowledgeable', 'known', 'knows', 'korean', 'kudos', 'l', 'la', 'labor', 'lack', 'lacked', 'lacking', 'lacks', 'ladies', 'lady', 'laid', 'lake', 'lamb', 'lame', 'lance', 'land', 'lands', 'landscape', 'language', 'languages', 'large', 'largely', 'larger', 'largest', 'larry', 'las', 'last', 'lasting', 'late', 'lately', 'later', 'latest', 'latin', 'latter', 'laugh', 'laughed', 'laughing', 'laughs', 'laughter', 'laura', 'law', 'lawrence', 'laws', 'lawyer', 'lawyers', 'lay', 'layout', 'lays', 'lazy', 'le', 'lead', 'leader', 'leaders', 'leadership', 'leading', 'leads', 'league', 'learn', 'learned', 'learning', 'learns', 'least', 'leather', 'leave', 'leaves', 'leaving', 'lecture', 'lecturer', 'lectures', 'led', 'lee', 'left', 'legacy', 'legal', 'legend', 'legendary', 'legends', 'lemony', 'length', 'lengthy', 'lent', 'leonard', 'less', 'lesser', 'lesson', 'lessons', 'lestat', 'let', \"let's\", 'lets', 'letter', 'letters', 'letting', 'level', 'levels', 'lewis', 'liberal', 'liberals', 'liberty', 'libraries', 'library', 'libro', 'lie', 'lies', 'life', \"life's\", 'lifestyle', 'lifetime', 'lift', 'light', 'lighting', 'lights', 'likable', 'like', 'likeable', 'liked', 'likely', 'likes', 'liking', 'limited', 'lincoln', 'linda', 'line', 'lines', 'link', 'links', 'lisa', 'list', 'listed', 'listen', 'listened', 'listening', 'listing', 'lists', 'lit', 'literally', 'literary', 'literature', 'little', 'live', 'lived', 'lively', 'lives', 'living', 'lo', 'loaded', 'loaned', 'local', 'location', 'locations', 'logic', 'logical', 'lois', 'lol', 'london', 'lonely', 'long', 'longer', 'look', 'looked', 'looking', 'looks', 'loose', 'lord', 'los', 'lose', 'loses', 'losing', 'loss', 'lost', 'lot', 'lots', 'loud', 'louis', 'louise', 'lovable', 'love', 'loved', 'lovely', 'lover', 'lovers', 'loves', 'loving', 'low', 'lower', 'lowry', 'loyal', 'loyalty', 'lucid', 'luck', 'lucky', 'lucy', 'lunch', 'lust', 'lying', 'lynn', 'lyrical', 'm', 'ma', 'machine', 'mad', 'made', 'magazine', 'magazines', 'magic', 'magical', 'magnificent', 'mail', 'main', 'maine', 'mainly', 'mainstream', 'maintain', 'major', 'majority', 'make', 'makes', 'making', 'male', 'man', \"man's\", 'manage', 'managed', 'management', 'manager', 'managers', 'manages', 'managing', 'manga', 'mankind', 'manner', 'manners', 'manson', 'manual', 'manuscript', 'many', 'map', 'maps', 'march', 'margaret', 'marine', 'mark', 'marked', 'market', 'marketing', 'marks', 'marriage', 'married', 'marry', 'martial', 'martin', 'marvelous', 'mary', 'mass', 'massachusetts', 'massive', 'master', 'masterful', 'masterfully', 'masterpiece', 'masters', 'mastery', 'match', 'material', 'materials', 'math', 'mathematical', 'mathematics', 'matt', 'matter', 'matters', 'matthew', 'mature', 'max', 'may', 'maybe', 'md', 'me', 'meal', 'meals', 'mean', 'meaning', 'meaningful', 'meanings', 'means', 'meant', 'measure', 'meat', 'mechanics', 'medal', 'media', 'medical', 'medicine', 'medieval', 'mediocre', 'meditation', 'meditations', 'medium', 'meet', 'meeting', 'meetings', 'meets', 'meg', 'member', 'members', 'memoir', 'memoirs', 'memorable', 'memories', 'memory', 'men', 'mental', 'mentally', 'mention', 'mentioned', 'mentions', 'mercy', 'mere', 'merely', 'merit', 'mess', 'message', 'messages', 'met', 'method', 'methods', 'mexican', 'mexico', 'mia', 'michael', 'michigan', 'microsoft', 'mid', 'middle', 'midst', 'might', 'mike', 'miles', 'military', 'mill', 'miller', 'million', 'millionaire', 'millions', 'mind', 'minded', 'minds', 'mindset', 'mine', 'minister', 'ministry', 'minor', 'minute', 'minutes', 'miracle', 'miracles', 'mirror', 'misleading', 'miss', 'missed', 'missing', 'mission', 'mississippi', 'mistake', 'mistakes', 'mix', 'mixed', 'model', 'models', 'modern', 'mom', 'moment', 'moments', 'moms', 'money', 'monster', 'monsters', 'montana', 'month', 'months', 'mood', 'moon', 'moore', 'moral', 'morality', 'morals', 'more', 'morgan', 'mormon', 'morning', 'morris', 'most', 'mostly', 'mother', \"mother's\", 'mothers', 'motion', 'motivated', 'motivation', 'motives', 'mountain', 'mountains', 'mouse', 'mouth', 'move', 'moved', 'movement', 'movements', 'moves', 'movie', 'movies', 'moving', 'mr', 'mrs', 'ms', 'much', 'multiple', 'mundane', 'murder', 'murdered', 'murderer', 'murders', 'museum', 'music', 'musical', 'must', 'must-have', 'must-read', 'my', 'myself', 'mysteries', 'mysterious', 'mystery', 'mystical', 'myth', 'mythology', 'myths', 'n', 'naive', 'naked', 'name', 'named', 'names', 'nancy', 'nanny', 'narnia', 'narration', 'narrative', 'narrator', 'narrow', 'nasty', 'nation', 'national', 'nations', 'native', 'natural', 'naturally', 'nature', 'naval', 'navy', 'nazi', 'near', 'nearly', 'neat', 'necessarily', 'necessary', 'need', 'needed', 'needing', 'needless', 'needs', 'negative', 'neighbors', 'neither', 'nelson', 'nephew', 'net', 'network', 'never', 'nevertheless', 'new', 'newer', 'newest', 'newly', 'news', 'newspaper', 'newspapers', 'next', 'nice', 'nicely', 'nicholas', 'nick', 'niece', 'night', 'nights', 'nine', 'no', 'noah', 'nobel', 'noble', 'nobody', 'non', 'non-fiction', 'none', 'nonetheless', 'nonfiction', 'nonsense', 'nor', 'nora', 'normal', 'normally', 'norman', 'north', 'northern', 'not', 'note', 'notebook', 'noted', 'notes', 'nothing', 'notice', 'noticed', 'notion', 'novel', 'novelist', 'novels', 'novice', 'now', 'nowhere', 'nuclear', 'number', 'numbers', 'numerous', 'nurse', 'nursing', 'nutrition', 'nuts', 'ny', 'o', 'object', 'objective', 'objects', 'obscure', 'observations', 'obsessed', 'obsession', 'obstacles', 'obtain', 'obvious', 'obviously', 'occasional', 'occasionally', 'occur', 'occurred', 'ocean', 'october', 'odd', 'odds', 'of', 'off', 'offensive', 'offer', 'offered', 'offering', 'offers', 'office', 'officer', 'officers', 'official', 'often', 'oh', 'ohio', 'oil', 'ok', 'okay', 'oke', 'olaf', 'old', 'old-fashioned', 'older', 'oldest', 'on', 'once', 'one', \"one's\", 'ones', 'online', 'only', 'onto', 'open', 'opened', 'opener', 'opening', 'opens', 'opera', 'operation', 'operations', 'opinion', 'opinions', 'opportunities', 'opportunity', 'opposed', 'opposite', 'oprah', 'option', 'options', 'or', 'oracle', 'order', 'ordered', 'ordering', 'ordinary', 'organization', 'organizations', 'organized', 'origin', 'original', 'originally', 'origins', 'orleans', 'orphans', 'orthodox', 'oscar', 'other', 'others', 'otherwise', 'ought', 'our', 'ourselves', 'out', 'outcome', 'outdated', 'outline', 'outlines', 'outlook', 'outside', 'outstanding', 'over', 'overall', 'overcome', 'overlooked', 'overly', 'overview', 'overwhelmed', 'overwhelming', 'own', 'owned', 'owner', 'owners', 'oxford', 'oz', 'p', 'pace', 'paced', 'pacific', 'pacing', 'pack', 'package', 'packed', 'page', 'page-turner', 'pages', 'paid', 'pain', 'painful', 'paint', 'painted', 'painting', 'paintings', 'paints', 'pair', 'pan', 'pants', 'paper', 'paperback', 'papers', 'par', 'para', 'paradise', 'paragraph', 'paragraphs', 'parallel', 'paranormal', 'parent', 'parenting', 'parents', 'paris', 'park', 'parker', 'part', 'particular', 'particularly', 'parties', 'partner', 'parts', 'party', 'pass', 'passage', 'passages', 'passed', 'passing', 'passion', 'passionate', 'past', 'pastor', 'pat', 'path', 'pathetic', 'patience', 'patient', 'patients', 'patricia', 'patrick', 'pattern', 'patterns', 'patterson', \"patterson's\", 'paul', 'pay', 'paying', 'pc', 'peace', 'peaceful', 'pearl', 'pen', 'penguin', 'penny', 'people', \"people's\", 'peoples', 'per', 'perception', 'perfect', 'perfectly', 'perform', 'performance', 'perhaps', 'period', 'periods', 'person', \"person's\", 'personal', 'personalities', 'personality', 'personally', 'persons', 'perspective', 'perspectives', 'persuasion', 'pet', 'peter', 'peters', 'phantom', 'phd', 'phenomenal', 'philip', 'philosopher', 'philosophers', 'philosophical', 'philosophy', 'phone', 'photo', 'photographer', 'photographs', 'photography', 'photos', 'photoshop', 'phrase', 'phrases', 'physical', 'physically', 'physics', 'pi', 'piano', 'pick', 'picked', 'picking', 'picks', 'picture', 'pictures', 'piece', 'pieces', 'pilot', 'pimsleur', 'pioneer', 'pirates', 'pity', 'place', 'placed', 'places', 'plain', 'plan', 'plane', 'planet', 'planned', 'planning', 'plans', 'plant', 'plants', 'plausible', 'play', 'played', 'player', 'players', 'playing', 'plays', 'pleasant', 'pleasantly', 'please', 'pleased', 'pleasure', 'plenty', 'plot', 'plots', 'plum', 'plus', 'pocket', 'poem', 'poems', 'poet', 'poetic', 'poetry', 'poets', 'poignant', 'point', 'pointed', 'pointless', 'points', 'police', 'policy', 'polish', 'political', 'politically', 'politicians', 'politics', 'ponder', 'poor', 'poorly', 'pop', 'pope', 'popular', 'population', 'portion', 'portions', 'portland', 'portrait', 'portray', 'portrayal', 'portrayed', 'portrays', 'position', 'positions', 'positive', 'possibilities', 'possibility', 'possible', 'possibly', 'post', 'posted', 'potential', 'potter', 'potty', 'pounds', 'poverty', 'power', 'powerful', 'powers', 'practical', 'practically', 'practice', 'practiced', 'practices', 'practicing', 'praise', 'pratchett', 'pray', 'prayer', 'prayers', 'preaching', 'preachy', 'precious', 'precise', 'predictable', 'preface', 'prefer', 'preferred', 'pregnancy', 'pregnant', 'prejudice', 'premise', 'preparation', 'prepare', 'prepared', 'preparing', 'presence', 'present', 'presentation', 'presented', 'presenting', 'presents', 'president', 'press', 'pressure', 'pretty', 'prevent', 'previous', 'previously', 'prey', 'price', 'priceless', 'prices', 'pride', 'priest', 'primarily', 'primary', 'prime', 'primer', 'prince', 'princess', 'principal', 'principle', 'principles', 'print', 'printed', 'printing', 'prior', 'prison', 'private', 'prize', 'pro', 'probably', 'problem', 'problems', 'process', 'processes', 'produce', 'produced', 'product', 'production', 'products', 'profession', 'professional', 'professionals', 'professor', 'profound', 'profoundly', 'program', 'programmer', 'programming', 'programs', 'progress', 'project', 'projects', 'prolific', 'prominent', 'promise', 'promised', 'promises', 'promote', 'promptly', 'pronunciation', 'proof', 'propaganda', 'proper', 'properly', 'property', 'prophecy', 'prose', 'protagonist', 'protect', 'proud', 'prove', 'proved', 'proven', 'proves', 'provide', 'provided', 'provides', 'providing', 'provocative', 'provoking', 'psyche', 'psychic', 'psychological', 'psychologist', 'psychology', 'public', 'publication', 'publications', 'publish', 'published', 'publisher', 'publishers', 'publishing', 'pulitzer', 'pull', 'pulled', 'pullman', 'pulls', 'punctuation', 'punishment', 'puppy', 'purchase', 'purchased', 'purchasing', 'pure', 'purely', 'purpose', 'purposes', 'pursue', 'pursuit', 'push', 'put', 'puts', 'putting', 'puzzle', 'puzzles', 'qualities', 'quality', 'quantum', 'que', 'queen', 'quest', 'question', 'questions', 'quick', 'quickly', 'quiet', 'quilt', 'quilting', 'quilts', 'quirky', 'quit', 'quite', 'quote', 'quotes', 'r', 'race', 'races', 'rachel', 'racing', 'racism', 'racist', 'radical', 'radio', 'rainbow', 'rainy', 'raise', 'raised', 'raising', 'ralph', 'ran', 'rand', 'random', 'range', 'ranging', 'rank', 'ranks', 'rape', 'rapture', 'rare', 'rarely', 'rate', 'rated', 'rather', 'rating', 'rational', 'raw', 'ray', 're-read', 're-reading', 'reach', 'reached', 'reaches', 'reaching', 'reaction', 'reactions', 'read', 'readable', 'reader', \"reader's\", 'readers', 'readi', 'readily', 'reading', 'readings', 'reads', 'ready', 'real', 'real-life', 'realism', 'realistic', 'realities', 'reality', 'realize', 'realized', 'realizes', 'realizing', 'really', 'realm', 'reason', 'reasonable', 'reasonably', 'reasoning', 'reasons', 'recall', 'reccomend', 'reccommend', 'receive', 'received', 'receiving', 'recent', 'recently', 'recieved', 'recipe', 'recipes', 'recognition', 'recognize', 'recognized', 'recomend', 'recommend', 'recommendation', 'recommendations', 'recommended', 'recommending', 'record', 'recorded', 'recording', 'records', 'recovery', 'red', 'redemption', 'redwall', 'reed', 'refer', 'reference', 'references', 'referred', 'referring', 'refers', 'reflect', 'reflection', 'reflects', 'refreshing', 'regard', 'regarding', 'regardless', 'regards', 'region', 'regret', 'regular', 'regularly', 'reiki', 'relate', 'related', 'relates', 'relating', 'relation', 'relations', 'relationship', 'relationships', 'relative', 'relatively', 'relatives', 'relax', 'release', 'released', 'relevant', 'reliable', 'relief', 'religion', 'religions', 'religious', 'reluctant', 'rely', 'remain', 'remained', 'remaining', 'remains', 'remarkable', 'remember', 'remembered', 'remind', 'reminded', 'reminder', 'reminds', 'remote', 'removed', 'renaissance', 'renowned', 'repair', 'repeat', 'repeated', 'repeatedly', 'repetition', 'repetitive', 'replace', 'report', 'reporter', 'reports', 'represent', 'represented', 'represents', 'reprint', 'reputation', 'require', 'required', 'requires', 'reread', 'rereading', 'rescue', 'research', 'researched', 'researching', 'resides', 'resist', 'resolution', 'resource', 'resources', 'respect', 'respected', 'respond', 'response', 'responsibility', 'responsible', 'rest', 'restaurant', 'result', 'results', 'retired', 'return', 'returned', 'returning', 'returns', 'reveal', 'revealed', 'revealing', 'reveals', 'revelation', 'revelations', 'revenge', 'review', 'reviewed', 'reviewer', 'reviewers', 'reviewing', 'reviews', 'revised', 'revolution', 'revolutionary', 'rewarding', 'rice', 'rich', 'richard', 'richly', 'rick', 'rid', 'ride', 'ridiculous', 'riding', 'right', 'rights', 'ring', 'rings', 'rise', 'rising', 'risk', 'river', 'riveting', 'road', 'robert', 'roberts', 'robin', 'robinson', 'rochester', 'rock', 'rocks', 'roger', 'role', 'roles', 'roll', 'rolling', 'roman', 'romance', 'romances', 'romantic', 'rome', 'room', 'root', 'roots', 'rose', 'ross', 'rough', 'round', 'route', 'routine', 'royal', 'ruin', 'ruined', 'rule', 'rules', 'run', 'running', 'runs', 'rural', 'rush', 'rushed', 'russell', 'russia', 'russian', 'ryan', 's', 'sacred', 'sacrifice', 'sad', 'sadly', 'sadness', 'safe', 'safety', 'saga', 'said', 'sailing', 'saint', 'saints', 'sake', 'sale', 'sales', 'salt', 'salvation', 'sam', 'same', 'sample', 'san', 'santa', 'sara', 'sarah', 'sat', 'satire', 'satisfied', 'satisfy', 'satisfying', 'save', 'saved', 'saving', 'saw', 'sawyer', 'say', 'saying', 'says', 'scale', 'scare', 'scared', 'scarpetta', 'scary', 'scenario', 'scenarios', 'scene', 'scenery', 'scenes', 'scholar', 'scholarly', 'scholars', 'scholarship', 'school', 'schools', 'sci-fi', 'science', 'sciences', 'scientific', 'scientist', 'scientists', 'scope', 'score', 'scotland', 'scott', 'scottish', 'screen', 'script', 'scripture', 'scriptures', 'se', 'sea', 'search', 'searched', 'searching', 'season', 'seasoned', 'seat', 'second', 'secondary', 'secret', 'secrets', 'section', 'sections', 'security', 'see', 'seeing', 'seek', 'seeking', 'seeks', 'seem', 'seemed', 'seemingly', 'seems', 'seen', 'sees', 'selected', 'selection', 'self', 'self-help', 'selfish', 'sell', 'seller', 'selling', 'semester', 'seminary', 'send', 'sending', 'senior', 'sense', 'senses', 'sensible', 'sensitive', 'sent', 'sentence', 'sentences', 'separate', 'september', 'sequel', 'sequels', 'sequence', 'serial', 'series', 'serious', 'seriously', 'serve', 'served', 'serves', 'service', 'services', 'serving', 'set', 'sets', 'setting', 'settings', 'seven', 'several', 'sewing', 'sex', 'sexual', 'sexuality', 'sexy', 'sf', 'shadow', 'shakespeare', 'shall', 'shallow', 'shame', 'shannara', 'shape', 'shaped', 'share', 'shared', 'shares', 'sharing', 'sharp', 'sharpe', 'she', \"she's\", 'shed', 'sheer', 'shelf', 'shelves', 'sherlock', 'shines', 'ship', 'shipped', 'shipping', 'ships', 'shock', 'shocked', 'shocking', 'shoes', 'shooting', 'shop', 'shopping', 'short', 'shorter', 'shortly', 'shot', 'shots', 'should', \"shouldn't\", 'show', 'showed', 'showing', 'shown', 'shows', 'shy', 'sick', 'side', 'sides', 'sight', 'sign', 'significance', 'significant', 'signs', 'silent', 'silly', 'silver', 'similar', 'similarities', 'simon', 'simple', 'simplicity', 'simplistic', 'simply', 'sin', 'since', 'sincere', 'single', 'sir', 'sister', 'sisters', 'sit', 'site', 'sites', 'sitting', 'situation', 'situations', 'six', 'sixth', 'size', 'skeptical', 'sketches', 'skill', 'skills', 'skin', 'skip', 'skipped', 'skipping', 'sky', 'slave', 'slavery', 'slaves', 'sleep', 'sleeping', 'slight', 'slightly', 'slim', 'slow', 'slowly', 'small', 'smaller', 'smart', 'smell', 'smile', 'smith', 'smooth', 'snicket', 'snow', 'so', 'so-called', 'soap', 'social', 'society', 'sociology', 'soft', 'software', 'sold', 'soldier', 'soldiers', 'solid', 'solution', 'solutions', 'solve', 'solved', 'solving', 'some', 'somebody', 'someday', 'somehow', 'someone', 'something', 'sometime', 'sometimes', 'somewhat', 'somewhere', 'son', \"son's\", 'song', 'songs', 'sons', 'soon', 'sooner', 'sophisticated', 'sorry', 'sort', 'sorts', 'soul', 'souls', 'sound', 'sounded', 'sounds', 'source', 'sources', 'south', 'southern', 'soviet', 'space', 'spain', 'span', 'spanish', 'spare', 'sparks', 'speak', 'speaker', 'speakers', 'speaking', 'speaks', 'special', 'species', 'specific', 'specifically', 'spectacular', 'speech', 'speed', 'spell', 'spelling', 'spells', 'spend', 'spending', 'spends', 'spent', 'spin', 'spine', 'spirit', 'spirits', 'spiritual', 'spirituality', 'spiritually', 'spite', 'splendid', 'spoil', 'spoiled', 'spoke', 'spoken', 'sport', 'sports', 'spot', 'spots', 'spouse', 'spread', 'spring', 'spy', 'st', 'staff', 'stage', 'stages', 'stand', 'standard', 'standards', 'standing', 'stands', 'stanley', 'star', 'stars', 'start', 'started', 'starting', 'starts', 'state', 'stated', 'statement', 'statements', 'states', 'station', 'statistics', 'status', 'stay', 'stayed', 'staying', 'stays', 'steal', 'stealing', 'steinbeck', 'step', 'step-by-step', 'stephanie', 'stephen', 'steps', 'stereotypes', 'steve', 'steven', 'stick', 'still', 'stimulating', 'stitches', 'stock', 'stolen', 'stomach', 'stone', 'stood', 'stop', 'stopped', 'stops', 'store', 'stores', 'stories', 'storm', 'story', 'storyline', 'storyteller', 'storytelling', 'straight', 'straightforward', 'strange', 'stranger', 'strategies', 'strategy', 'street', 'streets', 'strength', 'strengths', 'stress', 'stretch', 'strikes', 'striking', 'strip', 'strips', 'strong', 'stronger', 'strongly', 'struck', 'structure', 'structured', 'structures', 'struggle', 'struggled', 'struggles', 'struggling', 'stuart', 'stuck', 'student', 'students', 'studied', 'studies', 'studio', 'study', 'studying', 'stuff', 'stumbled', 'stunning', 'stupid', 'style', 'styles', 'subject', 'subjects', 'subsequent', 'substance', 'subtle', 'succeed', 'succeeds', 'success', 'successful', 'successfully', 'such', 'sucked', 'sudden', 'suddenly', 'sue', 'suffer', 'suffered', 'suffering', 'suffers', 'sugar', 'suggest', 'suggested', 'suggestion', 'suggestions', 'suggests', 'suicide', 'suit', 'suitable', 'suited', 'sum', 'summary', 'summer', 'sun', 'sunday', 'sunny', 'super', 'superb', 'superbly', 'superficial', 'superior', 'supernatural', 'supplement', 'support', 'supported', 'supporting', 'suppose', 'supposed', 'supposedly', 'sure', 'surely', 'surface', 'surgery', 'surprise', 'surprised', 'surprises', 'surprising', 'surprisingly', 'surrounding', 'survey', 'survival', 'survive', 'survived', 'surviving', 'susan', 'suspect', 'suspense', 'suspenseful', 'sweet', 'sword', 'symbolism', 'symbols', 'sympathetic', 'sympathy', 'system', 'systems', 't', 'table', 'tables', 'tactics', 'take', 'taken', 'takes', 'taking', 'tale', 'talent', 'talented', 'talents', 'tales', 'talk', 'talked', 'talking', 'talks', 'tall', 'tan', 'tape', 'tapes', 'target', 'tarot', 'tarzan', 'task', 'taste', 'tastes', 'taught', 'taylor', 'tea', 'teach', 'teacher', 'teachers', 'teaches', 'teaching', 'teachings', 'team', 'tear', 'tears', 'technical', 'technique', 'techniques', 'technology', 'ted', 'tedious', 'teen', 'teenage', 'teenager', 'teenagers', 'teens', 'television', 'tell', 'teller', 'telling', 'tells', 'temple', 'ten', 'tend', 'tender', 'tends', 'tense', 'tension', 'term', 'terminology', 'terms', 'terrible', 'terribly', 'terrific', 'terror', 'terry', 'test', 'testament', 'testing', 'tests', 'texas', 'text', 'textbook', 'textbooks', 'texts', 'than', 'thank', 'thankful', 'thanks', 'that', \"that's\", 'thats', 'the', 'theater', 'theatre', 'their', 'them', 'theme', 'themes', 'themselves', 'then', 'theological', 'theology', 'theoretical', 'theories', 'theory', 'therapist', 'therapy', 'there', \"there's\", 'therefore', 'these', 'thesis', 'they', \"they'll\", \"they're\", \"they've\", 'thick', 'thier', 'thin', 'thing', 'things', 'think', 'thinkers', 'thinking', 'thinks', 'third', 'thirty', 'this', 'thomas', 'thorough', 'thoroughly', 'those', 'though', 'thought', 'thought-provoking', 'thoughtful', 'thoughts', 'thousand', 'thousands', 'thread', 'threat', 'three', 'threw', 'thrill', 'thrilled', 'thriller', 'thrillers', 'thrilling', 'through', 'throughout', 'throw', 'thrown', 'throws', 'thru', 'thumbs', 'thus', 'tidbits', 'tie', 'tied', 'ties', 'tiger', 'tight', 'till', 'tim', 'time', 'timeless', 'timeline', 'timely', 'times', 'tiny', 'tips', 'tired', 'title', 'titled', 'titles', 'to', 'today', \"today's\", 'toddler', 'together', 'told', 'tolkien', 'tom', 'tome', 'ton', 'tone', 'tons', 'tony', 'too', 'took', 'tool', 'tools', 'top', 'topic', 'topics', 'torn', 'torture', 'total', 'totally', 'touch', 'touched', 'touches', 'touching', 'tough', 'tour', 'toward', 'towards', 'town', 'towns', 'toys', 'track', 'trade', 'trading', 'tradition', 'traditional', 'traditions', 'tragedy', 'tragic', 'trail', 'train', 'trained', 'trainer', 'training', 'traits', 'transformation', 'transformed', 'transition', 'translate', 'translated', 'translation', 'translation\\t', 'translations', 'translator', 'transported', 'trapped', 'trash', 'travel', 'traveled', 'traveler', 'traveling', 'travels', 'treasure', 'treat', 'treated', 'treatise', 'treatment', 'treats', 'tree', 'trees', 'trek', 'tremendous', 'tremendously', 'trial', 'trials', 'tribute', 'trick', 'tricks', 'tried', 'tries', 'trilogy', 'trip', 'trips', 'trite', 'triumph', 'trouble', 'troubled', 'troubles', 'true', 'truely', 'truly', 'trust', 'truth', 'truths', 'try', 'trying', 'tuck', 'turn', 'turned', 'turner', 'turning', 'turns', 'tv', 'twain', 'twelve', 'twentieth', 'twenty', 'twice', 'twin', 'twins', 'twist', 'twisted', 'twists', 'two', 'type', 'types', 'typical', 'typically', 'typos', 'u', 'ugly', 'uk', 'ultimate', 'ultimately', 'un', 'una', 'unable', 'unabridged', 'unavailable', 'unbelievable', 'uncle', 'under', 'undergraduate', 'underground', 'underlying', 'understand', 'understandable', 'understanding', 'understands', 'understood', 'undoubtedly', 'unexpected', 'unfamiliar', 'unfolds', 'unforgettable', 'unfortunate', 'unfortunately', 'unhappy', 'uninteresting', 'union', 'unique', 'unit', 'united', 'universal', 'universe', 'university', 'unknown', 'unless', 'unlike', 'unlikely', 'unnecessary', 'unrealistic', 'until', 'unusual', 'up', 'update', 'updated', 'uplifting', 'upon', 'upper', 'ups', 'upset', 'urban', 'urge', 'us', 'usa', 'usage', 'use', 'used', 'useful', 'useless', 'user', 'users', 'uses', 'using', 'usual', 'usually', 'utter', 'utterly', 'v', 'vacation', 'vague', 'valid', 'valley', 'valuable', 'value', 'values', 'vampire', 'vampires', 'van', 'variations', 'varied', 'variety', 'various', 'vast', 'vatican', 'vegetarian', 'verb', 'verbal', 'verbs', 'verse', 'verses', 'version', 'versions', 'versus', 'very', 'veteran', 'via', 'vibrant', 'vice', 'victim', 'victims', 'victoria', 'victorian', 'victory', 'video', 'vietnam', 'view', 'viewed', 'viewpoint', 'views', 'village', 'villain', 'villains', 'vinci', 'vintage', 'violence', 'violent', 'violet', 'virginia', 'virtually', 'vision', 'visit', 'visited', 'visiting', 'visual', 'vital', 'vivid', 'vividly', 'vocabulary', 'voice', 'voices', 'volume', 'volumes', 'vote', 'voyage', 'vs', 'w', 'wade', 'wait', 'waited', 'waiting', 'wake', 'walk', 'walked', 'walking', 'walks', 'wall', 'walter', 'want', 'wanted', 'wanting', 'wants', 'war', 'warfare', 'warm', 'warming', 'warn', 'warned', 'warning', 'warren', 'warrior', 'wars', 'was', 'washington', \"wasn't\", 'waste', 'wasted', 'watch', 'watched', 'watching', 'water', 'way', 'wayne', 'ways', 'we', \"we're\", \"we've\", 'weak', 'weaknesses', 'wealth', 'wealthy', 'weapons', 'wear', 'weather', 'weave', 'weaves', 'weaving', 'web', 'website', 'wedding', 'week', 'weekend', 'weekly', 'weeks', 'weight', 'weird', 'welcome', 'well', 'well-known', 'well-written', 'wells', 'went', 'were', \"weren't\", 'west', 'western', 'what', \"what's\", 'whatever', 'whatsoever', 'wheel', 'when', 'whenever', 'where', 'whether', 'which', 'while', 'white', 'who', \"who's\", 'whoever', 'whole', 'whom', 'whose', 'why', 'wicca', 'wicked', 'wide', 'widely', 'wife', 'wild', 'wilde', 'wilderness', 'will', 'william', 'williams', 'willing', 'wilson', 'win', 'wind', 'window', 'windows', 'wine', 'wing', 'winner', 'winnie', 'winning', 'winter', 'wisdom', 'wise', 'wish', 'wished', 'wishes', 'wishing', 'wit', 'witch', 'witchcraft', 'witches', 'with', 'within', 'without', 'witness', 'witty', 'wizard', 'wolf', 'woman', \"woman's\", 'women', \"women's\", 'won', \"won't\", 'wonder', 'wondered', 'wonderful', 'wonderfully', 'wondering', 'wonderland', 'wonders', 'wont', 'wood', 'woods', 'word', 'words', 'wordy', 'work', 'workbook', 'worked', 'workers', 'working', 'workings', 'workout', 'works', 'world', \"world's\", 'worlds', 'worldwide', 'worn', 'worried', 'worry', 'worse', 'worship', 'worst', 'worth', 'worthwhile', 'worthy', 'would', \"would've\", \"wouldn't\", 'woven', 'wow', 'wrapped', 'wrestling', 'write', 'writen', 'writer', \"writer's\", 'writers', 'writes', 'writing', 'writings', 'written', 'wrong', 'wrote', 'wuthering', 'wwii', 'x', 'y', 'ya', 'yarn', 'yeah', 'year', 'years', 'yellow', 'yes', 'yesterday', 'yet', 'yoga', 'york', 'you', \"you'd\", \"you'll\", \"you're\", \"you've\", 'young', 'younger', 'youngest', 'your', 'yours', 'yourself', 'youth', 'yr', 'yrs', 'zane', 'zen', 'zero']\n"
     ]
    }
   ],
   "source": [
    "vocab = get_vocab(combined['all_text_parsed_words_separate'].tolist(), 5000)\n",
    "print(len(vocab))\n",
    "print(vocab)"
   ]
  },
  {
   "cell_type": "markdown",
   "metadata": {},
   "source": [
    "## create document, vocab matrix"
   ]
  },
  {
   "cell_type": "code",
   "execution_count": 11,
   "metadata": {},
   "outputs": [
    {
     "name": "stderr",
     "output_type": "stream",
     "text": [
      "/home/shared/anaconda3/lib/python3.6/site-packages/ipykernel_launcher.py:3: SettingWithCopyWarning: \n",
      "A value is trying to be set on a copy of a slice from a DataFrame.\n",
      "Try using .loc[row_indexer,col_indexer] = value instead\n",
      "\n",
      "See the caveats in the documentation: http://pandas.pydata.org/pandas-docs/stable/indexing.html#indexing-view-versus-copy\n",
      "  This is separate from the ipykernel package so we can avoid doing imports until\n"
     ]
    },
    {
     "ename": "KeyboardInterrupt",
     "evalue": "",
     "output_type": "error",
     "traceback": [
      "\u001b[0;31m---------------------------------------------------------------------------\u001b[0m",
      "\u001b[0;31mKeyboardInterrupt\u001b[0m                         Traceback (most recent call last)",
      "\u001b[0;32m<ipython-input-11-7f9bdd4e2713>\u001b[0m in \u001b[0;36m<module>\u001b[0;34m()\u001b[0m\n\u001b[1;32m      1\u001b[0m \u001b[0mcombined_words\u001b[0m \u001b[0;34m=\u001b[0m \u001b[0mcombined\u001b[0m\u001b[0;34m[\u001b[0m\u001b[0;34m[\u001b[0m\u001b[0;34m'product_id'\u001b[0m\u001b[0;34m,\u001b[0m\u001b[0;34m'all_text_parsed'\u001b[0m\u001b[0;34m]\u001b[0m\u001b[0;34m]\u001b[0m\u001b[0;34m\u001b[0m\u001b[0m\n\u001b[1;32m      2\u001b[0m \u001b[0;32mfor\u001b[0m \u001b[0mv\u001b[0m \u001b[0;32min\u001b[0m \u001b[0mvocab\u001b[0m\u001b[0;34m:\u001b[0m\u001b[0;34m\u001b[0m\u001b[0m\n\u001b[0;32m----> 3\u001b[0;31m     \u001b[0mcombined_words\u001b[0m\u001b[0;34m[\u001b[0m\u001b[0mv\u001b[0m\u001b[0;34m]\u001b[0m \u001b[0;34m=\u001b[0m \u001b[0mcombined_words\u001b[0m\u001b[0;34m[\u001b[0m\u001b[0;34m'all_text_parsed'\u001b[0m\u001b[0;34m]\u001b[0m\u001b[0;34m.\u001b[0m\u001b[0mapply\u001b[0m\u001b[0;34m(\u001b[0m\u001b[0;32mlambda\u001b[0m \u001b[0mx\u001b[0m\u001b[0;34m:\u001b[0m \u001b[0mx\u001b[0m\u001b[0;34m.\u001b[0m\u001b[0mcount\u001b[0m\u001b[0;34m(\u001b[0m\u001b[0;34m\" \"\u001b[0m \u001b[0;34m+\u001b[0m \u001b[0mv\u001b[0m \u001b[0;34m+\u001b[0m \u001b[0;34m\" \"\u001b[0m\u001b[0;34m)\u001b[0m\u001b[0;34m)\u001b[0m\u001b[0;34m\u001b[0m\u001b[0m\n\u001b[0m\u001b[1;32m      4\u001b[0m \u001b[0mcombined_words\u001b[0m\u001b[0;34m\u001b[0m\u001b[0m\n",
      "\u001b[0;32m/home/shared/anaconda3/lib/python3.6/site-packages/pandas/core/series.py\u001b[0m in \u001b[0;36mapply\u001b[0;34m(self, func, convert_dtype, args, **kwds)\u001b[0m\n\u001b[1;32m   2549\u001b[0m             \u001b[0;32melse\u001b[0m\u001b[0;34m:\u001b[0m\u001b[0;34m\u001b[0m\u001b[0m\n\u001b[1;32m   2550\u001b[0m                 \u001b[0mvalues\u001b[0m \u001b[0;34m=\u001b[0m \u001b[0mself\u001b[0m\u001b[0;34m.\u001b[0m\u001b[0masobject\u001b[0m\u001b[0;34m\u001b[0m\u001b[0m\n\u001b[0;32m-> 2551\u001b[0;31m                 \u001b[0mmapped\u001b[0m \u001b[0;34m=\u001b[0m \u001b[0mlib\u001b[0m\u001b[0;34m.\u001b[0m\u001b[0mmap_infer\u001b[0m\u001b[0;34m(\u001b[0m\u001b[0mvalues\u001b[0m\u001b[0;34m,\u001b[0m \u001b[0mf\u001b[0m\u001b[0;34m,\u001b[0m \u001b[0mconvert\u001b[0m\u001b[0;34m=\u001b[0m\u001b[0mconvert_dtype\u001b[0m\u001b[0;34m)\u001b[0m\u001b[0;34m\u001b[0m\u001b[0m\n\u001b[0m\u001b[1;32m   2552\u001b[0m \u001b[0;34m\u001b[0m\u001b[0m\n\u001b[1;32m   2553\u001b[0m         \u001b[0;32mif\u001b[0m \u001b[0mlen\u001b[0m\u001b[0;34m(\u001b[0m\u001b[0mmapped\u001b[0m\u001b[0;34m)\u001b[0m \u001b[0;32mand\u001b[0m \u001b[0misinstance\u001b[0m\u001b[0;34m(\u001b[0m\u001b[0mmapped\u001b[0m\u001b[0;34m[\u001b[0m\u001b[0;36m0\u001b[0m\u001b[0;34m]\u001b[0m\u001b[0;34m,\u001b[0m \u001b[0mSeries\u001b[0m\u001b[0;34m)\u001b[0m\u001b[0;34m:\u001b[0m\u001b[0;34m\u001b[0m\u001b[0m\n",
      "\u001b[0;32mpandas/_libs/src/inference.pyx\u001b[0m in \u001b[0;36mpandas._libs.lib.map_infer\u001b[0;34m()\u001b[0m\n",
      "\u001b[0;32m<ipython-input-11-7f9bdd4e2713>\u001b[0m in \u001b[0;36m<lambda>\u001b[0;34m(x)\u001b[0m\n\u001b[1;32m      1\u001b[0m \u001b[0mcombined_words\u001b[0m \u001b[0;34m=\u001b[0m \u001b[0mcombined\u001b[0m\u001b[0;34m[\u001b[0m\u001b[0;34m[\u001b[0m\u001b[0;34m'product_id'\u001b[0m\u001b[0;34m,\u001b[0m\u001b[0;34m'all_text_parsed'\u001b[0m\u001b[0;34m]\u001b[0m\u001b[0;34m]\u001b[0m\u001b[0;34m\u001b[0m\u001b[0m\n\u001b[1;32m      2\u001b[0m \u001b[0;32mfor\u001b[0m \u001b[0mv\u001b[0m \u001b[0;32min\u001b[0m \u001b[0mvocab\u001b[0m\u001b[0;34m:\u001b[0m\u001b[0;34m\u001b[0m\u001b[0m\n\u001b[0;32m----> 3\u001b[0;31m     \u001b[0mcombined_words\u001b[0m\u001b[0;34m[\u001b[0m\u001b[0mv\u001b[0m\u001b[0;34m]\u001b[0m \u001b[0;34m=\u001b[0m \u001b[0mcombined_words\u001b[0m\u001b[0;34m[\u001b[0m\u001b[0;34m'all_text_parsed'\u001b[0m\u001b[0;34m]\u001b[0m\u001b[0;34m.\u001b[0m\u001b[0mapply\u001b[0m\u001b[0;34m(\u001b[0m\u001b[0;32mlambda\u001b[0m \u001b[0mx\u001b[0m\u001b[0;34m:\u001b[0m \u001b[0mx\u001b[0m\u001b[0;34m.\u001b[0m\u001b[0mcount\u001b[0m\u001b[0;34m(\u001b[0m\u001b[0;34m\" \"\u001b[0m \u001b[0;34m+\u001b[0m \u001b[0mv\u001b[0m \u001b[0;34m+\u001b[0m \u001b[0;34m\" \"\u001b[0m\u001b[0;34m)\u001b[0m\u001b[0;34m)\u001b[0m\u001b[0;34m\u001b[0m\u001b[0m\n\u001b[0m\u001b[1;32m      4\u001b[0m \u001b[0mcombined_words\u001b[0m\u001b[0;34m\u001b[0m\u001b[0m\n",
      "\u001b[0;31mKeyboardInterrupt\u001b[0m: "
     ]
    }
   ],
   "source": [
    "combined_words = combined[['product_id','all_text_parsed']]\n",
    "for v in vocab:\n",
    "    combined_words[v] = combined_words['all_text_parsed'].apply(lambda x: x.count(\" \" + v + \" \"))\n",
    "combined_words"
   ]
  },
  {
   "cell_type": "code",
   "execution_count": null,
   "metadata": {},
   "outputs": [],
   "source": [
    "np.max(np.max(combined_words[vocab]))"
   ]
  },
  {
   "cell_type": "markdown",
   "metadata": {},
   "source": [
    "### save vocab matrix"
   ]
  },
  {
   "cell_type": "code",
   "execution_count": 511,
   "metadata": {},
   "outputs": [],
   "source": [
    "combined_words.to_pickle(\"vocab_matrix_2\")  # where to save it, usually as a .pkl\n",
    "# Then you can load it back using: df = pd.read_pickle(file_name)"
   ]
  },
  {
   "cell_type": "markdown",
   "metadata": {},
   "source": [
    "## convert to tfidf"
   ]
  },
  {
   "cell_type": "code",
   "execution_count": 513,
   "metadata": {},
   "outputs": [
    {
     "data": {
      "text/plain": [
       "<6568x5001 sparse matrix of type '<class 'numpy.float64'>'\n",
       "\twith 1745315 stored elements in Compressed Sparse Row format>"
      ]
     },
     "execution_count": 513,
     "metadata": {},
     "output_type": "execute_result"
    }
   ],
   "source": [
    "from sklearn.feature_extraction.text import TfidfTransformer\n",
    "tf = TfidfTransformer()\n",
    "tfidf_words = tf.fit_transform(combined_words[vocab])\n",
    "tfidf_words"
   ]
  },
  {
   "cell_type": "code",
   "execution_count": 514,
   "metadata": {},
   "outputs": [
    {
     "data": {
      "text/html": [
       "<div>\n",
       "<style scoped>\n",
       "    .dataframe tbody tr th:only-of-type {\n",
       "        vertical-align: middle;\n",
       "    }\n",
       "\n",
       "    .dataframe tbody tr th {\n",
       "        vertical-align: top;\n",
       "    }\n",
       "\n",
       "    .dataframe thead th {\n",
       "        text-align: right;\n",
       "    }\n",
       "</style>\n",
       "<table border=\"1\" class=\"dataframe\">\n",
       "  <thead>\n",
       "    <tr style=\"text-align: right;\">\n",
       "      <th></th>\n",
       "      <th>product_id</th>\n",
       "      <th></th>\n",
       "      <th></th>\n",
       "      <th>paperback</th>\n",
       "      <th>#1</th>\n",
       "      <th>#2</th>\n",
       "      <th>$UNK</th>\n",
       "      <th>&amp;</th>\n",
       "      <th>&amp;#34the</th>\n",
       "      <th>&amp;amp</th>\n",
       "      <th>...</th>\n",
       "      <th>young</th>\n",
       "      <th>younger</th>\n",
       "      <th>youngest</th>\n",
       "      <th>your</th>\n",
       "      <th>yours</th>\n",
       "      <th>yourself</th>\n",
       "      <th>youth</th>\n",
       "      <th>yr</th>\n",
       "      <th>zen</th>\n",
       "      <th>zero</th>\n",
       "    </tr>\n",
       "  </thead>\n",
       "  <tbody>\n",
       "    <tr>\n",
       "      <th>0</th>\n",
       "      <td>12572</td>\n",
       "      <td>0.249810</td>\n",
       "      <td>NaN</td>\n",
       "      <td>NaN</td>\n",
       "      <td>0.036692</td>\n",
       "      <td>NaN</td>\n",
       "      <td>NaN</td>\n",
       "      <td>NaN</td>\n",
       "      <td>NaN</td>\n",
       "      <td>NaN</td>\n",
       "      <td>...</td>\n",
       "      <td>0.020471</td>\n",
       "      <td>NaN</td>\n",
       "      <td>NaN</td>\n",
       "      <td>0.023859</td>\n",
       "      <td>NaN</td>\n",
       "      <td>NaN</td>\n",
       "      <td>NaN</td>\n",
       "      <td>NaN</td>\n",
       "      <td>NaN</td>\n",
       "      <td>NaN</td>\n",
       "    </tr>\n",
       "    <tr>\n",
       "      <th>1</th>\n",
       "      <td>4397</td>\n",
       "      <td>0.271908</td>\n",
       "      <td>NaN</td>\n",
       "      <td>0.028557</td>\n",
       "      <td>0.035620</td>\n",
       "      <td>NaN</td>\n",
       "      <td>NaN</td>\n",
       "      <td>NaN</td>\n",
       "      <td>NaN</td>\n",
       "      <td>NaN</td>\n",
       "      <td>...</td>\n",
       "      <td>NaN</td>\n",
       "      <td>NaN</td>\n",
       "      <td>NaN</td>\n",
       "      <td>NaN</td>\n",
       "      <td>NaN</td>\n",
       "      <td>NaN</td>\n",
       "      <td>NaN</td>\n",
       "      <td>NaN</td>\n",
       "      <td>NaN</td>\n",
       "      <td>0.038753</td>\n",
       "    </tr>\n",
       "    <tr>\n",
       "      <th>2</th>\n",
       "      <td>4175</td>\n",
       "      <td>0.083713</td>\n",
       "      <td>NaN</td>\n",
       "      <td>NaN</td>\n",
       "      <td>NaN</td>\n",
       "      <td>NaN</td>\n",
       "      <td>NaN</td>\n",
       "      <td>NaN</td>\n",
       "      <td>NaN</td>\n",
       "      <td>NaN</td>\n",
       "      <td>...</td>\n",
       "      <td>0.045276</td>\n",
       "      <td>NaN</td>\n",
       "      <td>NaN</td>\n",
       "      <td>0.052770</td>\n",
       "      <td>NaN</td>\n",
       "      <td>NaN</td>\n",
       "      <td>0.079512</td>\n",
       "      <td>NaN</td>\n",
       "      <td>NaN</td>\n",
       "      <td>NaN</td>\n",
       "    </tr>\n",
       "    <tr>\n",
       "      <th>3</th>\n",
       "      <td>9448</td>\n",
       "      <td>0.051491</td>\n",
       "      <td>NaN</td>\n",
       "      <td>NaN</td>\n",
       "      <td>NaN</td>\n",
       "      <td>NaN</td>\n",
       "      <td>NaN</td>\n",
       "      <td>0.026269</td>\n",
       "      <td>NaN</td>\n",
       "      <td>NaN</td>\n",
       "      <td>...</td>\n",
       "      <td>NaN</td>\n",
       "      <td>NaN</td>\n",
       "      <td>NaN</td>\n",
       "      <td>NaN</td>\n",
       "      <td>NaN</td>\n",
       "      <td>NaN</td>\n",
       "      <td>NaN</td>\n",
       "      <td>NaN</td>\n",
       "      <td>NaN</td>\n",
       "      <td>NaN</td>\n",
       "    </tr>\n",
       "    <tr>\n",
       "      <th>4</th>\n",
       "      <td>14535</td>\n",
       "      <td>0.177852</td>\n",
       "      <td>NaN</td>\n",
       "      <td>NaN</td>\n",
       "      <td>NaN</td>\n",
       "      <td>NaN</td>\n",
       "      <td>NaN</td>\n",
       "      <td>NaN</td>\n",
       "      <td>NaN</td>\n",
       "      <td>NaN</td>\n",
       "      <td>...</td>\n",
       "      <td>NaN</td>\n",
       "      <td>NaN</td>\n",
       "      <td>NaN</td>\n",
       "      <td>NaN</td>\n",
       "      <td>NaN</td>\n",
       "      <td>NaN</td>\n",
       "      <td>NaN</td>\n",
       "      <td>NaN</td>\n",
       "      <td>NaN</td>\n",
       "      <td>NaN</td>\n",
       "    </tr>\n",
       "  </tbody>\n",
       "</table>\n",
       "<p>5 rows × 5002 columns</p>\n",
       "</div>"
      ],
      "text/plain": [
       "   product_id            \\t  \\t\\t\\t\\t\\t\\t\\tpaperback\\t        #1  #2  $UNK  \\\n",
       "0       12572  0.249810 NaN                        NaN  0.036692 NaN   NaN   \n",
       "1        4397  0.271908 NaN                   0.028557  0.035620 NaN   NaN   \n",
       "2        4175  0.083713 NaN                        NaN       NaN NaN   NaN   \n",
       "3        9448  0.051491 NaN                        NaN       NaN NaN   NaN   \n",
       "4       14535  0.177852 NaN                        NaN       NaN NaN   NaN   \n",
       "\n",
       "          &  &#34the  &amp    ...        young  younger  youngest      your  \\\n",
       "0       NaN      NaN   NaN    ...     0.020471      NaN       NaN  0.023859   \n",
       "1       NaN      NaN   NaN    ...          NaN      NaN       NaN       NaN   \n",
       "2       NaN      NaN   NaN    ...     0.045276      NaN       NaN  0.052770   \n",
       "3  0.026269      NaN   NaN    ...          NaN      NaN       NaN       NaN   \n",
       "4       NaN      NaN   NaN    ...          NaN      NaN       NaN       NaN   \n",
       "\n",
       "   yours  yourself     youth  yr  zen      zero  \n",
       "0    NaN       NaN       NaN NaN  NaN       NaN  \n",
       "1    NaN       NaN       NaN NaN  NaN  0.038753  \n",
       "2    NaN       NaN  0.079512 NaN  NaN       NaN  \n",
       "3    NaN       NaN       NaN NaN  NaN       NaN  \n",
       "4    NaN       NaN       NaN NaN  NaN       NaN  \n",
       "\n",
       "[5 rows x 5002 columns]"
      ]
     },
     "execution_count": 514,
     "metadata": {},
     "output_type": "execute_result"
    }
   ],
   "source": [
    "tfidf_df = pd.SparseDataFrame(tfidf_words)\n",
    "tfidf_df.columns = vocab\n",
    "tfidf_df[\"product_id\"] = combined_words[\"product_id\"]\n",
    "tfidf_df = tfidf_df[[\"product_id\"] + vocab]\n",
    "tfidf_df.head()"
   ]
  },
  {
   "cell_type": "markdown",
   "metadata": {},
   "source": [
    "### save tfidf"
   ]
  },
  {
   "cell_type": "code",
   "execution_count": 679,
   "metadata": {},
   "outputs": [],
   "source": [
    "tfidf_df.to_pickle(\"tfidf_matrix\")  # where to save it, usually as a .pkl"
   ]
  },
  {
   "cell_type": "code",
   "execution_count": 683,
   "metadata": {},
   "outputs": [],
   "source": [
    "pickle.dump( tf.get_params(), open( \"tf_params.p\", \"wb\" ) )"
   ]
  }
 ],
 "metadata": {
  "kernelspec": {
   "display_name": "Python 3",
   "language": "python",
   "name": "python3"
  },
  "language_info": {
   "codemirror_mode": {
    "name": "ipython",
    "version": 3
   },
   "file_extension": ".py",
   "mimetype": "text/x-python",
   "name": "python",
   "nbconvert_exporter": "python",
   "pygments_lexer": "ipython3",
   "version": "3.6.4"
  }
 },
 "nbformat": 4,
 "nbformat_minor": 2
}
