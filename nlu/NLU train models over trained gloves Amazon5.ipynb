{
 "cells": [
  {
   "cell_type": "code",
   "execution_count": null,
   "metadata": {},
   "outputs": [],
   "source": []
  },
  {
   "cell_type": "markdown",
   "metadata": {},
   "source": [
    "## generate vocab"
   ]
  },
  {
   "cell_type": "code",
   "execution_count": 1,
   "metadata": {},
   "outputs": [],
   "source": [
    "import sys\n",
    "sys.path\n",
    "sys.path.append('../')\n",
    "\n",
    "import numpy as np \n",
    "import pandas as pd\n",
    "\n",
    "from data import RandomData, AmazonBooks, ToyData, MovieLensData\n",
    "from model import SimpleMeanModel, UserMeanModel, ProductMeanModel, CombinedMeanModel\n",
    "\n",
    "from nlu_feature_extractor import *\n",
    "\n",
    "%matplotlib inline"
   ]
  },
  {
   "cell_type": "code",
   "execution_count": 2,
   "metadata": {},
   "outputs": [
    {
     "name": "stdout",
     "output_type": "stream",
     "text": [
      "loading preprocessed dataset from disk\n"
     ]
    },
    {
     "data": {
      "text/html": [
       "<div>\n",
       "<style scoped>\n",
       "    .dataframe tbody tr th:only-of-type {\n",
       "        vertical-align: middle;\n",
       "    }\n",
       "\n",
       "    .dataframe tbody tr th {\n",
       "        vertical-align: top;\n",
       "    }\n",
       "\n",
       "    .dataframe thead th {\n",
       "        text-align: right;\n",
       "    }\n",
       "</style>\n",
       "<table border=\"1\" class=\"dataframe\">\n",
       "  <thead>\n",
       "    <tr style=\"text-align: right;\">\n",
       "      <th></th>\n",
       "      <th>description</th>\n",
       "      <th>product_id</th>\n",
       "      <th>review</th>\n",
       "      <th>all_text</th>\n",
       "    </tr>\n",
       "  </thead>\n",
       "  <tbody>\n",
       "    <tr>\n",
       "      <th>0</th>\n",
       "      <td>The only complete on-the-scene account of the ...</td>\n",
       "      <td>102449</td>\n",
       "      <td>[I was given this book to read as an assignmen...</td>\n",
       "      <td>[The only complete on-the-scene account of the...</td>\n",
       "    </tr>\n",
       "    <tr>\n",
       "      <th>1</th>\n",
       "      <td>\"Fairy phobic or trapped in a true-life fairy ...</td>\n",
       "      <td>5777</td>\n",
       "      <td>[Dream come true or worst nightmare? Grace Mac...</td>\n",
       "      <td>[\"Fairy phobic or trapped in a true-life fairy...</td>\n",
       "    </tr>\n",
       "    <tr>\n",
       "      <th>2</th>\n",
       "      <td>In this lush, lyrical, and marvelously evocati...</td>\n",
       "      <td>60246</td>\n",
       "      <td>[this novel is not your typical love story, wh...</td>\n",
       "      <td>[In this lush, lyrical, and marvelously evocat...</td>\n",
       "    </tr>\n",
       "    <tr>\n",
       "      <th>3</th>\n",
       "      <td>Robert Englander is Principal Engineer and Pre...</td>\n",
       "      <td>82341</td>\n",
       "      <td>[1. Good coverage of SOAP2. Uses GLUE (acquire...</td>\n",
       "      <td>[Robert Englander is Principal Engineer and Pr...</td>\n",
       "    </tr>\n",
       "    <tr>\n",
       "      <th>4</th>\n",
       "      <td>Text: English, Hebrew\\tKerry M. Olitzky, D.H.L...</td>\n",
       "      <td>172276</td>\n",
       "      <td>[First rate scholarship and clarify of transla...</td>\n",
       "      <td>[Text: English, Hebrew\\tKerry M. Olitzky, D.H....</td>\n",
       "    </tr>\n",
       "  </tbody>\n",
       "</table>\n",
       "</div>"
      ],
      "text/plain": [
       "                                         description  product_id  \\\n",
       "0  The only complete on-the-scene account of the ...      102449   \n",
       "1  \"Fairy phobic or trapped in a true-life fairy ...        5777   \n",
       "2  In this lush, lyrical, and marvelously evocati...       60246   \n",
       "3  Robert Englander is Principal Engineer and Pre...       82341   \n",
       "4  Text: English, Hebrew\\tKerry M. Olitzky, D.H.L...      172276   \n",
       "\n",
       "                                              review  \\\n",
       "0  [I was given this book to read as an assignmen...   \n",
       "1  [Dream come true or worst nightmare? Grace Mac...   \n",
       "2  [this novel is not your typical love story, wh...   \n",
       "3  [1. Good coverage of SOAP2. Uses GLUE (acquire...   \n",
       "4  [First rate scholarship and clarify of transla...   \n",
       "\n",
       "                                            all_text  \n",
       "0  [The only complete on-the-scene account of the...  \n",
       "1  [\"Fairy phobic or trapped in a true-life fairy...  \n",
       "2  [In this lush, lyrical, and marvelously evocat...  \n",
       "3  [Robert Englander is Principal Engineer and Pr...  \n",
       "4  [Text: English, Hebrew\\tKerry M. Olitzky, D.H....  "
      ]
     },
     "execution_count": 2,
     "metadata": {},
     "output_type": "execute_result"
    }
   ],
   "source": [
    "# ds = MovieLensData(min_user_ratings=10).get_dataset(verbose=True)\n",
    "ds = AmazonBooks(min_user_ratings=10).get_dataset(verbose=True)\n",
    "train = ds['train']\n",
    "val = ds['val']\n",
    "grouped_reviews = train['product_reviews'].groupby('product_id')['product_id', 'review'].aggregate(\\\n",
    "        {'product_id':['mean'], 'review':lambda x: list(x)})\n",
    "grouped_reviews .columns = ['product_id', 'review']\n",
    "combined = train['product_descriptions'].merge(grouped_reviews, on='product_id')\n",
    "combined['all_text'] = combined['review']\n",
    "combined['all_text'] = combined['description'].apply(lambda x: [x]) +  combined['all_text']\n",
    "combined.head()"
   ]
  },
  {
   "cell_type": "code",
   "execution_count": 3,
   "metadata": {},
   "outputs": [
    {
     "name": "stdout",
     "output_type": "stream",
     "text": [
      "                                         description  product_id  \\\n",
      "0  The only complete on-the-scene account of the ...      102449   \n",
      "1  \"Fairy phobic or trapped in a true-life fairy ...        5777   \n",
      "2  In this lush, lyrical, and marvelously evocati...       60246   \n",
      "3  Robert Englander is Principal Engineer and Pre...       82341   \n",
      "4  Text: English, Hebrew\\tKerry M. Olitzky, D.H.L...      172276   \n",
      "\n",
      "                                              review  \\\n",
      "0  [I was given this book to read as an assignmen...   \n",
      "1  [Dream come true or worst nightmare? Grace Mac...   \n",
      "2  [this novel is not your typical love story, wh...   \n",
      "3  [1. Good coverage of SOAP2. Uses GLUE (acquire...   \n",
      "4  [First rate scholarship and clarify of transla...   \n",
      "\n",
      "                                            all_text  \\\n",
      "0  [The only complete on-the-scene account of the...   \n",
      "1  [\"Fairy phobic or trapped in a true-life fairy...   \n",
      "2  [In this lush, lyrical, and marvelously evocat...   \n",
      "3  [Robert Englander is Principal Engineer and Pr...   \n",
      "4  [Text: English, Hebrew\\tKerry M. Olitzky, D.H....   \n",
      "\n",
      "                                     all_text_parsed  \\\n",
      "0  the only complete on-the-scene account of the ...   \n",
      "1  fairy phobic or trapped in a true-life fairy a...   \n",
      "2  in this lush lyrical and marvelously evocative...   \n",
      "3  robert englander is principal engineer and pre...   \n",
      "4  text english hebrew\\tkerry m olitzky dhl is th...   \n",
      "\n",
      "                      all_text_parsed_words_separate  \n",
      "0  [the, only, complete, on-the-scene, account, o...  \n",
      "1  [fairy, phobic, or, trapped, in, a, true-life,...  \n",
      "2  [in, this, lush, lyrical, and, marvelously, ev...  \n",
      "3  [robert, englander, is, principal, engineer, a...  \n",
      "4  [text, english, hebrew\\tkerry, m, olitzky, dhl...  \n"
     ]
    }
   ],
   "source": [
    "import re\n",
    "combined['all_text_parsed'] = combined['all_text'].apply(lambda x: re.sub(\"[,.;?!():\\[\\]\\\"\\\"]\",\"\",\" \".join(x)).lower())\n",
    "combined['all_text_parsed_words_separate'] = combined['all_text_parsed'].apply(lambda x: x.split(\" \"))\n",
    "print(combined.head())\n",
    "# first join all comments reviews, etcetera into 1 big string\n",
    "# then remove all punctuation\n",
    "# then split on spaces to create words"
   ]
  },
  {
   "cell_type": "code",
   "execution_count": 4,
   "metadata": {},
   "outputs": [],
   "source": [
    "vocab = get_vocab(combined['all_text_parsed_words_separate'].tolist(), 5000)"
   ]
  },
  {
   "cell_type": "code",
   "execution_count": 5,
   "metadata": {},
   "outputs": [
    {
     "name": "stdout",
     "output_type": "stream",
     "text": [
      "5000\n",
      "['', '\\t', '\\t\\t\\t\\t\\t\\t\\thardcover\\t', '\\t\\t\\t\\t\\t\\t\\tpaperback\\t', '#1', '&', '&amp', '&quot', '&quota', '&quoti', '&quotthe', '&quotwhat', \"'a\", \"'the\", '+', '-', '--', '---', '--this', '/', '1', '1/2', '10', '100', '100%', '1000', '11', '12', '13', '14', '15', '150', '16', '17', '18', \"1800's\", '18th', '19', '1995', '1996', '1997', '1998', '1999', '19th', '1st', '2', '20', '200', '2000', '2001', '2002', '2003', '2004', '2005', '20th', '21', '21st', '22', '23', '24', '25', '2nd', '3', '30', '300', '35', '3rd', '4', '40', '400', '45', '4th', '5', '50', '500', '5th', '6', '60', '6th', '7', '70', '7th', '8', '8th', '9', '9/11', '=', 'a', 'abilities', 'ability', 'able', 'about', 'above', 'abridged', 'absolute', 'absolutely', 'absorb', 'absorbed', 'absorbing', 'abstract', 'absurd', 'abuse', 'abusive', 'academic', 'academy', 'accept', 'acceptable', 'acceptance', 'accepted', 'access', 'accessible', 'accident', 'acclaimed', 'accompanying', 'accomplish', 'accomplished', 'according', 'account', 'accounts', 'accuracy', 'accurate', 'accurately', 'accused', 'achieve', 'achieved', 'achievement', 'across', 'act', 'acting', 'action', 'actions', 'active', 'activities', 'activity', 'actor', 'actors', 'acts', 'actual', 'actually', 'ad', 'adam', 'adams', 'adaptation', 'add', 'added', 'addicted', 'addiction', 'adding', 'addition', 'additional', 'address', 'addressed', 'addresses', 'adds', 'administration', 'admirable', 'admire', 'admired', 'admit', 'adopted', 'adorable', 'adore', 'adult', 'adults', 'advance', 'advanced', 'advantage', 'adventure', 'adventures', 'adventurous', 'advertised', 'advertising', 'advice', 'advise', 'affair', 'affairs', 'affect', 'affected', 'afford', 'afraid', 'africa', 'african', 'after', 'afternoon', 'again', 'against', 'agatha', 'age', 'aged', 'agenda', 'agent', 'ages', 'ago', 'agree', 'ahead', 'aid', 'aimed', 'air', 'aircraft', 'airplane', 'airport', 'aka', 'al', 'alan', 'alanna', 'alas', 'albeit', 'albert', 'alex', 'alexander', 'algebra', 'alice', 'alien', 'aliens', 'alike', 'alive', 'all', 'all-time', 'allen', 'allie', 'allow', 'allowed', 'allowing', 'allows', 'almost', 'alone', 'along', 'alot', 'aloud', 'alphabet', 'already', 'also', 'alternate', 'alternative', 'although', 'altogether', 'always', 'am', 'amateur', 'amazed', 'amazing', 'amazingly', 'amazon', 'amazoncom', 'amber', 'ambrose', 'amelia', 'america', \"america's\", 'american', 'americans', 'among', 'amongst', 'amount', 'amusing', 'amy', 'an', 'analysis', 'anatomy', 'ancient', 'and', 'and/or', 'anderson', 'andrew', 'anecdotes', 'angel', \"angela's\", 'angeles', 'angels', 'anger', 'angle', 'angry', 'animal', 'animals', 'ann', 'anna', 'anne', 'annoyed', 'annoying', 'another', 'answer', 'answered', 'answers', 'anthology', 'anthony', 'anticipation', 'anxiety', 'anxious', 'any', 'anybody', 'anymore', 'anyone', 'anything', 'anytime', 'anyway', 'anywhere', 'apart', 'apparent', 'apparently', 'appeal', 'appealing', 'appear', 'appearance', 'appeared', 'appears', 'appendix', 'applicable', 'application', 'applications', 'applied', 'applies', 'apply', 'applying', 'appreciate', 'appreciated', 'appreciation', 'approach', 'approaches', 'appropriate', 'april', 'arabic', 'architecture', 'are', 'area', 'areas', \"aren't\", 'argue', 'argument', 'arguments', 'arizona', 'arms', 'army', 'around', 'arrive', 'arrived', 'art', 'arthur', 'article', 'articles', 'artist', 'artistic', 'artists', 'arts', 'artwork', 'as', 'ashamed', 'ashes', 'asia', 'asian', 'aside', 'ask', 'asked', 'asking', 'asks', 'asleep', 'aspect', 'aspects', 'aspiring', 'assigned', 'assignment', 'assist', 'assistant', 'associate', 'associated', 'association', 'assume', 'assumed', 'assumptions', 'astonishing', 'astounding', 'at', 'atkins', 'atlantic', 'atlas', 'atmosphere', 'attached', 'attack', 'attacks', 'attempt', 'attempted', 'attempting', 'attempts', 'attended', 'attention', 'attitude', 'attitudes', 'attorney', 'attracted', 'attraction', 'attractive', 'audience', 'audio', 'audiobook', 'august', 'aunt', 'austen', \"austen's\", 'austin', 'australia', 'authentic', 'author', \"author's\", 'authority', 'authors', 'autistic', 'autobiography', 'available', 'average', 'aviation', 'avid', 'avoid', 'awaiting', 'awakening', 'award', 'award-winning', 'awarded', 'awards', 'aware', 'awareness', 'away', 'awe', 'awesome', 'awful', 'awhile', 'awkward', 'b', 'babies', 'baby', 'back', 'backdrop', 'background', 'bad', 'badly', 'bag', 'balance', 'balanced', 'ball', 'band', 'bank', 'bar', 'barbara', 'barely', 'bargain', 'barry', 'base', 'baseball', 'based', 'basic', 'basically', 'basics', 'basis', 'battle', 'battles', 'baudelaire', 'bbc', 'be', 'beach', 'bean', 'bear', 'bears', 'beat', 'beautiful', 'beautifully', 'beauty', 'became', 'because', 'become', 'becomes', 'becoming', 'bed', 'bedtime', 'been', 'before', 'began', 'begin', 'begining', 'beginner', 'beginners', 'beginning', 'begins', 'begun', 'behavior', 'behaviors', 'behind', 'being', 'beings', 'belief', 'beliefs', 'believable', 'believe', 'believed', 'believer', 'believers', 'believes', 'believing', 'bell', 'belong', 'belongs', 'beloved', 'below', 'ben', 'beneficial', 'benefit', 'benefits', 'besides', 'best', 'best-selling', 'bestseller', 'bestselling', 'bet', 'betrayal', 'better', 'between', 'beware', 'beyond', 'bias', 'biased', 'bible', 'biblical', 'bibliography', 'big', 'bigger', 'biggest', 'bill', 'billy', 'binding', 'biographies', 'biography', 'biology', 'bird', 'birds', 'birth', 'birthday', 'bishop', 'bit', 'bits', 'bitter', 'bizarre', 'black', 'blah', 'blame', 'bland', 'blend', 'bless', 'blessed', 'blessing', 'blind', 'block', 'blood', 'bloody', 'blow', 'blown', 'blue', 'board', 'boat', 'bob', 'bodies', 'body', 'bogged', 'bold', 'bomb', 'bond', 'bone', 'bones', 'bonus', 'book', \"book's\", 'booki', 'bookit', 'books', 'bookshelf', 'bookstore', 'bookthe', 'bookthis', 'bore', 'bored', 'boring', 'born', 'borrow', 'borrowed', 'boss', 'boston', 'both', 'bother', 'bothered', 'bottom', 'bought', 'bound', 'boundaries', 'bounty', 'box', 'boy', 'boyfriend', 'boys', 'brain', 'brand', 'brave', 'bravery', 'bravo', 'bread', 'break', 'breaking', 'breaks', 'breath', 'breathtaking', 'brian', 'bride', 'bridge', 'bridget', 'brief', 'briefly', 'bright', 'brilliance', 'brilliant', 'brilliantly', 'bring', 'bringing', 'brings', 'britain', 'british', 'broad', 'broke', 'broken', 'bronte', 'brooks', 'brother', 'brothers', 'brought', 'brown', \"brown's\", 'bruce', 'brutal', 'buck', 'bucks', 'bud', 'buddhism', 'buddhist', 'buff', 'build', 'building', 'builds', 'built', 'bunch', 'buried', 'burroughs', 'bus', 'bush', 'business', 'busy', 'but', 'buy', 'buying', 'by', 'c', 'cake', 'calculus', 'california', 'call', 'called', 'calling', 'calls', 'calvin', 'cambridge', 'came', 'camera', 'camp', 'campaign', 'can', \"can't\", 'canada', 'canadian', 'cancer', 'candy', 'cannot', 'cant', 'capable', 'capitalism', 'captain', 'captivated', 'captivating', 'capture', 'captured', 'captures', 'capturing', 'car', 'card', 'cards', 'care', 'cared', 'career', 'careful', 'carefully', 'cares', 'caring', 'carl', 'carol', 'carolina', 'carried', 'carries', 'carry', 'carrying', 'cars', 'carter', 'cartoon', 'cartoons', 'case', 'cases', 'cash', 'cast', 'castle', 'casual', 'cat', 'catch', 'category', 'catherine', 'catholic', 'catholics', 'cats', 'caught', 'cause', 'caused', 'causes', 'caution', 'cd', \"cd's\", 'cds', 'celtic', 'center', 'centered', 'centers', 'central', 'centuries', 'century', 'certain', 'certainly', 'chair', 'challenge', 'challenged', 'challenges', 'challenging', 'chance', 'change', 'changed', 'changes', 'changing', 'chaos', 'chapter', 'chapters', 'character', \"character's\", 'characteristics', 'characterization', 'characterizations', 'characters', \"characters'\", 'charge', 'charles', 'charlie', 'charlotte', 'charm', 'charming', 'charts', 'chase', 'cheap', 'cheaper', 'check', 'checked', 'checking', 'cheesy', 'chemistry', 'chess', 'chicago', 'chicken', 'chief', 'child', \"child's\", 'childhood', 'children', \"children's\", 'chilling', 'china', 'chinese', 'chocolate', 'choice', 'choices', 'choose', 'choosing', 'chose', 'chosen', 'chris', 'christ', 'christian', 'christianity', 'christians', 'christie', 'christine', 'christmas', 'christopher', 'chronicle', 'chronicles', 'church', 'churches', 'cia', 'circle', 'circumstances', 'cities', 'citizen', 'citizens', 'city', 'civil', 'civilization', 'claim', 'claims', 'clancy', \"clancy's\", 'clarity', 'clark', 'class', 'classes', 'classic', 'classical', 'classics', 'classroom', 'clean', 'clear', 'clearer', 'clearly', 'clever', 'cliche', 'client', 'clients', 'climax', 'clinical', 'close', 'closed', 'closely', 'closer', 'clothes', 'clothing', 'club', 'clue', 'clues', 'co-author', 'coach', 'coast', 'code', 'coffee', 'cold', 'cole', 'collect', 'collected', 'collecting', 'collection', 'collections', 'collector', 'college', 'collins', 'color', 'colorado', 'colored', 'colorful', 'colors', 'columbia', 'combat', 'combination', 'combine', 'combined', 'combines', 'come', 'comedy', 'comes', 'comfort', 'comfortable', 'comic', 'comics', 'coming', 'command', 'commander', 'comment', 'commentaries', 'commentary', 'comments', 'commercial', 'commitment', 'committed', 'common', 'communicate', 'communication', 'communism', 'communist', 'community', 'compact', 'companies', 'companion', 'company', 'compare', 'compared', 'comparing', 'comparison', 'compass', 'compassion', 'compassionate', 'compelled', 'compelling', 'competition', 'compilation', 'compiled', 'complain', 'complaint', 'complaints', 'complete', 'completed', 'completely', 'complex', 'complexity', 'complicated', 'comprehend', 'comprehensive', 'computer', 'con', 'concentration', 'concept', 'concepts', 'concern', 'concerned', 'concerning', 'concerns', 'concise', 'conclusion', 'conclusions', 'concrete', 'condition', 'conditions', 'confidence', 'confident', 'conflict', 'conflicts', 'confused', 'confusing', 'confusion', 'connect', 'connected', 'connection', 'connections', 'conrad', 'consciousness', 'consequences', 'conservative', 'consider', 'considerable', 'considered', 'considering', 'consistent', 'consistently', 'consists', 'conspiracy', 'constant', 'constantly', 'constructed', 'construction', 'consultant', 'contact', 'contain', 'contained', 'containing', 'contains', 'contemporary', 'content', 'contents', 'context', 'continually', 'continuation', 'continue', 'continued', 'continues', 'continuing', 'contrary', 'contrast', 'contributed', 'contribution', 'contributions', 'contrived', 'control', 'controversial', 'convenient', 'conversation', 'conversational', 'conversations', 'convey', 'convince', 'convinced', 'convincing', 'cook', 'cookbook', 'cookbooks', 'cooking', 'cool', 'cooper', 'cop', 'cope', 'copies', 'copy', 'copyright', 'core', 'corner', 'cornwell', \"cornwell's\", 'corporate', 'corps', 'correct', 'correctly', 'cost', 'costs', 'could', \"couldn't\", 'couldnt', 'coulter', 'count', 'counting', 'countless', 'countries', 'country', 'county', 'couple', 'couples', 'courage', 'courageous', 'course', 'courses', 'court', 'cousin', 'cover', 'coverage', 'covered', 'covering', 'covers', 'cowboy', 'craft', 'crafted', 'crap', 'crash', 'crazy', 'create', 'created', 'creates', 'creating', 'creation', 'creative', 'creativity', 'creator', 'creature', 'creatures', 'credibility', 'credible', 'credit', 'creepy', 'crew', 'crichton', \"crichton's\", 'cried', 'crime', 'crimes', 'criminal', 'crisis', 'crisp', 'critic', 'critical', 'criticism', 'critics', 'critique', 'cross', 'crowd', 'crucial', 'cruel', 'cry', 'crying', 'crystal', 'cs', 'cult', 'cultural', 'culture', 'cultures', 'cup', 'cure', 'curiosity', 'curious', 'current', 'currently', 'curse', 'customer', 'customers', 'customs', 'cut', 'cute', 'cuts', 'cutting', 'cycle', 'cynical', 'd', 'da', 'dad', 'daily', 'dale', 'damage', 'damn', 'dan', 'dance', 'danger', 'dangerous', 'dangers', 'daniel', 'darcy', 'dare', 'daring', 'dark', 'darker', 'darkness', 'data', 'date', 'dated', 'dates', 'dating', 'daughter', \"daughter's\", 'daughters', 'dave', 'david', 'davinci', 'davis', 'dawn', 'day', 'days', 'dc', 'de', 'dead', 'deadly', 'deal', 'dealing', 'deals', 'dealt', 'dean', 'dear', 'death', 'debate', 'debt', 'debut', 'decade', 'decades', 'december', 'decent', 'deception', 'decide', 'decided', 'decides', 'decision', 'decisions', 'deck', 'dedicated', 'dedication', 'deep', 'deeper', 'deeply', 'defeat', 'defend', 'defense', 'definately', 'define', 'defined', 'definetly', 'definite', 'definitely', 'definition', 'definitions', 'definitive', 'degree', 'degrees', 'del', 'delicious', 'delight', 'delighted', 'delightful', 'deliver', 'delivered', 'delivers', 'delivery', 'delve', 'delves', 'democracy', 'demons', 'demonstrates', 'dense', 'department', 'depending', 'depicted', 'depiction', 'depicts', 'depressed', 'depressing', 'depression', 'depth', 'depths', 'describe', 'described', 'describes', 'describing', 'description', 'descriptions', 'descriptive', 'desert', 'deserve', 'deserved', 'deserves', 'design', 'designed', 'designer', 'designs', 'desire', 'desired', 'desires', 'desk', 'despair', 'desperate', 'desperately', 'despite', 'destiny', 'destroy', 'destroyed', 'destruction', 'detail', 'detailed', 'detailing', 'details', 'detective', 'determination', 'determine', 'determined', 'develop', 'developed', 'developing', 'development', 'develops', 'device', 'devil', 'devoted', 'devotion', 'devotional', 'diagrams', 'dialog', 'dialogue', 'diana', 'diaries', 'diary', 'dick', 'dickens', \"dickens'\", 'dictionaries', 'dictionary', 'did', \"didn't\", 'didnt', 'die', 'died', 'dies', 'diet', 'difference', 'differences', 'different', 'differently', 'difficult', 'difficulties', 'difficulty', 'dig', 'digest', 'digging', 'digital', 'dimension', 'dimensional', 'dinner', 'direct', 'directed', 'direction', 'directions', 'directly', 'director', 'dirty', 'disagree', 'disapointed', 'disappoint', 'disappointed', 'disappointing', 'disappointment', 'disaster', 'discipline', 'discover', 'discovered', 'discovering', 'discovers', 'discovery', 'discuss', 'discussed', 'discusses', 'discussing', 'discussion', 'discussions', 'discworld', 'disease', 'dishes', 'dislike', 'disney', 'disorder', 'display', 'displays', 'dissapointed', 'distance', 'distant', 'distinguished', 'distracting', 'disturbing', 'diverse', 'divided', 'divine', 'division', 'divorce', 'do', 'doctor', 'doctors', 'doctrine', 'document', 'documentation', 'documented', 'documents', 'does', \"doesn't\", 'doesnt', 'dog', 'dogs', 'doing', 'dollar', 'dollars', 'don', \"don't\", 'done', 'dont', 'door', 'doors', 'double', 'doubt', 'doubts', 'douglas', 'down', 'download', 'downloaded', 'downright', 'doyle', 'dozen', 'dozens', 'dr', 'drag', 'dragged', 'dragon', 'dragons', 'drags', 'drama', 'dramatic', 'draw', 'drawing', 'drawings', 'drawn', 'draws', 'dream', 'dreams', 'dress', 'drew', 'drink', 'drinking', 'drive', 'drivel', 'driven', 'drives', 'driving', 'drop', 'dropped', 'drug', 'drugs', 'dry', 'due', 'duke', 'dull', 'dumas', 'dumb', 'during', 'dust', 'dutch', 'duty', 'dvd', 'dying', 'dynamic', 'dynamics', 'e', 'each', 'eager', 'eagerly', 'earlier', 'early', 'earned', 'earth', 'ease', 'easier', 'easily', 'east', 'eastern', 'easy', 'eat', 'eating', 'ebook', 'economic', 'economics', 'economy', 'ed', 'edgar', 'edge', 'edited', 'editing', 'edition', 'editions', 'editor', 'editorial', 'editors', 'educated', 'education', 'educational', 'edward', 'effect', 'effective', 'effectively', 'effects', 'effort', 'efforts', 'eg', 'ego', 'egypt', 'egyptian', 'eight', 'either', 'el', 'electronic', 'elegant', 'element', 'elementary', 'elements', 'elite', 'elizabeth', 'ellen', 'eloquent', 'else', 'elsewhere', 'elvis', 'email', 'emeritus', 'emily', 'emma', 'emotion', 'emotional', 'emotionally', 'emotions', 'emphasis', 'empire', 'empty', 'en', 'enchanting', 'encounter', 'encountered', 'encounters', 'encourage', 'encouraged', 'encouragement', 'encourages', 'encouraging', 'encyclopedia', 'end', 'endearing', 'ended', 'ender', \"ender's\", 'ending', 'endings', 'endless', 'ends', 'endure', 'endured', 'enduring', 'enemies', 'enemy', 'energy', 'engage', 'engaged', 'engaging', 'engine', 'engineer', 'engineering', 'england', 'english', 'engrossed', 'engrossing', 'enhance', 'enjoy', 'enjoyable', 'enjoyed', 'enjoying', 'enjoyment', 'enjoys', 'enlightened', 'enlightening', 'enlightenment', 'enormous', 'enough', 'enter', 'entertain', 'entertained', 'entertaining', 'entertainment', 'enthralled', 'enthralling', 'enthusiasm', 'entire', 'entirely', 'entitled', 'entries', 'entry', 'environment', 'environmental', 'epic', 'episode', 'episodes', 'equal', 'equally', 'equipment', 'era', 'eric', 'erotic', 'erotica', 'error', 'errors', 'es', 'escape', 'especially', 'essay', 'essays', 'essence', 'essential', 'essentially', 'established', 'estate', 'et', 'etc', 'eternal', 'ethan', 'ethical', 'ethics', 'europe', 'european', 'evanovich', 'evans', 'eve', 'even', 'evening', 'event', 'events', 'eventually', 'ever', 'everlasting', 'every', 'everybody', 'everyday', 'everyone', \"everyone's\", 'everything', 'everytime', 'everywhere', 'evidence', 'evident', 'evil', 'evolution', 'evolved', 'exact', 'exactly', 'exam', 'examination', 'examine', 'examines', 'example', 'examples', 'excellent', 'except', 'exception', 'exceptional', 'exceptionally', 'excited', 'excitement', 'exciting', 'excuse', 'executive', 'exercise', 'exercises', 'exhaustive', 'exist', 'existed', 'existence', 'exists', 'exotic', 'expand', 'expanded', 'expect', 'expectations', 'expected', 'expecting', 'expedition', 'expensive', 'experience', 'experienced', 'experiences', 'experiencing', 'expert', 'expertise', 'experts', 'explain', 'explained', 'explaining', 'explains', 'explanation', 'explanations', 'explicit', 'exploration', 'explore', 'explored', 'explores', 'exploring', 'expose', 'exposed', 'exposes', 'exposition', 'exposure', 'express', 'expressed', 'expression', 'expressions', 'exquisite', 'extended', 'extensive', 'extensively', 'extent', 'extra', 'extraordinary', 'extreme', 'extremely', 'eye', 'eyes', 'eyre', 'f', 'fabric', 'fabulous', 'face', 'faced', 'faces', 'facing', 'fact', 'factor', 'facts', 'factual', 'fail', 'failed', 'fails', 'failure', 'fair', 'fairies', 'fairly', 'fairy', 'faith', 'faithful', 'fake', 'fall', 'fallen', 'falling', 'falls', 'false', 'fame', 'familiar', 'families', 'family', \"family's\", 'famous', 'fan', 'fancy', 'fans', 'fantastic', 'fantasy', 'far', 'farm', 'fascinated', 'fascinating', 'fashion', 'fashioned', 'fast', 'fast-paced', 'faster', 'fat', 'fate', 'father', \"father's\", 'fathers', 'fault', 'faults', 'favor', 'favorite', 'favorites', 'favourite', 'fear', 'fears', 'feature', 'featured', 'features', 'featuring', 'federal', 'feed', 'feel', 'feeling', 'feelings', 'feels', 'feet', 'fell', 'fellow', 'felt', 'female', 'feminist', 'few', 'fiction', 'fictional', 'field', 'fields', 'fifteen', 'fifth', 'fifty', 'fight', 'fighting', 'fights', 'figure', 'figured', 'figures', 'fill', 'filled', 'fills', 'film', 'films', 'final', 'finally', 'financial', 'find', 'finding', 'finds', 'fine', 'finest', 'finger', 'finish', 'finished', 'finishing', 'finn', 'fire', 'firm', 'first', 'fish', 'fit', 'fits', 'fitzgerald', 'five', 'fix', 'flash', 'flat', 'flavor', 'flaw', 'flawed', 'flaws', 'flight', 'flip', 'floor', 'florence', 'florida', 'flow', 'flowers', 'flowing', 'flows', 'fluff', 'fly', 'flying', 'focus', 'focused', 'focuses', 'focusing', 'folk', 'folks', 'follow', 'followed', 'followers', 'following', 'follows', 'fond', 'font', 'food', 'foods', 'fool', 'foot', 'football', 'footnotes', 'for', 'force', 'forced', 'forces', 'foreign', 'foremost', 'forest', 'forever', 'forget', 'forgive', 'forgiveness', 'forgot', 'forgotten', 'form', 'formal', 'format', 'formatting', 'formed', 'former', 'forms', 'formula', 'forth', 'fortunate', 'fortunately', 'fortune', 'forty', 'forward', 'foster', 'fought', 'found', 'foundation', 'founded', 'founder', 'founding', 'four', 'fourth', 'fox', 'frame', 'framework', 'france', 'francis', 'francisco', 'frank', 'franklin', 'frankly', 'free', 'freedom', 'french', 'frequent', 'frequently', 'fresh', 'friend', 'friendly', 'friends', 'friendship', 'frightening', 'from', 'front', 'frontier', 'frustrated', 'frustrating', 'frustration', 'full', 'fully', 'fun', 'function', 'functions', 'fundamental', 'fundamentals', 'funniest', 'funny', 'further', 'future', 'g', 'gabriel', 'gain', 'gained', 'game', 'games', 'gang', 'garbage', 'garden', 'gary', 'gatsby', 'gave', 'gay', 'geared', 'geisha', 'gem', 'gems', 'gender', 'gene', 'general', 'generally', 'generation', 'generations', 'genius', 'genre', 'gentle', 'genuine', 'genuinely', 'geography', 'george', 'german', 'germany', 'get', 'gets', 'getting', 'ghost', 'ghosts', 'giant', 'gift', 'gifted', 'gifts', 'girl', 'girlfriend', 'girls', 'give', 'given', 'giver', 'gives', 'giving', 'glad', 'glance', 'glass', 'glimpse', 'global', 'glorious', 'glory', 'glossary', 'glued', 'go', 'goal', 'goals', 'god', \"god's\", 'goddess', 'gods', 'goes', 'going', 'gold', 'golden', 'golf', 'gone', 'gonna', 'good', 'goodness', 'gordon', 'gore', 'gorgeous', 'gospel', 'gospels', 'got', 'gothic', 'gotta', 'gotten', 'government', 'grab', 'grabbed', 'grabs', 'grace', 'grade', 'grader', 'graduate', 'graham', 'grammar', 'grammatical', 'grand', 'grandchildren', 'granddaughter', 'grandfather', 'grandma', 'grandmother', 'grandparents', 'grandson', 'grant', 'granted', 'graphic', 'graphics', 'grasp', 'grateful', 'gray', 'great', 'greater', 'greatest', 'greatly', 'greatness', 'greece', 'greed', 'greek', 'green', 'grew', 'grey', 'grief', 'gripping', 'grisham', \"grisham's\", 'gritty', 'ground', 'group', 'groups', 'grow', 'growing', 'grown', 'grows', 'growth', 'guarantee', 'guess', 'guessing', 'guidance', 'guide', 'guidelines', 'guides', 'guilt', 'guilty', 'guitar', 'gun', 'guns', 'guy', 'guys', 'h', 'ha', 'habits', 'had', \"hadn't\", 'hair', 'half', 'halfway', 'hall', 'hand', 'handbook', 'handle', 'handled', 'handling', 'hands', 'handsome', 'handy', 'hang', 'hanging', 'happen', 'happened', 'happening', 'happens', 'happier', 'happily', 'happiness', 'happy', 'hard', 'hardback', 'hardcover', 'harder', 'hardly', 'hardships', 'hardy', 'harriet', 'harris', 'harry', 'harsh', 'harvard', 'has', \"hasn't\", 'hat', 'hatchet', 'hate', 'hated', 'hates', 'hatred', 'haunted', 'haunting', 'have', \"haven't\", 'having', 'he', \"he'd\", \"he's\", 'head', 'heads', 'heal', 'healing', 'health', 'healthy', 'hear', 'heard', 'hearing', 'heart', 'heartbreaking', 'heartfelt', 'hearts', 'heartwarming', 'heat', 'heathcliff', 'heaven', 'heavily', 'heavy', 'hebrew', 'heck', 'heights', 'held', 'helen', 'hell', 'help', 'helped', 'helpful', 'helping', 'helps', 'hence', 'henry', 'her', 'here', \"here's\", 'heritage', 'hero', 'heroes', 'heroic', 'heroine', 'hers', 'herself', 'hesitate', 'hey', 'hidden', 'hide', 'hiding', 'high', 'higher', 'highest', 'highlights', 'highly', 'hilarious', 'hill', 'him', 'himself', 'hint', 'hints', 'his', 'his/her', 'historian', 'historians', 'historic', 'historical', 'historically', 'histories', 'history', 'hit', 'hitler', 'hits', 'hold', 'holding', 'holds', 'hole', 'holes', 'holiday', 'holidays', 'hollywood', 'holmes', 'holocaust', 'holy', 'home', 'homeless', 'homes', 'homework', 'honest', 'honestly', 'honesty', 'honor', 'hook', 'hooked', 'hope', 'hoped', 'hopefully', 'hopes', 'hoping', 'hornblower', 'horrible', 'horrific', 'horror', 'horrors', 'horse', 'horses', 'hospital', 'host', 'hot', 'hotel', 'hour', 'hours', 'house', 'household', 'houses', 'how', 'how-to', 'howard', 'however', 'huck', 'huge', 'human', 'humanity', 'humans', 'humble', 'humor', 'humorous', 'humour', 'hundred', 'hundreds', 'hunger', 'hungry', 'hunt', 'hunter', 'hunting', 'hurry', 'hurt', 'husband', 'hype', 'i', \"i'd\", \"i'll\", \"i'm\", \"i've\", 'ian', 'ice', 'idea', 'ideal', 'ideas', 'identify', 'identity', 'idiot', 'ie', 'if', 'ignorance', 'ignorant', 'ignore', 'ignored', 'ii', 'iii', 'ill', 'illness', 'illustrate', 'illustrated', 'illustrates', 'illustration', 'illustrations', 'illustrator', 'im', 'image', 'imagery', 'images', 'imagination', 'imaginative', 'imagine', 'imagined', 'immediate', 'immediately', 'immensely', 'impact', 'implement', 'implications', 'importance', 'important', 'importantly', 'impossible', 'impressed', 'impression', 'impressive', 'improve', 'improved', 'improvement', 'improving', 'in', 'in-depth', 'inc', 'inc\\t', 'incident', 'include', 'included', 'includes', 'including', 'incomplete', 'incorrect', 'increase', 'incredible', 'incredibly', 'indeed', 'independence', 'independent', 'index', 'india', 'indian', 'indians', 'indispensable', 'individual', 'individuals', 'industry', 'inexpensive', 'influence', 'influenced', 'influential', 'info', 'information', 'informative', 'informed', 'ingredients', 'initial', 'initially', 'ink', 'inner', 'innocence', 'innocent', 'innovative', 'insane', 'inside', 'insight', 'insightful', 'insights', 'inspiration', 'inspirational', 'inspire', 'inspired', 'inspires', 'inspiring', 'installment', 'instance', 'instant', 'instantly', 'instead', 'institute', 'instruction', 'instructions', 'instructor', 'integrity', 'intellectual', 'intelligence', 'intelligent', 'intend', 'intended', 'intense', 'intensity', 'intent', 'intention', 'interaction', 'interactions', 'interest', 'interested', 'interesting', 'interests', 'intermediate', 'internal', 'international', 'internet', 'interpretation', 'interpretations', 'interview', 'interviews', 'intimate', 'into', 'intricate', 'intrigue', 'intrigued', 'intriguing', 'intro', 'introduce', 'introduced', 'introduces', 'introducing', 'introduction', 'introductory', 'invaluable', 'invasion', 'invest', 'investigation', 'investing', 'investment', 'invisible', 'involved', 'involves', 'involving', 'iraq', 'ireland', 'irish', 'ironic', 'irony', 'irritating', 'is', 'islam', 'islamic', 'island', 'islands', \"isn't\", 'israel', 'issue', 'issues', 'it', \"it'll\", \"it's\", 'italian', 'italy', 'item', 'items', 'iti', 'its', 'itself', 'itthe', 'ive', 'j', 'jack', 'jacket', 'jackson', 'jail', 'james', 'jamie', 'jane', 'janet', 'janette', 'january', 'japan', 'japanese', 'jargon', 'java', 'jay', 'jazz', 'jean', 'jeff', 'jefferson', 'jenkins', 'jerry', 'jesse', 'jesus', 'jewish', 'jews', 'jim', 'job', 'jobs', 'joe', 'john', 'johnny', 'johnson', 'join', 'joined', 'joke', 'jokes', 'jonas', 'jonathan', 'jones', 'jordan', 'joseph', 'journal', 'journalist', 'journals', 'journey', 'joy', 'joyce', 'joys', 'jr', 'judge', 'jump', 'jumped', 'jumping', 'jumps', 'june', 'jungle', 'junior', 'junk', 'jurassic', 'jury', 'just', 'justice', 'k', 'karen', 'kate', 'kay', 'keen', 'keep', 'keeper', 'keeping', 'keeps', 'kelly', 'ken', 'kennedy', 'kept', 'kerry', 'kevin', 'key', 'kick', 'kid', 'kidnapped', 'kids', 'kill', 'killed', 'killer', 'killing', 'kills', 'kind', 'kinda', 'kindle', 'kinds', 'king', \"king's\", 'kingdom', 'kings', 'kiss', 'kit', 'kitchen', 'knew', 'knife', 'knight', 'knitting', 'knots', 'know', 'knowing', 'knowledge', 'known', 'knows', 'kudos', 'l', 'la', 'labor', 'lack', 'lacked', 'lacking', 'lacks', 'ladies', 'lady', 'laid', 'lake', 'lamb', 'lame', 'lance', 'land', 'lands', 'landscape', 'language', 'languages', 'large', 'largely', 'larger', 'largest', 'larry', 'las', 'last', 'lasting', 'late', 'lately', 'later', 'latest', 'latin', 'latter', 'laugh', 'laughed', 'laughing', 'laughs', 'laughter', 'laura', 'law', 'lawrence', 'laws', 'lawyer', 'lawyers', 'lay', 'layout', 'lays', 'lazy', 'le', 'lead', 'leader', 'leaders', 'leadership', 'leading', 'leads', 'league', 'learn', 'learned', 'learning', 'learns', 'least', 'leather', 'leave', 'leaves', 'leaving', 'lecture', 'lecturer', 'lectures', 'led', 'lee', 'left', 'legacy', 'legal', 'legend', 'legendary', 'legends', 'lemony', 'length', 'lengthy', 'lent', 'leonard', 'less', 'lesser', 'lesson', 'lessons', 'lestat', 'let', \"let's\", 'lets', 'letter', 'letters', 'letting', 'level', 'levels', 'lewis', 'liberal', 'liberals', 'liberty', 'libraries', 'library', 'libro', 'lie', 'lies', 'life', \"life's\", 'lifestyle', 'lifetime', 'lift', 'light', 'lighting', 'lights', 'likable', 'like', 'likeable', 'liked', 'likely', 'likes', 'liking', 'limited', 'limits', 'lincoln', 'linda', 'line', 'lines', 'link', 'links', 'lion', 'lisa', 'list', 'listed', 'listen', 'listened', 'listening', 'listing', 'lists', 'lit', 'literally', 'literary', 'literature', 'little', 'live', 'lived', 'lively', 'lives', 'living', 'lo', 'loaded', 'loaned', 'local', 'location', 'locations', 'logic', 'logical', 'lois', 'lol', 'london', 'lonely', 'long', 'longer', 'longing', 'look', 'looked', 'looking', 'looks', 'loose', 'lord', 'lori', 'los', 'lose', 'loses', 'losing', 'loss', 'lost', 'lot', 'lots', 'loud', 'louis', 'louise', 'lovable', 'love', 'loved', 'lovely', 'lover', 'lovers', 'loves', 'loving', 'low', 'lower', 'lowry', 'loyal', 'loyalty', 'lucid', 'luck', 'lucky', 'lucy', 'lunch', 'lust', 'lying', 'lynn', 'lyrical', 'm', 'ma', 'machine', 'mad', 'made', 'magazine', 'magazines', 'magic', 'magical', 'magnificent', 'mail', 'main', 'mainly', 'mainstream', 'maintain', 'major', 'majority', 'make', 'makes', 'making', 'male', 'man', \"man's\", 'manage', 'managed', 'management', 'manager', 'managers', 'manages', 'managing', 'manga', 'mankind', 'manner', 'manners', 'manson', 'manual', 'manuscript', 'many', 'map', 'maps', 'march', 'margaret', 'marine', 'mark', 'marked', 'market', 'marketing', 'marks', 'marriage', 'married', 'marry', 'mars', 'martial', 'martin', 'marvelous', 'mary', 'mass', 'massive', 'master', 'masterful', 'masterfully', 'masterpiece', 'masters', 'mastery', 'match', 'material', 'materials', 'math', 'mathematical', 'mathematics', 'matt', 'matter', 'matters', 'matthew', 'mature', 'max', 'may', 'maybe', 'mccourt', 'me', 'meal', 'meals', 'mean', 'meaning', 'meaningful', 'meanings', 'means', 'meant', 'measure', 'meat', 'mechanics', 'medal', 'media', 'medical', 'medicine', 'medieval', 'mediocre', 'meditation', 'meditations', 'medium', 'meet', 'meeting', 'meetings', 'meets', 'meg', 'member', 'members', 'memoir', 'memoirs', 'memorable', 'memories', 'memory', 'men', 'mental', 'mentally', 'mention', 'mentioned', 'mentions', 'mercy', 'mere', 'merely', 'merit', 'mess', 'message', 'messages', 'met', 'method', 'methods', 'mexican', 'mexico', 'mia', 'michael', 'michener', 'microsoft', 'mid', 'middle', 'midnight', 'midst', 'might', 'mike', 'miles', 'military', 'mill', 'miller', 'million', 'millionaire', 'millions', 'mind', 'minded', 'minds', 'mindset', 'mine', 'minister', 'ministry', 'minor', 'minute', 'minutes', 'miracle', 'miracles', 'mirror', 'miserable', 'misleading', 'miss', 'missed', 'missing', 'mission', 'mississippi', 'mistake', 'mistakes', 'mix', 'mixed', 'mixture', 'moby', 'model', 'models', 'modern', 'mom', 'moment', 'moments', 'moms', 'money', 'monster', 'monsters', 'montana', 'month', 'months', 'mood', 'moon', 'moore', 'moral', 'morality', 'morals', 'more', 'morgan', 'mormon', 'morning', 'most', 'mostly', 'mother', \"mother's\", 'mothers', 'motion', 'motivated', 'motivation', 'motives', 'mountain', 'mountains', 'mouse', 'mouth', 'move', 'moved', 'movement', 'movements', 'moves', 'movie', 'movies', 'moving', 'mr', 'mrs', 'ms', 'much', 'multiple', 'mundane', 'murder', 'murdered', 'murderer', 'murders', 'museum', 'music', 'musical', 'muslim', 'must', 'must-have', 'must-read', 'my', 'myself', 'mysteries', 'mysterious', 'mystery', 'mystical', 'myth', 'mythology', 'myths', 'n', 'naive', 'naked', 'name', 'named', 'names', 'nancy', 'nanny', 'narnia', 'narration', 'narrative', 'narrator', 'narrow', 'nasty', 'nation', 'national', 'nations', 'native', 'natural', 'naturally', 'nature', 'naval', 'navy', 'nazi', 'near', 'nearly', 'neat', 'necessarily', 'necessary', 'need', 'needed', 'needing', 'needless', 'needs', 'negative', 'neighbors', 'neither', 'nelson', 'nephew', 'net', 'network', 'never', 'nevertheless', 'new', 'newer', 'newest', 'newly', 'news', 'newspaper', 'next', 'nice', 'nicely', 'nicholas', 'nick', 'niece', 'night', 'nights', 'nine', 'no', 'noah', 'nobel', 'noble', 'nobody', 'non', 'non-fiction', 'none', 'nonetheless', 'nonfiction', 'nonsense', 'nor', 'nora', 'normal', 'normally', 'norman', 'north', 'northern', 'not', 'note', 'notebook', 'noted', 'notes', 'nothing', 'notice', 'noticed', 'notion', 'novel', 'novelist', 'novels', 'novice', 'now', 'nowhere', 'nuclear', 'number', 'numbers', 'numerous', 'nurse', 'nursing', 'nutrition', 'nuts', 'ny', 'o', 'object', 'objective', 'objects', 'obscure', 'observations', 'obsessed', 'obsession', 'obstacles', 'obtain', 'obvious', 'obviously', 'occasional', 'occasionally', 'occur', 'occurred', 'ocean', 'october', 'odd', 'odds', 'of', 'off', 'offensive', 'offer', 'offered', 'offering', 'offers', 'office', 'officer', 'officers', 'official', 'often', 'oh', 'ohio', 'oil', 'ok', 'okay', 'oke', 'olaf', 'old', 'old-fashioned', 'older', 'oldest', 'on', 'once', 'one', \"one's\", 'ones', 'online', 'only', 'onto', 'open', 'opened', 'opener', 'opening', 'opens', 'opera', 'operations', 'opinion', 'opinions', 'opportunities', 'opportunity', 'opposed', 'opposite', 'oprah', 'option', 'options', 'or', 'oracle', 'order', 'ordered', 'ordering', 'ordinary', 'organization', 'organizations', 'organized', 'origin', 'original', 'originally', 'origins', 'orleans', 'orphans', 'orthodox', 'oscar', 'other', 'others', 'otherwise', 'ought', 'our', 'ourselves', 'out', 'outcome', 'outdated', 'outline', 'outlines', 'outlook', 'outside', 'outstanding', 'over', 'overall', 'overcome', 'overlooked', 'overly', 'overview', 'overwhelmed', 'overwhelming', 'own', 'owned', 'owner', 'owners', 'oxford', 'oz', 'p', 'pace', 'paced', 'pacific', 'pacing', 'pack', 'package', 'packed', 'page', 'page-turner', 'pages', 'paid', 'pain', 'painful', 'paint', 'painted', 'painting', 'paintings', 'paints', 'pair', 'pan', 'pants', 'paper', 'paperback', 'papers', 'par', 'para', 'paradise', 'paragraph', 'paragraphs', 'parallel', 'paranormal', 'parent', 'parenting', 'parents', 'paris', 'park', 'parker', 'part', 'particular', 'particularly', 'parties', 'partner', 'parts', 'party', 'pass', 'passage', 'passages', 'passed', 'passing', 'passion', 'passionate', 'past', 'pastor', 'pat', 'path', 'pathetic', 'patience', 'patient', 'patients', 'patricia', 'patrick', 'pattern', 'patterns', 'patterson', \"patterson's\", 'paul', 'pay', 'paying', 'pc', 'peace', 'peaceful', 'pearl', 'pen', 'penguin', 'penny', 'people', \"people's\", 'peoples', 'per', 'perception', 'perfect', 'perfection', 'perfectly', 'performance', 'perhaps', 'period', 'periods', 'person', \"person's\", 'personal', 'personalities', 'personality', 'personally', 'persons', 'perspective', 'perspectives', 'persuasion', 'pet', 'peter', 'peters', 'phantom', 'phd', 'phenomenal', 'philip', 'philosopher', 'philosophers', 'philosophical', 'philosophies', 'philosophy', 'phone', 'photo', 'photographer', 'photographs', 'photography', 'photos', 'photoshop', 'phrase', 'phrases', 'physical', 'physically', 'physics', 'pi', 'pick', 'picked', 'picking', 'picks', 'picture', 'pictures', 'piece', 'pieces', 'pierce', 'pilot', 'pioneer', 'pirates', 'pity', 'place', 'placed', 'places', 'plain', 'plan', 'plane', 'planet', 'planned', 'planning', 'plans', 'plant', 'plants', 'plausible', 'play', 'played', 'player', 'players', 'playing', 'plays', 'pleasant', 'pleasantly', 'please', 'pleased', 'pleasure', 'plenty', 'plot', 'plots', 'plotting', 'plum', 'plus', 'pocket', 'poem', 'poems', 'poet', 'poetic', 'poetry', 'poignant', 'point', 'pointed', 'pointless', 'points', 'poirot', 'police', 'policy', 'polish', 'political', 'politically', 'politicians', 'politics', 'ponder', 'poor', 'poorly', 'pop', 'pope', 'popular', 'population', 'portion', 'portions', 'portland', 'portrait', 'portray', 'portrayal', 'portrayed', 'portrays', 'position', 'positions', 'positive', 'possibilities', 'possibility', 'possible', 'possibly', 'post', 'posted', 'potential', 'potter', 'potty', 'pounds', 'poverty', 'power', 'powerful', 'powers', 'practical', 'practically', 'practice', 'practiced', 'practices', 'practicing', 'praise', 'pratchett', 'pray', 'prayer', 'prayers', 'preaching', 'preachy', 'precious', 'precise', 'predictable', 'preface', 'prefer', 'preferred', 'pregnant', 'prejudice', 'premise', 'preparation', 'prepare', 'prepared', 'preparing', 'presence', 'present', 'presentation', 'presented', 'presenting', 'presents', 'president', 'press', 'pressure', 'pretty', 'prevent', 'previous', 'previously', 'prey', 'price', 'priceless', 'prices', 'pride', 'priest', 'primarily', 'primary', 'prime', 'primer', 'prince', 'princess', 'principle', 'principles', 'print', 'printed', 'printing', 'prior', 'prison', 'private', 'prize', 'pro', 'probably', 'problem', 'problems', 'process', 'processes', 'produce', 'produced', 'product', 'production', 'products', 'profession', 'professional', 'professionals', 'professor', 'profound', 'profoundly', 'program', 'programming', 'programs', 'progress', 'project', 'projects', 'prolific', 'prominent', 'promise', 'promised', 'promises', 'promptly', 'pronunciation', 'proof', 'propaganda', 'proper', 'properly', 'prophecy', 'prose', 'protagonist', 'protagonists', 'protect', 'proud', 'prove', 'proved', 'proven', 'proves', 'provide', 'provided', 'provides', 'providing', 'provocative', 'provoking', 'psyche', 'psychic', 'psychological', 'psychologist', 'psychology', 'public', 'publication', 'publications', 'publish', 'published', 'publisher', 'publishers', 'publishing', 'pulitzer', 'pull', 'pulled', 'pulling', 'pullman', 'pulls', 'punctuation', 'punishment', 'purchase', 'purchased', 'purchasing', 'pure', 'purely', 'purpose', 'purposes', 'pursue', 'pursuit', 'push', 'put', 'puts', 'putting', 'puzzle', 'puzzles', 'qualities', 'quality', 'quantum', 'quarter', 'que', 'queen', 'quest', 'question', 'questions', 'quick', 'quickly', 'quiet', 'quilt', 'quirky', 'quit', 'quite', 'quote', 'quotes', 'r', 'race', 'races', 'rachel', 'racial', 'racing', 'racism', 'racist', 'radical', 'radio', 'rainbow', 'rainy', 'raise', 'raised', 'raising', 'ralph', 'ran', 'ranch', 'rand', 'random', 'range', 'rank', 'ranks', 'rape', 'rapture', 'rare', 'rarely', 'rate', 'rated', 'rather', 'rating', 'rational', 'raw', 'ray', 're-read', 're-reading', 'reach', 'reached', 'reaches', 'reaching', 'reaction', 'reactions', 'read', 'readable', 'reader', \"reader's\", 'readers', 'readi', 'readily', 'reading', 'readings', 'reads', 'ready', 'real', 'real-life', 'realism', 'realistic', 'realities', 'reality', 'realize', 'realized', 'realizes', 'realizing', 'really', 'realm', 'realy', 'reason', 'reasonable', 'reasonably', 'reasoning', 'reasons', 'recall', 'reccomend', 'reccommend', 'receive', 'received', 'receiving', 'recent', 'recently', 'recieved', 'recipe', 'recipes', 'recognition', 'recognize', 'recognized', 'recomend', 'recommend', 'recommendation', 'recommendations', 'recommended', 'recommending', 'record', 'recorded', 'recording', 'records', 'recovery', 'red', 'redemption', 'redwall', 'reed', 'refer', 'reference', 'references', 'referred', 'referring', 'refers', 'reflect', 'reflection', 'reflects', 'refreshing', 'regard', 'regarding', 'regardless', 'regards', 'regency', 'region', 'regret', 'regular', 'regularly', 'relate', 'related', 'relates', 'relating', 'relation', 'relations', 'relationship', 'relationships', 'relative', 'relatively', 'relatives', 'relax', 'release', 'released', 'relevant', 'reliable', 'relief', 'religion', 'religions', 'religious', 'reluctant', 'rely', 'remain', 'remained', 'remaining', 'remains', 'remarkable', 'remember', 'remembered', 'remind', 'reminded', 'reminder', 'reminds', 'remote', 'removed', 'renaissance', 'renowned', 'repeat', 'repeated', 'repeatedly', 'repetition', 'repetitive', 'replace', 'report', 'reporter', 'reports', 'represent', 'represented', 'represents', 'reprint', 'republican', 'reputation', 'require', 'required', 'requires', 'reread', 'rereading', 'rescue', 'research', 'researched', 'researching', 'resist', 'resolution', 'resource', 'resources', 'respect', 'respected', 'response', 'responsibility', 'responsible', 'rest', 'result', 'results', 'retired', 'return', 'returned', 'returning', 'returns', 'reveal', 'revealed', 'revealing', 'reveals', 'revelation', 'revelations', 'revenge', 'review', 'reviewed', 'reviewer', 'reviewers', 'reviewing', 'reviews', 'revised', 'revolution', 'revolutionary', 'rewarding', 'rice', 'rich', 'richard', 'richly', 'rick', 'rid', 'ride', 'ridiculous', 'riding', 'right', 'rights', 'ring', 'rings', 'rise', 'rising', 'risk', 'river', 'riveting', 'road', 'robert', 'roberts', 'robin', 'robinson', 'rochester', 'rock', 'rocks', 'roger', 'role', 'roles', 'roll', 'rolling', 'roman', 'romance', 'romances', 'romantic', 'rome', 'room', 'root', 'roots', 'rose', 'ross', 'rough', 'round', 'route', 'routine', 'royal', 'ruin', 'ruined', 'rule', 'rules', 'run', 'running', 'runs', 'rural', 'rush', 'rushed', 'russell', 'russia', 'russian', 'ryan', 's', 'sacred', 'sacrifice', 'sad', 'sadly', 'sadness', 'safe', 'safety', 'saga', 'said', 'sailing', 'saint', 'saints', 'sake', 'sale', 'sales', 'salt', 'salvation', 'sam', 'same', 'sample', 'san', 'santa', 'sara', 'sarah', 'sat', 'satire', 'satisfied', 'satisfy', 'satisfying', 'saturday', 'save', 'saved', 'saving', 'saw', 'sawyer', 'say', 'saying', 'says', 'scale', 'scare', 'scared', 'scarpetta', 'scary', 'scenario', 'scenarios', 'scene', 'scenery', 'scenes', 'scholar', 'scholarly', 'scholars', 'scholarship', 'school', 'schools', 'sci-fi', 'science', 'sciences', 'scientific', 'scientist', 'scientists', 'scope', 'score', 'scotland', 'scott', 'scottish', 'screen', 'screenplay', 'script', 'scripture', 'scriptures', 'se', 'sea', 'search', 'searched', 'searching', 'season', 'seasoned', 'seat', 'second', 'secondary', 'secret', 'secrets', 'section', 'sections', 'security', 'see', 'seeing', 'seek', 'seeking', 'seeks', 'seem', 'seemed', 'seemingly', 'seems', 'seen', 'sees', 'selected', 'selection', 'self', 'self-help', 'selfish', 'sell', 'seller', 'selling', 'seminary', 'send', 'sending', 'senior', 'sense', 'senses', 'sensitive', 'sent', 'sentence', 'sentences', 'separate', 'september', 'sequel', 'sequels', 'sequence', 'serial', 'series', 'serious', 'seriously', 'serve', 'served', 'serves', 'service', 'services', 'serving', 'set', 'sets', 'setting', 'settings', 'seven', 'several', 'sex', 'sexual', 'sexuality', 'sexy', 'sf', 'shadow', 'shakespeare', 'shall', 'shallow', 'shame', 'shannara', 'shape', 'shaped', 'share', 'shared', 'shares', 'sharing', 'sharp', 'sharpe', 'she', \"she's\", 'shed', 'sheer', 'shelf', 'shelves', 'sherlock', 'shines', 'ship', 'shipped', 'shipping', 'ships', 'shock', 'shocked', 'shocking', 'shoes', 'shooting', 'shop', 'shopping', 'short', 'shorter', 'shortly', 'shot', 'shots', 'should', \"shouldn't\", 'show', 'showed', 'showing', 'shown', 'shows', 'shy', 'sick', 'side', 'sides', 'sight', 'sign', 'significance', 'significant', 'signs', 'silent', 'silly', 'silver', 'similar', 'similarities', 'simon', 'simple', 'simplicity', 'simplistic', 'simply', 'sin', 'since', 'single', 'sir', 'sister', 'sisters', 'sit', 'site', 'sites', 'sitting', 'situation', 'situations', 'six', 'sixth', 'size', 'skeptical', 'sketches', 'skill', 'skills', 'skin', 'skip', 'skipped', 'skipping', 'sky', 'slave', 'slavery', 'slaves', 'sleep', 'sleeping', 'slight', 'slightly', 'slim', 'slow', 'slowly', 'small', 'smaller', 'smart', 'smell', 'smile', 'smith', 'smooth', 'snicket', 'snow', 'so', 'so-called', 'soap', 'social', 'society', 'sociology', 'soft', 'software', 'sold', 'soldier', 'soldiers', 'solid', 'solution', 'solutions', 'solve', 'solved', 'solving', 'some', 'somebody', 'someday', 'somehow', 'someone', 'something', 'sometime', 'sometimes', 'somewhat', 'somewhere', 'son', \"son's\", 'song', 'songs', 'sons', 'soon', 'sooner', 'sophisticated', 'sorry', 'sort', 'sorts', 'soul', 'souls', 'sound', 'sounded', 'sounds', 'source', 'sources', 'south', 'southern', 'soviet', 'space', 'spain', 'span', 'spanish', 'spare', 'sparks', 'speak', 'speaker', 'speakers', 'speaking', 'speaks', 'special', 'species', 'specific', 'specifically', 'spectacular', 'speech', 'speed', 'spell', 'spelling', 'spells', 'spend', 'spending', 'spends', 'spent', 'spin', 'spine', 'spirit', 'spirits', 'spiritual', 'spirituality', 'spiritually', 'spite', 'splendid', 'spoil', 'spoiled', 'spoke', 'spoken', 'sport', 'sports', 'spot', 'spots', 'spouse', 'spread', 'spring', 'spy', 'st', 'staff', 'stage', 'stages', 'stand', 'standard', 'standards', 'standing', 'stands', 'stanley', 'star', 'stars', 'start', 'started', 'starting', 'starts', 'state', 'stated', 'statement', 'statements', 'states', 'station', 'statistics', 'status', 'stay', 'stayed', 'staying', 'stays', 'steal', 'stealing', 'steinbeck', 'step', 'step-by-step', 'stephanie', 'stephen', 'steps', 'stereotypes', 'steve', 'steven', 'stick', 'still', 'stimulating', 'stitches', 'stock', 'stolen', 'stomach', 'stone', 'stood', 'stop', 'stopped', 'stops', 'store', 'stores', 'stories', 'storm', 'story', 'storyline', 'storyteller', 'storytelling', 'straight', 'straightforward', 'strange', 'stranger', 'strategies', 'strategy', 'street', 'streets', 'strength', 'strengths', 'stress', 'stretch', 'strikes', 'striking', 'strip', 'strips', 'strong', 'stronger', 'strongly', 'struck', 'structure', 'structured', 'struggle', 'struggled', 'struggles', 'struggling', 'stuart', 'stuck', 'student', 'students', 'studied', 'studies', 'studio', 'study', 'studying', 'stuff', 'stumbled', 'stunning', 'stupid', 'style', 'styles', 'subject', 'subjects', 'subsequent', 'substance', 'subtle', 'succeed', 'succeeds', 'success', 'successful', 'successfully', 'such', 'sucked', 'sudden', 'suddenly', 'sue', 'suffer', 'suffered', 'suffering', 'suffers', 'sugar', 'suggest', 'suggested', 'suggestion', 'suggestions', 'suggests', 'suicide', 'suit', 'suitable', 'suited', 'sum', 'summary', 'summer', 'sun', 'sunday', 'sunny', 'super', 'superb', 'superbly', 'superficial', 'superior', 'supernatural', 'supplement', 'support', 'supported', 'supporting', 'suppose', 'supposed', 'supposedly', 'sure', 'surely', 'surface', 'surgery', 'surprise', 'surprised', 'surprises', 'surprising', 'surprisingly', 'surrounding', 'survey', 'survival', 'survive', 'survived', 'surviving', 'susan', 'suspect', 'suspense', 'suspenseful', 'sweet', 'sword', 'symbolism', 'symbols', 'sympathetic', 'sympathy', 'synopsis', 'system', 'systems', 't', 'table', 'tables', 'tactics', 'take', 'taken', 'takes', 'taking', 'tale', 'talent', 'talented', 'talents', 'tales', 'talk', 'talked', 'talking', 'talks', 'tall', 'tan', 'tape', 'tapes', 'target', 'tarot', 'tarzan', 'task', 'taste', 'tastes', 'taught', 'taylor', 'tea', 'teach', 'teacher', 'teachers', 'teaches', 'teaching', 'teachings', 'team', 'tear', 'tears', 'technical', 'technique', 'techniques', 'technology', 'ted', 'tedious', 'teen', 'teenage', 'teenager', 'teenagers', 'teens', 'television', 'tell', 'teller', 'telling', 'tells', 'temple', 'ten', 'tend', 'tender', 'tends', 'tense', 'tension', 'term', 'terminology', 'terms', 'terrible', 'terribly', 'terrific', 'terrifying', 'territory', 'terror', 'terry', 'test', 'testament', 'testing', 'tests', 'texas', 'text', 'textbook', 'textbooks', 'texts', 'than', 'thank', 'thankful', 'thanks', 'that', \"that's\", 'thats', 'the', 'theater', 'theatre', 'their', 'them', 'theme', 'themes', 'themselves', 'then', 'theological', 'theology', 'theoretical', 'theories', 'theory', 'therapist', 'therapy', 'there', \"there's\", 'therefore', 'these', 'thesis', 'they', \"they'll\", \"they're\", \"they've\", 'thick', 'thier', 'thin', 'thing', 'things', 'think', 'thinkers', 'thinking', 'thinks', 'third', 'thirty', 'this', 'thomas', 'thorough', 'thoroughly', 'those', 'though', 'thought', 'thought-provoking', 'thoughtful', 'thoughts', 'thousand', 'thousands', 'thread', 'threat', 'three', 'threw', 'thrill', 'thrilled', 'thriller', 'thrillers', 'thrilling', 'through', 'throughout', 'throw', 'thrown', 'throws', 'thru', 'thumbs', 'thus', 'tidbits', 'tie', 'tied', 'ties', 'tiger', 'tight', 'till', 'tim', 'time', 'timeless', 'timeline', 'timely', 'times', 'tiny', 'tips', 'tired', 'title', 'titled', 'titles', 'to', 'today', \"today's\", 'toddler', 'together', 'told', 'tolkien', 'tom', 'tome', 'ton', 'tone', 'tons', 'tony', 'too', 'took', 'tool', 'tools', 'top', 'topic', 'topics', 'torn', 'torture', 'total', 'totally', 'touch', 'touched', 'touches', 'touching', 'tough', 'tour', 'toward', 'towards', 'town', 'towns', 'toys', 'track', 'trade', 'trading', 'tradition', 'traditional', 'traditions', 'tragedy', 'tragic', 'trail', 'train', 'trained', 'training', 'traits', 'transformation', 'transformed', 'transition', 'translate', 'translated', 'translation', 'translation\\t', 'translations', 'translator', 'transported', 'trapped', 'trash', 'travel', 'traveled', 'traveler', 'traveling', 'travels', 'treasure', 'treat', 'treated', 'treatise', 'treatment', 'treats', 'tree', 'trees', 'trek', 'tremendous', 'tremendously', 'trial', 'trials', 'tribute', 'trick', 'tricks', 'tried', 'tries', 'trilogy', 'trip', 'trips', 'trite', 'triumph', 'trouble', 'troubled', 'troubles', 'true', 'truely', 'truly', 'trust', 'truth', 'truths', 'try', 'trying', 'tuck', 'turn', 'turned', 'turner', 'turning', 'turns', 'tv', 'twain', 'twelve', 'twentieth', 'twenty', 'twice', 'twin', 'twins', 'twist', 'twisted', 'twists', 'two', 'type', 'types', 'typical', 'typically', 'typos', 'u', 'ugly', 'uk', 'ultimate', 'ultimately', 'un', 'una', 'unable', 'unabridged', 'unavailable', 'unbelievable', 'uncle', 'under', 'undergraduate', 'underground', 'underlying', 'understand', 'understandable', 'understanding', 'understands', 'understood', 'undoubtedly', 'unexpected', 'unfamiliar', 'unfolds', 'unforgettable', 'unfortunate', 'unfortunately', 'unhappy', 'uninteresting', 'union', 'unique', 'unit', 'united', 'universal', 'universe', 'university', 'unknown', 'unless', 'unlike', 'unlikely', 'unnecessary', 'unpredictable', 'unrealistic', 'until', 'unusual', 'up', 'update', 'updated', 'uplifting', 'upon', 'upper', 'ups', 'upset', 'urban', 'urge', 'us', 'usa', 'usage', 'use', 'used', 'useful', 'useless', 'user', 'users', 'uses', 'using', 'usual', 'usually', 'utter', 'utterly', 'vacation', 'vague', 'valid', 'valley', 'valuable', 'value', 'values', 'vampire', 'vampires', 'van', 'variations', 'varied', 'variety', 'various', 'vast', 'vatican', 'verb', 'verbal', 'verbs', 'verse', 'verses', 'version', 'versions', 'versus', 'very', 'veteran', 'via', 'vibrant', 'victim', 'victims', 'victoria', 'victorian', 'victory', 'video', 'vietnam', 'view', 'viewed', 'viewpoint', 'views', 'village', 'villain', 'villains', 'vinci', 'vintage', 'violence', 'violent', 'violet', 'virginia', 'virtually', 'virtue', 'vision', 'visit', 'visited', 'visiting', 'visual', 'visualize', 'vital', 'vivid', 'vividly', 'vocabulary', 'voice', 'voices', 'volume', 'volumes', 'vote', 'voyage', 'vs', 'w', 'wade', 'wait', 'waited', 'waiting', 'wake', 'walk', 'walked', 'walking', 'walks', 'wall', 'walter', 'want', 'wanted', 'wanting', 'wants', 'war', 'warfare', 'warm', 'warming', 'warn', 'warned', 'warning', 'warren', 'warrior', 'wars', 'was', 'washington', \"wasn't\", 'waste', 'wasted', 'wasting', 'watch', 'watched', 'watching', 'water', 'way', 'wayne', 'ways', 'we', \"we're\", \"we've\", 'weak', 'weaknesses', 'wealth', 'wealthy', 'weapons', 'wear', 'weather', 'weave', 'weaves', 'weaving', 'web', 'website', 'wedding', 'week', 'weekend', 'weekly', 'weeks', 'weight', 'weird', 'welcome', 'well', 'well-known', 'well-written', 'wells', 'went', 'were', \"weren't\", 'west', 'western', 'what', \"what's\", 'whatever', 'whatsoever', 'wheel', 'when', 'whenever', 'where', 'whether', 'which', 'while', 'white', 'who', \"who's\", 'whoever', 'whole', 'whom', 'whose', 'why', 'wicked', 'wide', 'widely', 'wife', 'wild', 'wilde', 'wilderness', 'will', 'william', 'williams', 'willing', 'wilson', 'win', 'wind', 'window', 'windows', 'wine', 'wing', 'winner', 'winnie', 'winning', 'winter', 'wisdom', 'wise', 'wish', 'wished', 'wishes', 'wishing', 'wit', 'witch', 'witchcraft', 'witches', 'with', 'within', 'without', 'witness', 'witty', 'wizard', 'wolf', 'woman', \"woman's\", 'women', \"women's\", 'won', \"won't\", 'wonder', 'wondered', 'wonderful', 'wonderfully', 'wondering', 'wonderland', 'wonders', 'wont', 'wood', 'woods', 'word', 'words', 'wordy', 'work', 'workbook', 'worked', 'workers', 'working', 'workings', 'works', 'world', \"world's\", 'worlds', 'worldwide', 'worn', 'worried', 'worry', 'worse', 'worship', 'worst', 'worth', 'worthwhile', 'worthy', 'would', \"would've\", \"wouldn't\", 'woven', 'wow', 'wrapped', 'wrestling', 'write', 'writen', 'writer', \"writer's\", 'writers', 'writes', 'writing', 'writings', 'written', 'wrong', 'wrote', 'wuthering', 'wwii', 'x', 'y', 'ya', 'yarn', 'yeah', 'year', 'years', 'yellow', 'yelnats', 'yes', 'yesterday', 'yet', 'yoga', 'york', 'you', \"you'd\", \"you'll\", \"you're\", \"you've\", 'young', 'younger', 'youngest', 'your', 'yours', 'yourself', 'youth', 'yr', 'zane', 'zen', 'zero']\n"
     ]
    }
   ],
   "source": [
    "vocab_no_UNK = vocab[:5] + vocab[6:]\n",
    "print(len(vocab_no_UNK))\n",
    "print(vocab_no_UNK)"
   ]
  },
  {
   "cell_type": "code",
   "execution_count": 6,
   "metadata": {},
   "outputs": [
    {
     "data": {
      "text/plain": [
       "Index(['description', 'product_id', 'review', 'all_text', 'all_text_parsed',\n",
       "       'all_text_parsed_words_separate'],\n",
       "      dtype='object')"
      ]
     },
     "execution_count": 6,
     "metadata": {},
     "output_type": "execute_result"
    }
   ],
   "source": [
    "combined.columns"
   ]
  },
  {
   "cell_type": "markdown",
   "metadata": {},
   "source": [
    "## Load embeddings "
   ]
  },
  {
   "cell_type": "code",
   "execution_count": 7,
   "metadata": {},
   "outputs": [],
   "source": [
    "import pickle\n",
    "# close(\"embeddings_Amazon10.p\")\n",
    "vocab_embeddings = pickle.load(open( \"embeddings_Amazon10.p\", \"rb\" ))"
   ]
  },
  {
   "cell_type": "code",
   "execution_count": 8,
   "metadata": {},
   "outputs": [],
   "source": [
    "vocab_dict = {vocab_no_UNK[i]:vocab_embeddings[i][:] for i in range(len(vocab_no_UNK))}"
   ]
  },
  {
   "cell_type": "code",
   "execution_count": 9,
   "metadata": {},
   "outputs": [],
   "source": [
    "def text_to_embedding(text_parsed, vocab_dict):\n",
    "    words = np.array([vocab_dict[w] for w in text_parsed if w in vocab_dict])\n",
    "    if words.shape[0] == 0:\n",
    "        return np.zeros(25)\n",
    "    return np.sum(words, axis=0)/words.shape[0]        "
   ]
  },
  {
   "cell_type": "code",
   "execution_count": 10,
   "metadata": {},
   "outputs": [
    {
     "data": {
      "text/plain": [
       "array([-1.09589936,  0.87826776, -1.41414862, -0.63733984,  0.39138866,\n",
       "        0.8764169 ,  0.90435006,  0.90684027,  0.98593923,  0.91673893,\n",
       "        0.91556021, -0.94446222, -0.92452838, -0.80426911, -0.66310093,\n",
       "        0.97611197, -0.85965555,  0.90594673,  0.69009178,  0.89031946,\n",
       "       -0.93289781, -1.0018122 , -0.86795445, -0.50583863,  0.92417583])"
      ]
     },
     "execution_count": 10,
     "metadata": {},
     "output_type": "execute_result"
    }
   ],
   "source": [
    "p = ['add', 'cat', 'hat']\n",
    "text_to_embedding(p, vocab_dict)"
   ]
  },
  {
   "cell_type": "code",
   "execution_count": null,
   "metadata": {},
   "outputs": [],
   "source": []
  },
  {
   "cell_type": "markdown",
   "metadata": {},
   "source": [
    "## Construct matrix of document to embedding"
   ]
  },
  {
   "cell_type": "code",
   "execution_count": 11,
   "metadata": {},
   "outputs": [],
   "source": [
    "doc_embeddings = combined[['product_id', 'all_text_parsed_words_separate']]"
   ]
  },
  {
   "cell_type": "code",
   "execution_count": 12,
   "metadata": {},
   "outputs": [
    {
     "name": "stderr",
     "output_type": "stream",
     "text": [
      "/home/unixinternet/anaconda3/lib/python3.6/site-packages/ipykernel_launcher.py:1: SettingWithCopyWarning: \n",
      "A value is trying to be set on a copy of a slice from a DataFrame.\n",
      "Try using .loc[row_indexer,col_indexer] = value instead\n",
      "\n",
      "See the caveats in the documentation: http://pandas.pydata.org/pandas-docs/stable/indexing.html#indexing-view-versus-copy\n",
      "  \"\"\"Entry point for launching an IPython kernel.\n"
     ]
    }
   ],
   "source": [
    "doc_embeddings['embedding'] = doc_embeddings['all_text_parsed_words_separate'].apply(lambda x: text_to_embedding(x, vocab_dict))\n",
    "# test = doc_embeddings['all_text_parsed_words_separate'][:2].apply(lambda x: text_to_embedding(x, vocab_dict))\n",
    "# print(test[0].shape)"
   ]
  },
  {
   "cell_type": "code",
   "execution_count": null,
   "metadata": {},
   "outputs": [],
   "source": []
  },
  {
   "cell_type": "code",
   "execution_count": null,
   "metadata": {},
   "outputs": [],
   "source": []
  },
  {
   "cell_type": "code",
   "execution_count": 13,
   "metadata": {},
   "outputs": [
    {
     "data": {
      "text/html": [
       "<div>\n",
       "<style scoped>\n",
       "    .dataframe tbody tr th:only-of-type {\n",
       "        vertical-align: middle;\n",
       "    }\n",
       "\n",
       "    .dataframe tbody tr th {\n",
       "        vertical-align: top;\n",
       "    }\n",
       "\n",
       "    .dataframe thead th {\n",
       "        text-align: right;\n",
       "    }\n",
       "</style>\n",
       "<table border=\"1\" class=\"dataframe\">\n",
       "  <thead>\n",
       "    <tr style=\"text-align: right;\">\n",
       "      <th></th>\n",
       "      <th>product_id</th>\n",
       "      <th>all_text_parsed_words_separate</th>\n",
       "      <th>embedding</th>\n",
       "    </tr>\n",
       "  </thead>\n",
       "  <tbody>\n",
       "    <tr>\n",
       "      <th>0</th>\n",
       "      <td>102449</td>\n",
       "      <td>[the, only, complete, on-the-scene, account, o...</td>\n",
       "      <td>[-0.7803609108972251, 0.7220390528562086, -0.3...</td>\n",
       "    </tr>\n",
       "    <tr>\n",
       "      <th>1</th>\n",
       "      <td>5777</td>\n",
       "      <td>[fairy, phobic, or, trapped, in, a, true-life,...</td>\n",
       "      <td>[-0.7338308023839687, 0.7199498384431432, -0.4...</td>\n",
       "    </tr>\n",
       "    <tr>\n",
       "      <th>2</th>\n",
       "      <td>60246</td>\n",
       "      <td>[in, this, lush, lyrical, and, marvelously, ev...</td>\n",
       "      <td>[-0.699469349994298, 0.7185245910945053, -0.44...</td>\n",
       "    </tr>\n",
       "    <tr>\n",
       "      <th>3</th>\n",
       "      <td>82341</td>\n",
       "      <td>[robert, englander, is, principal, engineer, a...</td>\n",
       "      <td>[-0.685305181682898, 0.72182252733193, -0.4288...</td>\n",
       "    </tr>\n",
       "    <tr>\n",
       "      <th>4</th>\n",
       "      <td>172276</td>\n",
       "      <td>[text, english, hebrew\\tkerry, m, olitzky, dhl...</td>\n",
       "      <td>[-0.7293577930588524, 0.7098971846875336, -0.3...</td>\n",
       "    </tr>\n",
       "  </tbody>\n",
       "</table>\n",
       "</div>"
      ],
      "text/plain": [
       "   product_id                     all_text_parsed_words_separate  \\\n",
       "0      102449  [the, only, complete, on-the-scene, account, o...   \n",
       "1        5777  [fairy, phobic, or, trapped, in, a, true-life,...   \n",
       "2       60246  [in, this, lush, lyrical, and, marvelously, ev...   \n",
       "3       82341  [robert, englander, is, principal, engineer, a...   \n",
       "4      172276  [text, english, hebrew\\tkerry, m, olitzky, dhl...   \n",
       "\n",
       "                                           embedding  \n",
       "0  [-0.7803609108972251, 0.7220390528562086, -0.3...  \n",
       "1  [-0.7338308023839687, 0.7199498384431432, -0.4...  \n",
       "2  [-0.699469349994298, 0.7185245910945053, -0.44...  \n",
       "3  [-0.685305181682898, 0.72182252733193, -0.4288...  \n",
       "4  [-0.7293577930588524, 0.7098971846875336, -0.3...  "
      ]
     },
     "execution_count": 13,
     "metadata": {},
     "output_type": "execute_result"
    }
   ],
   "source": [
    "doc_embeddings.head()"
   ]
  },
  {
   "cell_type": "markdown",
   "metadata": {},
   "source": [
    "## get users needing models "
   ]
  },
  {
   "cell_type": "code",
   "execution_count": 14,
   "metadata": {},
   "outputs": [],
   "source": [
    "user_groups_train = train['user_product_ratings'].groupby('user_id')['user_id','product_id', 'rating']\n",
    "user_groups_val = train['user_product_ratings'].groupby('user_id')['user_id','product_id', 'rating']\n",
    "\n",
    "group_names_train = user_groups_train.groups.keys() \n",
    "# user_groups.get_group(0)\n",
    "# print('hi')"
   ]
  },
  {
   "cell_type": "code",
   "execution_count": 15,
   "metadata": {},
   "outputs": [
    {
     "name": "stdout",
     "output_type": "stream",
     "text": [
      "76212\n"
     ]
    }
   ],
   "source": [
    "\n",
    "val_up_rat = val['user_product_ratings']\n",
    "train_users = train['user_product_ratings'].user_id.unique()\n",
    "train_products = train['user_product_ratings'].product_id.unique()\n",
    "\n",
    "print(len(val_up_rat))\n",
    "A_data = val_up_rat[val_up_rat.user_id.isin(train_users) &\n",
    "                    val_up_rat.product_id.isin(train_products)]\n",
    "val_dat = A_data\n",
    "\n",
    "users_needing_models = val_dat.user_id.unique()"
   ]
  },
  {
   "cell_type": "code",
   "execution_count": 16,
   "metadata": {},
   "outputs": [],
   "source": [
    "doc_embeddings_cp = doc_embeddings.copy()\n",
    "doc_embeddings_cp.index = doc_embeddings_cp['product_id']"
   ]
  },
  {
   "cell_type": "markdown",
   "metadata": {},
   "source": [
    "## Linear Model"
   ]
  },
  {
   "cell_type": "code",
   "execution_count": 17,
   "metadata": {},
   "outputs": [],
   "source": [
    "from sklearn.linear_model import LinearRegression\n",
    "\n",
    "def get_y_for_user(user_id):\n",
    "    \n",
    "#     if user_id not in group_names:\n",
    "#         return -1 #### TODO \n",
    "    \n",
    "    ratings_train = user_groups_train.get_group(user_id)\n",
    "    y_mean = np.mean(ratings_train[\"rating\"])\n",
    "    y_train = ratings_train[\"rating\"] - y_mean\n",
    "\n",
    "    x_train = np.stack(\\\n",
    "        [doc_embeddings.loc[doc_embeddings['product_id'] == p].embedding.as_matrix()[0] \\\n",
    "         for p in ratings_train[\"product_id\"]])\n",
    "\n",
    "    reg = LinearRegression()\n",
    "\n",
    "    reg = reg.fit(x_train, y_train)\n",
    "    \n",
    "    # might want to set index of doc_embeddings to product_id\n",
    "    ratings_val = user_groups_val.get_group(user_id)\n",
    "    x_val = np.stack(\\\n",
    "        [doc_embeddings.loc[doc_embeddings['product_id'] == p].embedding.as_matrix()[0] \\\n",
    "         for p in ratings_val.product_id])\n",
    "    \n",
    "    y_pred = reg.predict(x_val) + y_mean\n",
    "        \n",
    "    ratings_val['pred'] = y_pred\n",
    "\n",
    "    return ratings_val"
   ]
  },
  {
   "cell_type": "code",
   "execution_count": null,
   "metadata": {},
   "outputs": [],
   "source": []
  },
  {
   "cell_type": "code",
   "execution_count": null,
   "metadata": {},
   "outputs": [],
   "source": []
  },
  {
   "cell_type": "code",
   "execution_count": null,
   "metadata": {},
   "outputs": [],
   "source": []
  },
  {
   "cell_type": "code",
   "execution_count": 19,
   "metadata": {},
   "outputs": [],
   "source": [
    "users_sampled =  np.random.choice(list(users_needing_models), size=1000, replace=False)"
   ]
  },
  {
   "cell_type": "code",
   "execution_count": null,
   "metadata": {},
   "outputs": [
    {
     "name": "stdout",
     "output_type": "stream",
     "text": [
      "user  0 : 2654\n"
     ]
    },
    {
     "name": "stderr",
     "output_type": "stream",
     "text": [
      "/home/unixinternet/anaconda3/lib/python3.6/site-packages/ipykernel_launcher.py:24: SettingWithCopyWarning: \n",
      "A value is trying to be set on a copy of a slice from a DataFrame.\n",
      "Try using .loc[row_indexer,col_indexer] = value instead\n",
      "\n",
      "See the caveats in the documentation: http://pandas.pydata.org/pandas-docs/stable/indexing.html#indexing-view-versus-copy\n"
     ]
    },
    {
     "name": "stdout",
     "output_type": "stream",
     "text": [
      "user  10 : 4568\n",
      "user  20 : 1985\n",
      "user  30 : 2027\n",
      "user  40 : 9143\n",
      "user  50 : 10394\n",
      "user  60 : 4308\n"
     ]
    }
   ],
   "source": [
    "## STEP 1: TODO: extract users\n",
    "results = pd.DataFrame(columns=train['user_product_ratings'].columns.tolist() + ['pred'])\n",
    "\n",
    "i = 0 \n",
    "for user in users_sampled:\n",
    "    if(i % 10) == 0:\n",
    "        print('user ', i, ':',user)\n",
    "    df = get_y_for_user(user)\n",
    "    results = results.append(df, ignore_index=True)\n",
    "    i = i+1"
   ]
  },
  {
   "cell_type": "code",
   "execution_count": null,
   "metadata": {},
   "outputs": [],
   "source": [
    "results.head()"
   ]
  },
  {
   "cell_type": "code",
   "execution_count": null,
   "metadata": {},
   "outputs": [],
   "source": [
    "diff_sqrd = [(results.rating[i]-results.pred[i])**2 for i in range(len(results.pred))]"
   ]
  },
  {
   "cell_type": "code",
   "execution_count": null,
   "metadata": {},
   "outputs": [],
   "source": [
    "MSE = np.sqrt(np.mean(diff_sqrd))"
   ]
  },
  {
   "cell_type": "code",
   "execution_count": null,
   "metadata": {},
   "outputs": [],
   "source": [
    "MSE"
   ]
  },
  {
   "cell_type": "code",
   "execution_count": 42,
   "metadata": {},
   "outputs": [],
   "source": [
    "def accuracy(pred, ground_truth):\n",
    "    return (np.round(pred) == ground_truth).sum() / float(len(pred))"
   ]
  },
  {
   "cell_type": "code",
   "execution_count": 43,
   "metadata": {},
   "outputs": [
    {
     "data": {
      "text/plain": [
       "0.905494249579019"
      ]
     },
     "execution_count": 43,
     "metadata": {},
     "output_type": "execute_result"
    }
   ],
   "source": [
    "accuracy(results.pred, results.rating)"
   ]
  },
  {
   "cell_type": "code",
   "execution_count": 48,
   "metadata": {},
   "outputs": [],
   "source": [
    "import pickle\n",
    "\n",
    "pickle.dump( results, open( \"Amazon10_glove_experiments/results.p\", \"wb\" ) )\n",
    "pickle.dump( doc_embeddings_cp, open( \"Amazon10_glove_experiments/doc_embeddings_cp.p\", \"wb\" ) )\n"
   ]
  },
  {
   "cell_type": "code",
   "execution_count": 49,
   "metadata": {},
   "outputs": [],
   "source": []
  },
  {
   "cell_type": "code",
   "execution_count": null,
   "metadata": {},
   "outputs": [],
   "source": []
  }
 ],
 "metadata": {
  "kernelspec": {
   "display_name": "Python 3",
   "language": "python",
   "name": "python3"
  },
  "language_info": {
   "codemirror_mode": {
    "name": "ipython",
    "version": 3
   },
   "file_extension": ".py",
   "mimetype": "text/x-python",
   "name": "python",
   "nbconvert_exporter": "python",
   "pygments_lexer": "ipython3",
   "version": "3.6.4"
  }
 },
 "nbformat": 4,
 "nbformat_minor": 2
}
